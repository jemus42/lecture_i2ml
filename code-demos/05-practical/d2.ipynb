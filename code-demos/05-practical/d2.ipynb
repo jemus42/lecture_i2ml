{
 "cells": [
  {
   "cell_type": "markdown",
   "metadata": {},
   "source": [
    "# 2nd Notebook for Machine Learning Intro Lecture"
   ]
  },
  {
   "cell_type": "markdown",
   "metadata": {},
   "source": [
    "# 1. Softmax Multinomial Regression"
   ]
  },
  {
   "cell_type": "markdown",
   "metadata": {},
   "source": [
    "# 2.  Quadratic Discriminant Analysis\n",
    "\n",
    "- In QDA, we caclulate the posteriori class probabilities like that:\n",
    "$$\n",
    "p(y = k | X) = \\pi_k |\\Sigma_k|^{-\\frac{1}{2}}\\exp(- \\frac{1}{2} x^T\\Sigma_k^{-1}x - \\frac{1}{2} \\mu_k^T \\Sigma_k^{-1} \\mu_k + x^T \\Sigma_k^{-1} \\mu_k \n",
    "$$\n",
    "* thus, we need those three ingredients for each of the $j = 1, ..., k$ classes:\n",
    "\n",
    "    * $\\hat{\\pi}_j = \\frac{n_j}{n}$ \n",
    "    * $\\hat{\\mu}_j = \\sum_{i: y_i = j} \\frac{x_i}{n_j}$  \n",
    "    * $\\hat{\\Sigma_j} = \\frac{1}{n_j - 1} \\sum_{i: y_i = j} (x_i - \\hat{\\mu}_j) (x_i - \\hat{\\mu}_j)^T $  \n"
   ]
  },
  {
   "cell_type": "markdown",
   "metadata": {},
   "source": [
    "### Implementation"
   ]
  },
  {
   "cell_type": "markdown",
   "metadata": {},
   "source": [
    "Function to train the QDA model"
   ]
  },
  {
   "cell_type": "code",
   "execution_count": 82,
   "metadata": {
    "collapsed": true
   },
   "outputs": [],
   "source": [
    "trainQDA = function(target, data) {\n",
    "  \n",
    "  n = nrow(data)\n",
    "  # which classes do we have?\n",
    "  classes = levels(data[, target])\n",
    "  target.col = which(colnames(data) == target)\n",
    "  \n",
    "  # over how many target classes do we iterate=\n",
    "  k = length(classes)\n",
    "  \n",
    "  # initilialize empty storage list\n",
    "  storage = rep(list(0), k)\n",
    "  \n",
    "  # calculate ingredients for each class\n",
    "  for(j in 1:k) {\n",
    "    \n",
    "    class.j = classes[j]\n",
    "    n.class = length(which(data[,target] == class.j))\n",
    "    \n",
    "    # prior\n",
    "    prior.j = n.class / n\n",
    "    \n",
    "    # mu vector\n",
    "    X.j = data[which(data[ ,target] == class.j), - (which(colnames(data) == target))]\n",
    "    mu.j = apply(X = X.j, MARGIN = 2, mean)\n",
    "    \n",
    "    # covariance matrix\n",
    "    cov.j = cov(X.j)\n",
    "    \n",
    "    # store results in nested list\n",
    "    storage.j = rep(list(0), 4)\n",
    "    storage.j[[1]] = class.j\n",
    "    storage.j[[2]] = prior.j\n",
    "    storage.j[[3]] = mu.j\n",
    "    storage.j[[4]] = cov.j\n",
    "    storage[[j]] = storage.j\n",
    "  }\n",
    "  return(storage)\n",
    "}"
   ]
  },
  {
   "cell_type": "markdown",
   "metadata": {},
   "source": [
    "Function to predict on a trained QDA model"
   ]
  },
  {
   "cell_type": "code",
   "execution_count": 83,
   "metadata": {
    "collapsed": true
   },
   "outputs": [],
   "source": [
    "predictQDA = function(model, data, out.mode = \"probs\") {\n",
    "  \n",
    "  # get info from model, purrr packages helps in data wrangling tasks\n",
    "  classes = unlist(purrr::map(model, 1))\n",
    "  p = length(unlist(model[[1]][3]))\n",
    "  k = length(classes)\n",
    "  \n",
    "  # stupid re-transpose to stick better with lecture\n",
    "  data = t(data)\n",
    "  \n",
    "  # calculate probabilities for each possible class\n",
    "  storage = cbind(classes, rep(0, k))\n",
    "  colnames(storage) = c(\"class\", \"posteriori\")\n",
    "  for (j in 1:k) {\n",
    "    \n",
    "    # retrieve the three ingredients from the trained model\n",
    "    priori.j = unlist(model[[j]][2])\n",
    "    mu.j = matrix(unlist(model[[j]][3]))\n",
    "    cov.j = matrix(unlist(model[[j]][4]), nrow = p)\n",
    "    \n",
    "    # invert covariance matrix only once\n",
    "    inv.cov.j = solve(cov.j)\n",
    "    # compute posteriori like in lecture\n",
    "    posteriori.j = priori.j * det(cov.j)^(-0.5) * \n",
    "      exp(-0.5 * t(data) %*% inv.cov.j %*% data - 0.5 * t(mu.j) %*% inv.cov.j %*% mu.j + t(data) %*% inv.cov.j %*% mu.j)\n",
    "    \n",
    "    # smart and elegant way\n",
    "    #TODO: discuss w/ Christoph\n",
    "    # dmnorm(t(data), mean = t(mu.j), varcov = cov.j*priori.j)\n",
    "    \n",
    "    storage[j, 2] = posteriori.j\n",
    "  }\n",
    "  # normalize to [0, 1] and round to 5 decimals\n",
    "  storage[, 2] = round(as.numeric(storage[, 2])/ sum(as.numeric(storage[, 2])), 5)\n",
    "  \n",
    "  # return major class or probability scores\n",
    "  if (out.mode == \"category\") {\n",
    "    return(storage[which(storage[, 2] == max(storage[, 2])), 1])\n",
    "  } else if (out.mode == \"probs\") {\n",
    "    return(storage)\n",
    "  }\n",
    "}\n",
    "\n"
   ]
  },
  {
   "cell_type": "markdown",
   "metadata": {},
   "source": [
    "### Evaluation"
   ]
  },
  {
   "cell_type": "markdown",
   "metadata": {},
   "source": [
    "Train and test on good old iris data set"
   ]
  },
  {
   "cell_type": "code",
   "execution_count": 84,
   "metadata": {
    "scrolled": true
   },
   "outputs": [],
   "source": [
    "data(iris)\n",
    "set.seed(1327)\n",
    "trainSize = 3/5\n",
    "trainIndices = sample(x = seq(1, nrow(iris), by = 1), size = ceiling(trainSize * nrow(iris)), replace = FALSE)\n",
    "irisTrain = iris[ trainIndices, ]\n",
    "irisTest = iris[ -trainIndices, ]"
   ]
  },
  {
   "cell_type": "code",
   "execution_count": 85,
   "metadata": {},
   "outputs": [],
   "source": [
    "# train\n",
    "model = trainQDA(target = \"Species\", data = irisTrain)\n",
    "# predict on one observation\n",
    "testPred = predictQDA(model = model, data = irisTrain[2, 1:4], out.mode = \"probs\")\n"
   ]
  },
  {
   "cell_type": "code",
   "execution_count": 86,
   "metadata": {},
   "outputs": [
    {
     "name": "stdout",
     "output_type": "stream",
     "text": [
      "            prediction\n",
      "true         setosa versicolor virginica\n",
      "  setosa         20          0         0\n",
      "  versicolor      0         15         8\n",
      "  virginica       0          0        17\n",
      "[1] \"mmce: 0.133333333333333\"\n"
     ]
    }
   ],
   "source": [
    "# Evaluate performance on test set\n",
    "# strange thing with the t(x), check that again\n",
    "testPreds = apply(irisTest[, 1:4], MARGIN = 1 , \n",
    "                  function(x) predictQDA(model = model, data = t(x), out.mode = \"category\"))\n",
    "\n",
    "results = data.frame(cbind(as.character(irisTest[, 5]), testPreds))\n",
    "colnames(results) = c(\"true\", \"prediction\")                      \n",
    "print(table(results))\n",
    "print(paste0(\"mmce: \", length(which(results$true != results$prediction)) / nrow(results)))\n",
    "                      "
   ]
  },
  {
   "cell_type": "markdown",
   "metadata": {
    "collapsed": true
   },
   "source": [
    "# 3. naive Spam Filter\n",
    "\n",
    "There are lots of different blog posts out there:\n",
    "* We could include the data from this [Sms classifier](https://rpubs.com/mzc/mlwr_nb_sms_spam) later\n",
    "* [this python nltk implement looks also interesting](https://cambridgespark.com/content/tutorials/implementing-your-own-spam-filter/index.html)\n",
    "* [they use a bigger database](https://www.r-bloggers.com/build-a-spam-filter-with-r/)\n",
    "\n"
   ]
  },
  {
   "cell_type": "markdown",
   "metadata": {},
   "source": [
    "### Theory\n",
    "\n",
    "Remember the naive Bayes formula for the posteriori probabilities:\n",
    "\n",
    "$$\n",
    "p(y = k | x) = p(y = k) * \\prod_{j = 1}^p p(x_j | y = k)\n",
    "$$\n",
    "\n",
    "Thus, we need two ingredients to calculate the class-wise posteriori probabilities:\n",
    "\n",
    "1. prioris: $p(y = k) = \\frac{n_k}{n}$\n",
    "2. conditional probabilities for all classes $k$ and features $j$: $p(x_j|y = k)$\n",
    "\n",
    "We use this to implement a rudimentary spam-detector!\n"
   ]
  },
  {
   "cell_type": "markdown",
   "metadata": {},
   "source": [
    "### Implementation"
   ]
  },
  {
   "cell_type": "markdown",
   "metadata": {},
   "source": [
    "#### Data"
   ]
  },
  {
   "cell_type": "code",
   "execution_count": 111,
   "metadata": {},
   "outputs": [
    {
     "data": {
      "text/html": [
       "<table>\n",
       "<thead><tr><th scope=col>advice</th><th scope=col>applications</th><th scope=col>article</th><th scope=col>blog</th><th scope=col>buy</th><th scope=col>drugs</th><th scope=col>favorurite</th><th scope=col>for</th><th scope=col>from</th><th scope=col>good</th><th scope=col>⋯</th><th scope=col>newsletter</th><th scope=col>now</th><th scope=col>online</th><th scope=col>our</th><th scope=col>pharma</th><th scope=col>prices</th><th scope=col>statistics</th><th scope=col>was</th><th scope=col>writing</th><th scope=col>your</th></tr></thead>\n",
       "<tbody>\n",
       "\t<tr><td>0</td><td>0</td><td>0</td><td>0</td><td>1</td><td>1</td><td>0</td><td>0</td><td>1</td><td>0</td><td>⋯</td><td>0</td><td>0</td><td>1</td><td>1</td><td>1</td><td>0</td><td>0</td><td>0</td><td>0</td><td>0</td></tr>\n",
       "\t<tr><td>0</td><td>0</td><td>0</td><td>0</td><td>1</td><td>0</td><td>0</td><td>0</td><td>0</td><td>0</td><td>⋯</td><td>0</td><td>1</td><td>0</td><td>0</td><td>0</td><td>1</td><td>0</td><td>0</td><td>0</td><td>0</td></tr>\n",
       "\t<tr><td>1</td><td>0</td><td>0</td><td>0</td><td>0</td><td>0</td><td>0</td><td>1</td><td>0</td><td>0</td><td>⋯</td><td>0</td><td>0</td><td>0</td><td>0</td><td>0</td><td>0</td><td>1</td><td>1</td><td>1</td><td>0</td></tr>\n",
       "\t<tr><td>0</td><td>0</td><td>0</td><td>1</td><td>0</td><td>0</td><td>1</td><td>0</td><td>1</td><td>0</td><td>⋯</td><td>1</td><td>0</td><td>0</td><td>0</td><td>0</td><td>0</td><td>1</td><td>0</td><td>0</td><td>1</td></tr>\n",
       "\t<tr><td>0</td><td>1</td><td>1</td><td>0</td><td>0</td><td>0</td><td>0</td><td>0</td><td>0</td><td>1</td><td>⋯</td><td>0</td><td>0</td><td>0</td><td>0</td><td>0</td><td>0</td><td>1</td><td>0</td><td>0</td><td>0</td></tr>\n",
       "</tbody>\n",
       "</table>\n"
      ],
      "text/latex": [
       "\\begin{tabular}{r|llllllllllllllllllllll}\n",
       " advice & applications & article & blog & buy & drugs & favorurite & for & from & good & ⋯ & newsletter & now & online & our & pharma & prices & statistics & was & writing & your\\\\\n",
       "\\hline\n",
       "\t 0 & 0 & 0 & 0 & 1 & 1 & 0 & 0 & 1 & 0 & ⋯ & 0 & 0 & 1 & 1 & 1 & 0 & 0 & 0 & 0 & 0\\\\\n",
       "\t 0 & 0 & 0 & 0 & 1 & 0 & 0 & 0 & 0 & 0 & ⋯ & 0 & 1 & 0 & 0 & 0 & 1 & 0 & 0 & 0 & 0\\\\\n",
       "\t 1 & 0 & 0 & 0 & 0 & 0 & 0 & 1 & 0 & 0 & ⋯ & 0 & 0 & 0 & 0 & 0 & 0 & 1 & 1 & 1 & 0\\\\\n",
       "\t 0 & 0 & 0 & 1 & 0 & 0 & 1 & 0 & 1 & 0 & ⋯ & 1 & 0 & 0 & 0 & 0 & 0 & 1 & 0 & 0 & 1\\\\\n",
       "\t 0 & 1 & 1 & 0 & 0 & 0 & 0 & 0 & 0 & 1 & ⋯ & 0 & 0 & 0 & 0 & 0 & 0 & 1 & 0 & 0 & 0\\\\\n",
       "\\end{tabular}\n"
      ],
      "text/markdown": [
       "\n",
       "advice | applications | article | blog | buy | drugs | favorurite | for | from | good | ⋯ | newsletter | now | online | our | pharma | prices | statistics | was | writing | your | \n",
       "|---|---|---|---|---|\n",
       "| 0 | 0 | 0 | 0 | 1 | 1 | 0 | 0 | 1 | 0 | ⋯ | 0 | 0 | 1 | 1 | 1 | 0 | 0 | 0 | 0 | 0 | \n",
       "| 0 | 0 | 0 | 0 | 1 | 0 | 0 | 0 | 0 | 0 | ⋯ | 0 | 1 | 0 | 0 | 0 | 1 | 0 | 0 | 0 | 0 | \n",
       "| 1 | 0 | 0 | 0 | 0 | 0 | 0 | 1 | 0 | 0 | ⋯ | 0 | 0 | 0 | 0 | 0 | 0 | 1 | 1 | 1 | 0 | \n",
       "| 0 | 0 | 0 | 1 | 0 | 0 | 1 | 0 | 1 | 0 | ⋯ | 1 | 0 | 0 | 0 | 0 | 0 | 1 | 0 | 0 | 1 | \n",
       "| 0 | 1 | 1 | 0 | 0 | 0 | 0 | 0 | 0 | 1 | ⋯ | 0 | 0 | 0 | 0 | 0 | 0 | 1 | 0 | 0 | 0 | \n",
       "\n",
       "\n"
      ],
      "text/plain": [
       "  advice applications article blog buy drugs favorurite for from good ⋯\n",
       "1 0      0            0       0    1   1     0          0   1    0    ⋯\n",
       "2 0      0            0       0    1   0     0          0   0    0    ⋯\n",
       "3 1      0            0       0    0   0     0          1   0    0    ⋯\n",
       "4 0      0            0       1    0   0     1          0   1    0    ⋯\n",
       "5 0      1            1       0    0   0     0          0   0    1    ⋯\n",
       "  newsletter now online our pharma prices statistics was writing your\n",
       "1 0          0   1      1   1      0      0          0   0       0   \n",
       "2 0          1   0      0   0      1      0          0   0       0   \n",
       "3 0          0   0      0   0      0      1          1   1       0   \n",
       "4 1          0   0      0   0      0      1          0   0       1   \n",
       "5 0          0   0      0   0      0      1          0   0       0   "
      ]
     },
     "metadata": {},
     "output_type": "display_data"
    }
   ],
   "source": [
    "# train data\n",
    "spam = c(\"buy drugs online from our pharma\",\n",
    "  \"buy insurance at low prices now\")\n",
    "ham = c(\"I was writing for statistics advice\",\n",
    "  \"newsletter from your favorurite statistics blog\",\n",
    "  \"good article on statistics applications\")\n",
    "\n",
    "all = c(spam, ham)\n",
    "# convert to word vcorpi\n",
    "corpusAll = tm::VCorpus(tm::VectorSource(all))\n",
    "corpusHam = tm::VCorpus(tm::VectorSource(ham))\n",
    "corpusSpam = tm::VCorpus(tm::VectorSource(spam))\n",
    "\n",
    "# compute term document matrix\n",
    "DTM = tm::DocumentTermMatrix(corpusAll)\n",
    "(wordMatrix = as.data.frame(as.matrix(DTM)))\n",
    "spamMatrix = wordMatrix[1:length(spam), ]\n",
    "hamMatrix = wordMatrix[(length(spam) + 1):length(all), ]\n"
   ]
  },
  {
   "cell_type": "code",
   "execution_count": 112,
   "metadata": {},
   "outputs": [
    {
     "data": {
      "image/png": "[encoded data removed]",
      "text/plain": [
       "plot without title"
      ]
     },
     "metadata": {},
     "output_type": "display_data"
    },
    {
     "data": {
      "image/png": "[encoded data removed]",
      "text/plain": [
       "plot without title"
      ]
     },
     "metadata": {},
     "output_type": "display_data"
    },
    {
     "data": {
      "image/png": "[encoded data removed]",
      "text/plain": [
       "plot without title"
      ]
     },
     "metadata": {},
     "output_type": "display_data"
    }
   ],
   "source": [
    "# Zueckerle. wordclouds per class\n",
    "wordcloud::wordcloud(corpusAll, min.freq = 1)\n",
    "wordcloud::wordcloud(corpusHam, min.freq = 1)\n",
    "wordcloud::wordcloud(corpusSpam, min.freq = 1)"
   ]
  },
  {
   "cell_type": "markdown",
   "metadata": {},
   "source": [
    "#### Training"
   ]
  },
  {
   "cell_type": "code",
   "execution_count": 113,
   "metadata": {
    "collapsed": true
   },
   "outputs": [],
   "source": [
    "# calculate ingredients\n",
    "\n",
    "# prioris:\n",
    "prioriHam = length(ham) / length(all)\n",
    "prioriSpam = length(spam) / length(all)\n",
    "\n",
    "# probablity vectors for each class:\n",
    "# p(occurence term | y = k)\n",
    "# spam\n",
    "pSpam = apply(spamMatrix, MARGIN = 2, function(x) sum(x) / nrow(spamMatrix) )\n",
    "pHam = apply(hamMatrix, MARGIN = 2, function(x) sum(x) / nrow(hamMatrix))\n",
    "# assign super low values to 0-prob terms: 0.01\n",
    "pSpam = ifelse(pSpam == 0, 1/length(pSpam), pSpam)\n",
    "pHam = ifelse(pHam == 0, 1/length(pHam), pHam)"
   ]
  },
  {
   "cell_type": "code",
   "execution_count": 114,
   "metadata": {
    "collapsed": true
   },
   "outputs": [],
   "source": [
    "# function that calculates posteriori per class\n",
    "scoreClass = function(test, probVector, prior) {\n",
    "  # transform to document term matrix (vector)\n",
    "  testMatrix = as.data.frame(as.matrix(tm::DocumentTermMatrix(tm::VCorpus(tm::VectorSource(test)))))\n",
    "\n",
    "  # calculate p(word occurence | y = k) for each word in test, remove NAs and multiply them\n",
    "  # multiply with prior value, this is our posteriori\n",
    "  return(round(prior * prod(probVector[names(testMatrix)], na.rm = TRUE), 6))\n",
    "}\n",
    "\n",
    "# wrapper for both cases\n",
    "classifySpamNaive = function(test, pSpam, pHam, prioriSpam, prioriHam, output = \"class\") {\n",
    "\n",
    "  # calculate posterioris\n",
    "  postSpam = scoreClass(test = testMail, probVector = pSpam, prior = prioriSpam)\n",
    "  postHam = scoreClass(test = testMail, probVector = pHam, prior = prioriHam)\n",
    "\n",
    "  # classify\n",
    "  class = if (postSpam > postHam) {\n",
    "    class = \"spam\"\n",
    "  } else {\n",
    "    class = \"ham\"\n",
    "  }\n",
    "\n",
    "  # return results\n",
    "  if (output == \"class\") {\n",
    "    return(class)\n",
    "  } else if (output == \"probs\") {\n",
    "    return(list(c(postSpam = postSpam, postHam = postHam, class = class)))\n",
    "  }\n",
    "}"
   ]
  },
  {
   "cell_type": "markdown",
   "metadata": {},
   "source": [
    "#### Test and evaluate"
   ]
  },
  {
   "cell_type": "code",
   "execution_count": 115,
   "metadata": {},
   "outputs": [
    {
     "data": {
      "text/html": [
       "<ol>\n",
       "\t<li><dl class=dl-horizontal>\n",
       "\t<dt>postSpam</dt>\n",
       "\t\t<dd>'0.025'</dd>\n",
       "\t<dt>postHam</dt>\n",
       "\t\t<dd>'0'</dd>\n",
       "\t<dt>class</dt>\n",
       "\t\t<dd>'spam'</dd>\n",
       "</dl>\n",
       "</li>\n",
       "</ol>\n"
      ],
      "text/latex": [
       "\\begin{enumerate}\n",
       "\\item \\begin{description*}\n",
       "\\item[postSpam] '0.025'\n",
       "\\item[postHam] '0'\n",
       "\\item[class] 'spam'\n",
       "\\end{description*}\n",
       "\n",
       "\\end{enumerate}\n"
      ],
      "text/markdown": [
       "1. postSpam\n",
       ":   '0.025'postHam\n",
       ":   '0'class\n",
       ":   'spam'\n",
       "\n",
       "\n",
       "\n",
       "\n"
      ],
      "text/plain": [
       "[[1]]\n",
       "postSpam  postHam    class \n",
       " \"0.025\"      \"0\"   \"spam\" \n"
      ]
     },
     "metadata": {},
     "output_type": "display_data"
    },
    {
     "data": {
      "text/html": [
       "<ol>\n",
       "\t<li><dl class=dl-horizontal>\n",
       "\t<dt>postSpam</dt>\n",
       "\t\t<dd>'0.05'</dd>\n",
       "\t<dt>postHam</dt>\n",
       "\t\t<dd>'3e-06'</dd>\n",
       "\t<dt>class</dt>\n",
       "\t\t<dd>'spam'</dd>\n",
       "</dl>\n",
       "</li>\n",
       "</ol>\n"
      ],
      "text/latex": [
       "\\begin{enumerate}\n",
       "\\item \\begin{description*}\n",
       "\\item[postSpam] '0.05'\n",
       "\\item[postHam] '3e-06'\n",
       "\\item[class] 'spam'\n",
       "\\end{description*}\n",
       "\n",
       "\\end{enumerate}\n"
      ],
      "text/markdown": [
       "1. postSpam\n",
       ":   '0.05'postHam\n",
       ":   '3e-06'class\n",
       ":   'spam'\n",
       "\n",
       "\n",
       "\n",
       "\n"
      ],
      "text/plain": [
       "[[1]]\n",
       "postSpam  postHam    class \n",
       "  \"0.05\"  \"3e-06\"   \"spam\" \n"
      ]
     },
     "metadata": {},
     "output_type": "display_data"
    },
    {
     "data": {
      "text/html": [
       "<ol>\n",
       "\t<li><dl class=dl-horizontal>\n",
       "\t<dt>postSpam</dt>\n",
       "\t\t<dd>'0'</dd>\n",
       "\t<dt>postHam</dt>\n",
       "\t\t<dd>'0.002469'</dd>\n",
       "\t<dt>class</dt>\n",
       "\t\t<dd>'ham'</dd>\n",
       "</dl>\n",
       "</li>\n",
       "</ol>\n"
      ],
      "text/latex": [
       "\\begin{enumerate}\n",
       "\\item \\begin{description*}\n",
       "\\item[postSpam] '0'\n",
       "\\item[postHam] '0.002469'\n",
       "\\item[class] 'ham'\n",
       "\\end{description*}\n",
       "\n",
       "\\end{enumerate}\n"
      ],
      "text/markdown": [
       "1. postSpam\n",
       ":   '0'postHam\n",
       ":   '0.002469'class\n",
       ":   'ham'\n",
       "\n",
       "\n",
       "\n",
       "\n"
      ],
      "text/plain": [
       "[[1]]\n",
       "  postSpam    postHam      class \n",
       "       \"0\" \"0.002469\"      \"ham\" \n"
      ]
     },
     "metadata": {},
     "output_type": "display_data"
    }
   ],
   "source": [
    "# Test on \"real world data\"\n",
    "\n",
    "testMail = \"buy now online low price insurance\"\n",
    "classifySpamNaive(test = testMail, pSpam = pSpam, pHam = pHam,\n",
    "  prioriSpam = prioriSpam, prioriHam = prioriHam, output = \"probs\")\n",
    "\n",
    "testMail = \"buy drug based pharma insurance online\"\n",
    "classifySpamNaive(test = testMail, pSpam = pSpam, pHam = pHam,\n",
    "  prioriSpam = prioriSpam, prioriHam = prioriHam, output = \"probs\")\n",
    "\n",
    "testMail = \"good article for your statistics newsletter\"\n",
    "classifySpamNaive(test = testMail, pSpam = pSpam, pHam = pHam,\n",
    "  prioriSpam = prioriSpam, prioriHam = prioriHam, output = \"probs\")"
   ]
  },
  {
   "cell_type": "markdown",
   "metadata": {},
   "source": [
    "# 4. Different decision boundaries via mlr\n",
    "\n",
    "mlr_a_4.Rnw"
   ]
  },
  {
   "cell_type": "code",
   "execution_count": null,
   "metadata": {
    "collapsed": true
   },
   "outputs": [],
   "source": []
  },
  {
   "cell_type": "code",
   "execution_count": null,
   "metadata": {
    "collapsed": true
   },
   "outputs": [],
   "source": []
  }
 ],
 "metadata": {
  "kernelspec": {
   "display_name": "R",
   "language": "R",
   "name": "ir"
  },
  "language_info": {
   "codemirror_mode": "r",
   "file_extension": ".r",
   "mimetype": "text/x-r-source",
   "name": "R",
   "pygments_lexer": "r",
   "version": "3.4.3"
  }
 },
 "nbformat": 4,
 "nbformat_minor": 2
}
