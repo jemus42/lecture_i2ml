{
 "cells": [
  {
   "cell_type": "markdown",
   "metadata": {},
   "source": [
    "# 2nd Notebook for Machine Learning Intro Lecture"
   ]
  },
  {
   "cell_type": "markdown",
   "metadata": {},
   "source": [
    "## 1. Introduction to Classification in ML\n"
   ]
  },
  {
   "cell_type": "markdown",
   "metadata": {},
   "source": [
    "## 2. Logistic Regression \n",
    "- Softmax multinomial regression example\n"
   ]
  },
  {
   "cell_type": "markdown",
   "metadata": {
    "collapsed": true
   },
   "source": [
    "## 3. Approaches to Classification\n",
    "\n",
    "- build small spam filter with naive bayes:\n",
    "    - [data set](\"Desktop/job_compstat/openml_task/higgs3\")\n",
    "    - [small tutorial with python code](https://cambridgespark.com/content/tutorials/implementing-your-own-spam-filter/index.html)\n",
    "- Graphic play-around with multivariate distributions (small shiny app that allows for input of 2-dim covariance matrix and plots two distributions - once could recycle jann's code for that)\n",
    "    \n"
   ]
  },
  {
   "cell_type": "markdown",
   "metadata": {
    "collapsed": true
   },
   "source": [
    "## 4. Two cultures of modeling\n",
    "\n"
   ]
  }
 ],
 "metadata": {
  "kernelspec": {
   "display_name": "R",
   "language": "R",
   "name": "ir"
  },
  "language_info": {
   "codemirror_mode": "r",
   "file_extension": ".r",
   "mimetype": "text/x-r-source",
   "name": "R",
   "pygments_lexer": "r",
   "version": "3.4.3"
  }
 },
 "nbformat": 4,
 "nbformat_minor": 2
}
