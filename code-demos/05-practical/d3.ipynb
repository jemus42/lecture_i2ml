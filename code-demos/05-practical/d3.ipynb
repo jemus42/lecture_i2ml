{
 "cells": [
  {
   "cell_type": "markdown",
   "metadata": {},
   "source": [
    "# 3rd Notebook for Machine Learning Intro Lecture"
   ]
  },
  {
   "cell_type": "markdown",
   "metadata": {},
   "source": [
    "## 1. Performance Estimation\n",
    "\n",
    "- show overfitting with practical data set\n",
    "- explain early stopping with validation data as strategy to overcome overfitting?\n"
   ]
  },
  {
   "cell_type": "markdown",
   "metadata": {},
   "source": [
    "## 2. Resampling \n",
    "- hard code CV-algorithm\n",
    "- compare with mlr's inmplementation \n",
    "\n"
   ]
  },
  {
   "cell_type": "markdown",
   "metadata": {
    "collapsed": true
   },
   "source": [
    "## 3. Nested Resampling \n",
    "- Update hard-coded algrithm from part2\n",
    "- show example for overtuning.\n",
    "    - 1) tune with nested resampling\n",
    "    - 2) tune without - overtuning\n",
    "    - -> test performance on super external test data set\n",
    "   "
   ]
  },
  {
   "cell_type": "markdown",
   "metadata": {
    "collapsed": true
   },
   "source": [
    "## 4. Confusion matrices, ROC etc.\n",
    "\n"
   ]
  }
 ],
 "metadata": {
  "kernelspec": {
   "display_name": "R",
   "language": "R",
   "name": "ir"
  },
  "language_info": {
   "codemirror_mode": "r",
   "file_extension": ".r",
   "mimetype": "text/x-r-source",
   "name": "R",
   "pygments_lexer": "r",
   "version": "3.4.3"
  }
 },
 "nbformat": 4,
 "nbformat_minor": 2
}
