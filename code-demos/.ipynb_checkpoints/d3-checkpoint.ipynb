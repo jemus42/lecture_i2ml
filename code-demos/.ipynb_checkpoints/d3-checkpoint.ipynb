{
 "cells": [
  {
   "cell_type": "markdown",
   "metadata": {},
   "source": [
    "# 3rd Notebook for Machine Learning Intro Lecture"
   ]
  },
  {
   "cell_type": "markdown",
   "metadata": {},
   "source": [
    "## 1. How not to split: the good, the bad, the ugly\n",
    "\n",
    "How does the choice of the split in train and test data affect the model?\n",
    "\n"
   ]
  },
  {
   "cell_type": "markdown",
   "metadata": {},
   "source": [
    "### the good split\n",
    "\n",
    "we train on the data 1:30 and test on 31:50. Remember, that iris is an ordered data set with the first 50 obsverations being setosa, the next 50 versicolor and the last 50 virginica. "
   ]
  },
  {
   "cell_type": "code",
   "execution_count": 2,
   "metadata": {},
   "outputs": [
    {
     "name": "stderr",
     "output_type": "stream",
     "text": [
      "Loading required package: ParamHelpers\n",
      "Loading required package: kknn\n"
     ]
    },
    {
     "data": {
      "text/html": [
       "<strong>mmce:</strong> 0"
      ],
      "text/latex": [
       "\\textbf{mmce:} 0"
      ],
      "text/markdown": [
       "**mmce:** 0"
      ],
      "text/plain": [
       "mmce \n",
       "   0 "
      ]
     },
     "metadata": {},
     "output_type": "display_data"
    },
    {
     "data": {
      "text/plain": [
       "            predicted\n",
       "true         setosa versicolor virginica -err.-\n",
       "  setosa         20          0         0      0\n",
       "  versicolor      0          0         0      0\n",
       "  virginica       0          0         0      0\n",
       "  -err.-          0          0         0      0"
      ]
     },
     "metadata": {},
     "output_type": "display_data"
    }
   ],
   "source": [
    "library(mlr)\n",
    "library(ggplot2)\n",
    "\n",
    "task = makeClassifTask(data = iris, target = \"Species\")\n",
    "learner = makeLearner(\"classif.kknn\", k = 3)\n",
    "model = train(learner, task, subset = c(1:30))\n",
    "pred = predict(model, task = task, subset = 31:50)\n",
    "performance(pred, measures = mmce)\n",
    "calculateConfusionMatrix(pred)"
   ]
  },
  {
   "cell_type": "markdown",
   "metadata": {},
   "source": [
    "### the bad split\n",
    "\n",
    "we train on the data 1:100 and test on 101:150."
   ]
  },
  {
   "cell_type": "code",
   "execution_count": 3,
   "metadata": {},
   "outputs": [
    {
     "data": {
      "text/html": [
       "<strong>mmce:</strong> 1"
      ],
      "text/latex": [
       "\\textbf{mmce:} 1"
      ],
      "text/markdown": [
       "**mmce:** 1"
      ],
      "text/plain": [
       "mmce \n",
       "   1 "
      ]
     },
     "metadata": {},
     "output_type": "display_data"
    },
    {
     "data": {
      "text/plain": [
       "            predicted\n",
       "true         setosa versicolor virginica -err.-\n",
       "  setosa          0          0         0      0\n",
       "  versicolor      0          0         0      0\n",
       "  virginica       0         50         0     50\n",
       "  -err.-          0         50         0     50"
      ]
     },
     "metadata": {},
     "output_type": "display_data"
    }
   ],
   "source": [
    "task = makeClassifTask(data = iris, target = \"Species\")\n",
    "learner = makeLearner(\"classif.kknn\", k = 3)\n",
    "model = train(learner, task, subset = c(1:100))\n",
    "pred = predict(model, task = task, subset = 101:150)\n",
    "performance(pred, measures = mmce)\n",
    "calculateConfusionMatrix(pred)"
   ]
  },
  {
   "cell_type": "markdown",
   "metadata": {},
   "source": [
    "### the ugly split\n"
   ]
  },
  {
   "cell_type": "code",
   "execution_count": 4,
   "metadata": {},
   "outputs": [
    {
     "data": {
      "text/html": [
       "<strong>mmce:</strong> 0.18"
      ],
      "text/latex": [
       "\\textbf{mmce:} 0.18"
      ],
      "text/markdown": [
       "**mmce:** 0.18"
      ],
      "text/plain": [
       "mmce \n",
       "0.18 "
      ]
     },
     "metadata": {},
     "output_type": "display_data"
    },
    {
     "data": {
      "text/plain": [
       "            predicted\n",
       "true         setosa versicolor virginica -err.-\n",
       "  setosa          5          0         0      0\n",
       "  versicolor      0          5         0      0\n",
       "  virginica       0          9        31      9\n",
       "  -err.-          0          9         0      9"
      ]
     },
     "metadata": {},
     "output_type": "display_data"
    }
   ],
   "source": [
    "task = makeClassifTask(data = iris, target = \"Species\")\n",
    "learner = makeLearner(\"classif.kknn\", k = 3)\n",
    "model = train(learner, task, subset = c(1:45, 51:95, 101:110))\n",
    "pred = predict(model, task = task, subset = c(46:50, 96:100, 111:150))\n",
    "performance(pred, measures = mmce)\n",
    "calculateConfusionMatrix(pred)"
   ]
  },
  {
   "cell_type": "markdown",
   "metadata": {},
   "source": [
    "## 2. Overfitting kNN\n",
    "\n",
    "Check the performance of our knn-classifier on the test and train set depending on the hyperparameter k:"
   ]
  },
  {
   "cell_type": "code",
   "execution_count": 5,
   "metadata": {},
   "outputs": [
    {
     "data": {
      "image/png": "[encoded data removed]",
      "text/plain": [
       "Plot with title “Overfitting behavior KNN”"
      ]
     },
     "metadata": {},
     "output_type": "display_data"
    }
   ],
   "source": [
    "library(mlr)\n",
    "library(mlbench)\n",
    "\n",
    "set.seed(13)\n",
    "spiral = as.data.frame(mlbench.spirals(n = 500, sd = 0.1))\n",
    "trainSize = 3/4\n",
    "trainIndices = sample(x = seq(1, nrow(spiral), by = 1), size = ceiling(trainSize * nrow(spiral)), replace = FALSE)\n",
    "spiralTrain = spiral[ trainIndices, ]\n",
    "spiralTest = spiral[ -trainIndices, ]\n",
    "\n",
    "\n",
    "\n",
    "# run experiment\n",
    "k.values = rev(c(1, 2, 3, 4, 5, 7, 8, 9, 10, 15, 20, 25, 30, 35, 45, 50, 60, 70, 80, 90, 100))\n",
    "storage = data.frame(matrix(NA, ncol = 3, nrow = length(k.values)))\n",
    "colnames(storage) = c(\"mmce_train\", \"mmce_test\", \"k\")\n",
    "\n",
    "for (i in 1:length(k.values)) {\n",
    "\n",
    "  spiralTask = makeClassifTask(data = spiralTrain, target = \"classes\")\n",
    "  spiralLearner = makeLearner(\"classif.kknn\", k = k.values[i])\n",
    "  spiralModel = train(learner = spiralLearner, task = spiralTask)\n",
    "\n",
    "  # test data\n",
    "  # choose additional measures from: listMeasures(irisTask)\n",
    "  spiralPred = predict(spiralModel, newdata = spiralTest[])\n",
    "  storage[i, \"mmce_test\"] = performance(pred = spiralPred, measures = mmce)\n",
    "\n",
    "  # train data\n",
    "  spiralPred = predict(spiralModel, newdata = spiralTrain[])\n",
    "  storage[i, \"mmce_train\"] = performance(pred = spiralPred, measures = mmce)\n",
    "\n",
    "  storage[i, \"k\"] = k.values[i]\n",
    "}\n",
    "\n",
    "storage = storage[rev(order(storage$k)),]\n",
    "\n",
    "plot(x = storage$k, y = storage$mmce_train, main = \"Overfitting behavior KNN\",\n",
    "  xlab = \"k\", ylab = \"mmce\", col = \"blue\", type = \"l\",\n",
    "  xlim = rev(range(storage$k)),\n",
    "  ylim = c(min(storage$mmce_train, storage$mmce_test), \n",
    "    max(storage$mmce_train, storage$mmce_test)))\n",
    "lines(x = storage$k, y = storage$mmce_test, col = \"orange\")\n",
    "legend(\"bottomleft\", c(\"test\", \"train\"), col = c(\"orange\", \"blue\"), lty = 1)"
   ]
  },
  {
   "cell_type": "markdown",
   "metadata": {},
   "source": [
    "## 3. Resampling \n",
    "\n"
   ]
  },
  {
   "cell_type": "markdown",
   "metadata": {},
   "source": [
    "### Self made Cross Validation\n",
    "\n",
    "We want to assess the performance of our model aka estimate its Generalization error. Why is it a good idea to use Cross-Validation?"
   ]
  },
  {
   "cell_type": "code",
   "execution_count": 41,
   "metadata": {},
   "outputs": [
    {
     "data": {
      "text/html": [
       "<table>\n",
       "<thead><tr><th scope=col>storage</th></tr></thead>\n",
       "<tbody>\n",
       "\t<tr><td>0.08</td></tr>\n",
       "\t<tr><td>0.08</td></tr>\n",
       "\t<tr><td>0.10</td></tr>\n",
       "\t<tr><td>0.06</td></tr>\n",
       "\t<tr><td>0.08</td></tr>\n",
       "\t<tr><td>0.12</td></tr>\n",
       "\t<tr><td>0.16</td></tr>\n",
       "\t<tr><td>0.06</td></tr>\n",
       "\t<tr><td>0.18</td></tr>\n",
       "\t<tr><td>0.10</td></tr>\n",
       "</tbody>\n",
       "</table>\n"
      ],
      "text/latex": [
       "\\begin{tabular}{r|l}\n",
       " storage\\\\\n",
       "\\hline\n",
       "\t 0.08\\\\\n",
       "\t 0.08\\\\\n",
       "\t 0.10\\\\\n",
       "\t 0.06\\\\\n",
       "\t 0.08\\\\\n",
       "\t 0.12\\\\\n",
       "\t 0.16\\\\\n",
       "\t 0.06\\\\\n",
       "\t 0.18\\\\\n",
       "\t 0.10\\\\\n",
       "\\end{tabular}\n"
      ],
      "text/markdown": [
       "\n",
       "storage | \n",
       "|---|---|---|---|---|---|---|---|---|---|\n",
       "| 0.08 | \n",
       "| 0.08 | \n",
       "| 0.10 | \n",
       "| 0.06 | \n",
       "| 0.08 | \n",
       "| 0.12 | \n",
       "| 0.16 | \n",
       "| 0.06 | \n",
       "| 0.18 | \n",
       "| 0.10 | \n",
       "\n",
       "\n"
      ],
      "text/plain": [
       "   storage\n",
       "1  0.08   \n",
       "2  0.08   \n",
       "3  0.10   \n",
       "4  0.06   \n",
       "5  0.08   \n",
       "6  0.12   \n",
       "7  0.16   \n",
       "8  0.06   \n",
       "9  0.18   \n",
       "10 0.10   "
      ]
     },
     "metadata": {},
     "output_type": "display_data"
    },
    {
     "data": {
      "text/html": [
       "0.102"
      ],
      "text/latex": [
       "0.102"
      ],
      "text/markdown": [
       "0.102"
      ],
      "text/plain": [
       "[1] 0.102"
      ]
     },
     "metadata": {},
     "output_type": "display_data"
    }
   ],
   "source": [
    "selfCV = function(data, target, folds, k) {\n",
    "\n",
    "  storage = as.numeric(folds)\n",
    "\n",
    "  set.seed(1337)\n",
    "  indices = sample(x = seq(1, nrow(data), by = 1), size = nrow(data), replace = FALSE)\n",
    "\n",
    "  # index matrix for folds\n",
    "  indexMat = matrix(data = indices, byrow = TRUE, nrow = folds)\n",
    "\n",
    "  for (i in 1:folds) {\n",
    "\n",
    "    # data\n",
    "    testData = data[indexMat[i, ], ]\n",
    "    trainData = data[-indexMat[i, ], ]\n",
    "\n",
    "    # model\n",
    "    task = makeClassifTask(data = trainData, target = target)\n",
    "    learner = makeLearner(\"classif.kknn\", k = k)\n",
    "    model = train(learner = learner, task = task)\n",
    "    storage[i] = performance(predict(model, newdata = testData),\n",
    "      measures = mmce)[[1]]\n",
    "  }\n",
    "\n",
    "  return(list(folds = folds, storage = as.data.frame(storage), GE = mean(storage)))\n",
    "}\n",
    "\n",
    "foo = selfCV(data = spiral, target = \"classes\", folds = 10, k = 3)\n",
    "foo$storage\n",
    "foo$GE\n"
   ]
  },
  {
   "cell_type": "code",
   "execution_count": 42,
   "metadata": {},
   "outputs": [
    {
     "data": {},
     "metadata": {},
     "output_type": "display_data"
    },
    {
     "data": {
      "image/png": "[encoded data removed]",
      "text/plain": [
       "plot without title"
      ]
     },
     "metadata": {},
     "output_type": "display_data"
    }
   ],
   "source": [
    "p = ggplot(data = foo$storage, aes(y = storage, x = 1)) +\n",
    "  geom_boxplot() +\n",
    "  ggtitle(label = \"Generalization error CV\") +\n",
    "  xlab(\"\") + ylab(\"mmce\") + xlim(c(0,2))\n",
    "p"
   ]
  },
  {
   "cell_type": "markdown",
   "metadata": {},
   "source": [
    "### mlr's CV implementation"
   ]
  },
  {
   "cell_type": "code",
   "execution_count": 43,
   "metadata": {},
   "outputs": [
    {
     "data": {
      "text/plain": [
       "Resample Result\n",
       "Task: spiral\n",
       "Learner: classif.knn\n",
       "Aggr perf: mmce.test.mean= 0.1\n",
       "Runtime: 0.04936"
      ]
     },
     "metadata": {},
     "output_type": "display_data"
    },
    {
     "data": {
      "text/html": [
       "<table>\n",
       "<thead><tr><th scope=col>iter</th><th scope=col>mmce</th></tr></thead>\n",
       "<tbody>\n",
       "\t<tr><td> 1  </td><td>0.14</td></tr>\n",
       "\t<tr><td> 2  </td><td>0.08</td></tr>\n",
       "\t<tr><td> 3  </td><td>0.04</td></tr>\n",
       "\t<tr><td> 4  </td><td>0.04</td></tr>\n",
       "\t<tr><td> 5  </td><td>0.14</td></tr>\n",
       "\t<tr><td> 6  </td><td>0.08</td></tr>\n",
       "\t<tr><td> 7  </td><td>0.10</td></tr>\n",
       "\t<tr><td> 8  </td><td>0.10</td></tr>\n",
       "\t<tr><td> 9  </td><td>0.14</td></tr>\n",
       "\t<tr><td>10  </td><td>0.14</td></tr>\n",
       "</tbody>\n",
       "</table>\n"
      ],
      "text/latex": [
       "\\begin{tabular}{r|ll}\n",
       " iter & mmce\\\\\n",
       "\\hline\n",
       "\t  1   & 0.14\\\\\n",
       "\t  2   & 0.08\\\\\n",
       "\t  3   & 0.04\\\\\n",
       "\t  4   & 0.04\\\\\n",
       "\t  5   & 0.14\\\\\n",
       "\t  6   & 0.08\\\\\n",
       "\t  7   & 0.10\\\\\n",
       "\t  8   & 0.10\\\\\n",
       "\t  9   & 0.14\\\\\n",
       "\t 10   & 0.14\\\\\n",
       "\\end{tabular}\n"
      ],
      "text/markdown": [
       "\n",
       "iter | mmce | \n",
       "|---|---|---|---|---|---|---|---|---|---|\n",
       "|  1   | 0.14 | \n",
       "|  2   | 0.08 | \n",
       "|  3   | 0.04 | \n",
       "|  4   | 0.04 | \n",
       "|  5   | 0.14 | \n",
       "|  6   | 0.08 | \n",
       "|  7   | 0.10 | \n",
       "|  8   | 0.10 | \n",
       "|  9   | 0.14 | \n",
       "| 10   | 0.14 | \n",
       "\n",
       "\n"
      ],
      "text/plain": [
       "   iter mmce\n",
       "1   1   0.14\n",
       "2   2   0.08\n",
       "3   3   0.04\n",
       "4   4   0.04\n",
       "5   5   0.14\n",
       "6   6   0.08\n",
       "7   7   0.10\n",
       "8   8   0.10\n",
       "9   9   0.14\n",
       "10 10   0.14"
      ]
     },
     "metadata": {},
     "output_type": "display_data"
    }
   ],
   "source": [
    "set.seed(1337)\n",
    "task = mlr::makeClassifTask(data = spiral, target = \"classes\")\n",
    "rdescCV = mlr::makeResampleDesc(method = \"CV\", iters = 10)\n",
    "mlrCV = resample(learner = \"classif.knn\", k = 3, task = task,\n",
    "  resampling = rdescCV, show.info = FALSE)\n",
    "mlrCV\n",
    "mlrCV$measures.test"
   ]
  },
  {
   "cell_type": "code",
   "execution_count": 44,
   "metadata": {},
   "outputs": [
    {
     "data": {},
     "metadata": {},
     "output_type": "display_data"
    },
    {
     "data": {
      "image/png": "[encoded data removed]",
      "text/plain": [
       "plot without title"
      ]
     },
     "metadata": {},
     "output_type": "display_data"
    }
   ],
   "source": [
    "p = ggplot(data = mlrCV$measures.test, aes(y = mmce, x = 1)) +\n",
    "  geom_boxplot() +\n",
    "  ggtitle(label = \"Generalization error CV\") +\n",
    "  xlab(\"\") + ylab(\"mmce\") + xlim(c(0,2))\n",
    "p"
   ]
  },
  {
   "cell_type": "markdown",
   "metadata": {
    "collapsed": true
   },
   "source": [
    "## 3. Nested Resampling \n",
    "\n",
    "   "
   ]
  },
  {
   "cell_type": "markdown",
   "metadata": {},
   "source": [
    "No we want to find the optimal hyperparameter k for our model. Therefore we use nested resampling with the following options:\n",
    "* 5 outer CV loops\n",
    "* 10 inner CV loops\n",
    "* 7 Candidates (like in lecture slides 3.3)\n",
    "\n",
    "Check scheme for nested resampling algorithm on the blackboard. \n"
   ]
  },
  {
   "cell_type": "code",
   "execution_count": 45,
   "metadata": {
    "collapsed": true
   },
   "outputs": [],
   "source": [
    "selfNR = function(data, target, outerFolds = 3, innerFolds = 4, kCandidates, inform = FALSE) {\n",
    "  \n",
    "  # counter for inform functionality\n",
    "  counter = 0\n",
    "  \n",
    "  set.seed(1337)\n",
    "  # indices for the outer loops\n",
    "  outerIndices = sample(x = seq(1, nrow(data), by = 1), size = nrow(data), replace = FALSE)\n",
    "  indexOuterMat = matrix(data = outerIndices, byrow = TRUE, nrow = outerFolds)\n",
    "  \n",
    "  # frame to store the winner and its test-GE from all outer folds\n",
    "  winnerCV = as.data.frame(matrix(0, nrow = outerFolds, ncol = 2))\n",
    "  colnames(winnerCV) = c(\"k\", \"GE\")\n",
    "  \n",
    "  for (i in 1:outerFolds) {\n",
    "    \n",
    "    # split in validation and data for the inner loop\n",
    "    valData = data[indexOuterMat[i, ], ]\n",
    "    innerData = data[ -indexOuterMat[i, ], ]\n",
    "    \n",
    "    # frame to store the CV-GEs for each candidate\n",
    "    candidateGE = as.data.frame(matrix(0, nrow = length(kCandidates), ncol = 2))\n",
    "    colnames(candidateGE) = c(\"k\", \"GE\")\n",
    "    \n",
    "    # calculate GE for each of the candidates via CV\n",
    "    for (l in 1:length(kCandidates)) {\n",
    "      \n",
    "      innerIndices = sample(x = seq(1, nrow(innerData), by = 1), size = nrow(innerData), replace = FALSE)\n",
    "      \n",
    "      # index matrix for inner folds\n",
    "      indexInnerMat = matrix(data = innerIndices, byrow = TRUE, nrow = innerFolds)\n",
    "      \n",
    "      # storage for CV errors for one candidate\n",
    "      storageInnerCV = numeric(innerFolds)\n",
    "      \n",
    "      for (j in 1:innerFolds) {\n",
    "        # data\n",
    "        testData = innerData[indexInnerMat[j, ], ]\n",
    "        trainData = innerData[ -indexInnerMat[j, ], ]\n",
    "        \n",
    "        # model\n",
    "        task = makeClassifTask(data = trainData, target = target)\n",
    "        learner = makeLearner(\"classif.kknn\", k = kCandidates[l])\n",
    "        model = train(learner = learner, task = task)\n",
    "        # inform user about progress\n",
    "        counter = counter + 1\n",
    "        if (inform) print(paste0(\"model: \" ,counter, \" inner fold: \", j, \" outer fold: \", i))\n",
    "        storageInnerCV[j] = performance(predict(model, newdata = testData),\n",
    "          measures = mmce)[[1]]\n",
    "      }\n",
    "      \n",
    "      # CV GE for candidate l\n",
    "      candidateGE[l, \"GE\"] = mean(storageInnerCV)\n",
    "      candidateGE[l, \"k\"] = kCandidates[l]\n",
    "    }\n",
    "    \n",
    "    # get GE for best candidate in this outerFold\n",
    "    # in case of equally good Candidates, choose the first one\n",
    "    bestCandidate = candidateGE[which(candidateGE$GE == min(candidateGE$GE)), \"k\"][1]\n",
    "    winnerCV[i, \"k\"] = bestCandidate\n",
    "    \n",
    "    \n",
    "    # model\n",
    "    task = makeClassifTask(data = innerData, target = target)\n",
    "    learner = makeLearner(\"classif.kknn\", k = kCandidates[l])\n",
    "    model = train(learner = learner, task = task)\n",
    "    winnerCV[i, \"GE\"] = performance(predict(model, newdata = valData),\n",
    "      measures = mmce)[[1]]\n",
    "  }\n",
    "  return(winnerCV[order(winnerCV$GE), ])\n",
    "}"
   ]
  },
  {
   "cell_type": "code",
   "execution_count": 46,
   "metadata": {},
   "outputs": [
    {
     "data": {
      "text/html": [
       "<table>\n",
       "<thead><tr><th></th><th scope=col>k</th><th scope=col>GE</th></tr></thead>\n",
       "<tbody>\n",
       "\t<tr><th scope=row>6</th><td>20  </td><td>0.06</td></tr>\n",
       "\t<tr><th scope=row>2</th><td> 5  </td><td>0.08</td></tr>\n",
       "\t<tr><th scope=row>3</th><td>30  </td><td>0.08</td></tr>\n",
       "\t<tr><th scope=row>4</th><td>40  </td><td>0.08</td></tr>\n",
       "\t<tr><th scope=row>10</th><td>30  </td><td>0.10</td></tr>\n",
       "\t<tr><th scope=row>7</th><td>10  </td><td>0.12</td></tr>\n",
       "\t<tr><th scope=row>8</th><td>20  </td><td>0.12</td></tr>\n",
       "\t<tr><th scope=row>9</th><td>20  </td><td>0.16</td></tr>\n",
       "\t<tr><th scope=row>5</th><td>10  </td><td>0.20</td></tr>\n",
       "\t<tr><th scope=row>1</th><td>10  </td><td>0.26</td></tr>\n",
       "</tbody>\n",
       "</table>\n"
      ],
      "text/latex": [
       "\\begin{tabular}{r|ll}\n",
       "  & k & GE\\\\\n",
       "\\hline\n",
       "\t6 & 20   & 0.06\\\\\n",
       "\t2 &  5   & 0.08\\\\\n",
       "\t3 & 30   & 0.08\\\\\n",
       "\t4 & 40   & 0.08\\\\\n",
       "\t10 & 30   & 0.10\\\\\n",
       "\t7 & 10   & 0.12\\\\\n",
       "\t8 & 20   & 0.12\\\\\n",
       "\t9 & 20   & 0.16\\\\\n",
       "\t5 & 10   & 0.20\\\\\n",
       "\t1 & 10   & 0.26\\\\\n",
       "\\end{tabular}\n"
      ],
      "text/markdown": [
       "\n",
       "| <!--/--> | k | GE | \n",
       "|---|---|---|---|---|---|---|---|---|---|\n",
       "| 6 | 20   | 0.06 | \n",
       "| 2 |  5   | 0.08 | \n",
       "| 3 | 30   | 0.08 | \n",
       "| 4 | 40   | 0.08 | \n",
       "| 10 | 30   | 0.10 | \n",
       "| 7 | 10   | 0.12 | \n",
       "| 8 | 20   | 0.12 | \n",
       "| 9 | 20   | 0.16 | \n",
       "| 5 | 10   | 0.20 | \n",
       "| 1 | 10   | 0.26 | \n",
       "\n",
       "\n"
      ],
      "text/plain": [
       "   k  GE  \n",
       "6  20 0.06\n",
       "2   5 0.08\n",
       "3  30 0.08\n",
       "4  40 0.08\n",
       "10 30 0.10\n",
       "7  10 0.12\n",
       "8  20 0.12\n",
       "9  20 0.16\n",
       "5  10 0.20\n",
       "1  10 0.26"
      ]
     },
     "metadata": {},
     "output_type": "display_data"
    }
   ],
   "source": [
    "# let's run it\n",
    "resultNR = selfNR(data = spiral, target = \"classes\", outerFolds = 10, innerFolds = 10,\n",
    "  kCandidates = c(1, 3, 5, 10, 20, 30, 40, 100), inform = FALSE)\n",
    "# order results by GE\n",
    "resultNR"
   ]
  },
  {
   "cell_type": "markdown",
   "metadata": {},
   "source": [
    "### Use only CV for Hyperparameter Selection:\n",
    "\n"
   ]
  },
  {
   "cell_type": "code",
   "execution_count": 47,
   "metadata": {},
   "outputs": [
    {
     "data": {
      "text/html": [
       "<table>\n",
       "<thead><tr><th></th><th scope=col>k</th><th scope=col>GE</th></tr></thead>\n",
       "<tbody>\n",
       "\t<tr><th scope=row>3</th><td>  5  </td><td>0.074</td></tr>\n",
       "\t<tr><th scope=row>4</th><td> 10  </td><td>0.076</td></tr>\n",
       "\t<tr><th scope=row>7</th><td> 40  </td><td>0.078</td></tr>\n",
       "\t<tr><th scope=row>5</th><td> 20  </td><td>0.080</td></tr>\n",
       "\t<tr><th scope=row>6</th><td> 30  </td><td>0.080</td></tr>\n",
       "\t<tr><th scope=row>1</th><td>  1  </td><td>0.102</td></tr>\n",
       "\t<tr><th scope=row>2</th><td>  3  </td><td>0.102</td></tr>\n",
       "\t<tr><th scope=row>8</th><td>100  </td><td>0.126</td></tr>\n",
       "</tbody>\n",
       "</table>\n"
      ],
      "text/latex": [
       "\\begin{tabular}{r|ll}\n",
       "  & k & GE\\\\\n",
       "\\hline\n",
       "\t3 &   5   & 0.074\\\\\n",
       "\t4 &  10   & 0.076\\\\\n",
       "\t7 &  40   & 0.078\\\\\n",
       "\t5 &  20   & 0.080\\\\\n",
       "\t6 &  30   & 0.080\\\\\n",
       "\t1 &   1   & 0.102\\\\\n",
       "\t2 &   3   & 0.102\\\\\n",
       "\t8 & 100   & 0.126\\\\\n",
       "\\end{tabular}\n"
      ],
      "text/markdown": [
       "\n",
       "| <!--/--> | k | GE | \n",
       "|---|---|---|---|---|---|---|---|\n",
       "| 3 |   5   | 0.074 | \n",
       "| 4 |  10   | 0.076 | \n",
       "| 7 |  40   | 0.078 | \n",
       "| 5 |  20   | 0.080 | \n",
       "| 6 |  30   | 0.080 | \n",
       "| 1 |   1   | 0.102 | \n",
       "| 2 |   3   | 0.102 | \n",
       "| 8 | 100   | 0.126 | \n",
       "\n",
       "\n"
      ],
      "text/plain": [
       "  k   GE   \n",
       "3   5 0.074\n",
       "4  10 0.076\n",
       "7  40 0.078\n",
       "5  20 0.080\n",
       "6  30 0.080\n",
       "1   1 0.102\n",
       "2   3 0.102\n",
       "8 100 0.126"
      ]
     },
     "metadata": {},
     "output_type": "display_data"
    }
   ],
   "source": [
    "tuneCV = function(data, target, folds, kCandidates) {\n",
    "  \n",
    "  candidatesGE = as.data.frame(matrix(data = 0, nrow = length(kCandidates), ncol = 2))\n",
    "  colnames(candidatesGE) = c(\"k\", \"GE\")\n",
    "\n",
    "  for (l in 1:length(kCandidates)) {\n",
    "    \n",
    "    candidatesGE[l, \"k\"] = kCandidates[l]\n",
    "    candidatesGE[l, \"GE\"] = selfCV(data = data, target = target, folds = folds, \n",
    "      k = kCandidates[l])$GE\n",
    "  }  \n",
    "  return(candidatesGE[order(candidatesGE$GE), ])\n",
    "}\n",
    "\n",
    "\n",
    "resultCV = tuneCV(data = spiral, target = \"classes\", folds = 10, kCandidates = c(1, 3, 5, 10, 20, 30, 40, 100))\n",
    "resultCV"
   ]
  },
  {
   "cell_type": "markdown",
   "metadata": {},
   "source": [
    "### Test the hyperparameters on completely unseen data\n",
    "\n",
    "Test the hyperparameters proposed by nested resampling and cross-validation on completely new data, that none of the two algorithms have seen before. Neat thing about the spiral data: we can simulate new data points whenever we want!\n",
    "\n",
    "What would we expect based on the lecture?\n",
    "\n",
    "An overly optimistic estimate for the perfect hyperparameter by simple CV (overtuning effect) and a more realistic estimate from the nested resampling algorithm. \n"
   ]
  },
  {
   "cell_type": "markdown",
   "metadata": {},
   "source": [
    "#### Nested Resampling Hyperparameter"
   ]
  },
  {
   "cell_type": "code",
   "execution_count": 50,
   "metadata": {},
   "outputs": [
    {
     "name": "stdout",
     "output_type": "stream",
     "text": [
      "[1] \"nested RS k = 20: 0.055 with NR GE estimate: 0.06\"\n"
     ]
    }
   ],
   "source": [
    "set.seed(1337)\n",
    "unseenSpiral = as.data.frame(mlbench.spirals(n = 200, sd = 0.1))\n",
    "\n",
    "task = makeClassifTask(data = spiral, target = \"classes\")\n",
    "learner = makeLearner(\"classif.kknn\", k = 20)\n",
    "model = train(learner = learner, task = task)\n",
    "print(paste0(\"nested RS k = 20: \", performance(predict(model, newdata = unseenSpiral), measures = mmce)[[1]], \n",
    "     \" with NR GE estimate: \", resultNR[1, 2]))\n"
   ]
  },
  {
   "cell_type": "markdown",
   "metadata": {},
   "source": [
    "#### Simple Cross-Validation Hyperparameter"
   ]
  },
  {
   "cell_type": "code",
   "execution_count": 51,
   "metadata": {},
   "outputs": [
    {
     "name": "stdout",
     "output_type": "stream",
     "text": [
      "[1] \"CV tuned k = 5: 0.085 with CV GE estimate: 0.074\"\n"
     ]
    }
   ],
   "source": [
    "set.seed(1337)\n",
    "unseenSpiral = as.data.frame(mlbench.spirals(n = 200, sd = 0.1))\n",
    "\n",
    "task = makeClassifTask(data = spiral, target = \"classes\")\n",
    "learner = makeLearner(\"classif.kknn\", k = 5)\n",
    "model = train(learner = learner, task = task)\n",
    "print(paste0(\"CV tuned k = 5: \", performance(predict(model, newdata = unseenSpiral), measures = mmce)[[1]], \n",
    "            \" with CV GE estimate: \",resultCV[1, 2]))\n"
   ]
  },
  {
   "cell_type": "markdown",
   "metadata": {},
   "source": [
    "# Problems:\n",
    "* results are very depending on the seed\n",
    "* CV from mlr delievers other results than the self implemented version\n",
    "* We want to show that CV is too optimistic concerning the estimation of the Generalization error. This does currently work for the k = 5 parameter (estimated GE: 0.074, real: 0.085) whereas the GE for the nested resampling k is similar to the performance on the totally unseen data. \n",
    "* Discuss how to choose the winning hyperparameter from the nested resampling output. They will ask, why k=20 yields errors of 0.06 and 0.12 and how to deal with that - we should be able to answer that question. \n",
    "\n"
   ]
  },
  {
   "cell_type": "markdown",
   "metadata": {},
   "source": [
    "### mlr implementation"
   ]
  },
  {
   "cell_type": "code",
   "execution_count": 40,
   "metadata": {},
   "outputs": [
    {
     "name": "stderr",
     "output_type": "stream",
     "text": [
      "[Tune] Started tuning learner classif.knn for parameter set:\n",
      "      Type len Def            Constr Req Tunable Trafo\n",
      "k discrete   -   - 1,3,5,10,20,30,40   -    TRUE     -\n",
      "With control class: TuneControlGrid\n",
      "Imputation value: 1\n",
      "[Tune-x] 1: k=1\n",
      "[Tune-y] 1: mmce.test.mean= 0.1; time: 0.0 min\n",
      "[Tune-x] 2: k=3\n",
      "[Tune-y] 2: mmce.test.mean=0.082; time: 0.0 min\n",
      "[Tune-x] 3: k=5\n",
      "[Tune-y] 3: mmce.test.mean=0.074; time: 0.0 min\n",
      "[Tune-x] 4: k=10\n",
      "[Tune-y] 4: mmce.test.mean=0.068; time: 0.0 min\n",
      "[Tune-x] 5: k=20\n",
      "[Tune-y] 5: mmce.test.mean=0.076; time: 0.0 min\n",
      "[Tune-x] 6: k=30\n",
      "[Tune-y] 6: mmce.test.mean=0.082; time: 0.0 min\n",
      "[Tune-x] 7: k=40\n",
      "[Tune-y] 7: mmce.test.mean=0.102; time: 0.0 min\n",
      "[Tune] Result: k=10 : mmce.test.mean=0.068\n"
     ]
    }
   ],
   "source": [
    "ps = makeParamSet(\n",
    "  makeDiscreteParam(\"k\", values = c(1, 3, 5, 10, 20, 30, 40))\n",
    ")\n",
    "\n",
    "ctrl = makeTuneControlGrid()\n",
    "rdesc = makeResampleDesc(\"CV\", iters = 10L)\n",
    "task = makeClassifTask(data = spiral, target = \"classes\")\n",
    "res = tuneParams(\"classif.knn\", task = task, resampling = rdesc,\n",
    "  par.set = ps, control = ctrl)\n"
   ]
  },
  {
   "cell_type": "markdown",
   "metadata": {
    "collapsed": true
   },
   "source": [
    "## 4. Confusion matrices, ROC etc.\n",
    "\n",
    "\n",
    "\n"
   ]
  },
  {
   "cell_type": "code",
   "execution_count": null,
   "metadata": {
    "collapsed": true
   },
   "outputs": [],
   "source": []
  },
  {
   "cell_type": "code",
   "execution_count": null,
   "metadata": {
    "collapsed": true
   },
   "outputs": [],
   "source": []
  }
 ],
 "metadata": {
  "kernelspec": {
   "display_name": "R",
   "language": "R",
   "name": "ir"
  },
  "language_info": {
   "codemirror_mode": "r",
   "file_extension": ".r",
   "mimetype": "text/x-r-source",
   "name": "R",
   "pygments_lexer": "r",
   "version": "3.4.3"
  }
 },
 "nbformat": 4,
 "nbformat_minor": 2
}
