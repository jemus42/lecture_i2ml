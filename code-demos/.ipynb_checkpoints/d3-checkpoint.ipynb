{
 "cells": [
  {
   "cell_type": "markdown",
   "metadata": {},
   "source": [
    "# 3rd Notebook for Machine Learning Intro Lecture"
   ]
  },
  {
   "cell_type": "markdown",
   "metadata": {},
   "source": [
    "## How not to split: the good, the bad, the ugly\n",
    "\n",
    "How does the choice of the split in train and test data affect the model?\n",
    "\n"
   ]
  },
  {
   "cell_type": "markdown",
   "metadata": {},
   "source": [
    "### the good split\n",
    "\n",
    "we train on the data 1:30 and test on 31:50. Remember, that iris is an ordered data set with the first 50 obsverations being setosa, the next 50 versicolor and the last 50 virginica. "
   ]
  },
  {
   "cell_type": "code",
   "execution_count": 13,
   "metadata": {},
   "outputs": [
    {
     "data": {
      "text/html": [
       "<strong>mmce:</strong> 0"
      ],
      "text/latex": [
       "\\textbf{mmce:} 0"
      ],
      "text/markdown": [
       "**mmce:** 0"
      ],
      "text/plain": [
       "mmce \n",
       "   0 "
      ]
     },
     "metadata": {},
     "output_type": "display_data"
    },
    {
     "data": {
      "text/plain": [
       "            predicted\n",
       "true         setosa versicolor virginica -err.-\n",
       "  setosa         20          0         0      0\n",
       "  versicolor      0          0         0      0\n",
       "  virginica       0          0         0      0\n",
       "  -err.-          0          0         0      0"
      ]
     },
     "metadata": {},
     "output_type": "display_data"
    }
   ],
   "source": [
    "library(mlr)\n",
    "library(ggplot2)\n",
    "\n",
    "task = makeClassifTask(data = iris, target = \"Species\")\n",
    "learner = makeLearner(\"classif.kknn\", k = 3)\n",
    "model = train(learner, task, subset = c(1:30))\n",
    "pred = predict(model, task = task, subset = 31:50)\n",
    "performance(pred, measures = mmce)\n",
    "calculateConfusionMatrix(pred)"
   ]
  },
  {
   "cell_type": "markdown",
   "metadata": {},
   "source": [
    "### the bad split\n",
    "\n",
    "we train on the data 1:100 and test on 101:150."
   ]
  },
  {
   "cell_type": "code",
   "execution_count": 14,
   "metadata": {},
   "outputs": [
    {
     "data": {
      "text/html": [
       "<strong>mmce:</strong> 1"
      ],
      "text/latex": [
       "\\textbf{mmce:} 1"
      ],
      "text/markdown": [
       "**mmce:** 1"
      ],
      "text/plain": [
       "mmce \n",
       "   1 "
      ]
     },
     "metadata": {},
     "output_type": "display_data"
    },
    {
     "data": {
      "text/plain": [
       "            predicted\n",
       "true         setosa versicolor virginica -err.-\n",
       "  setosa          0          0         0      0\n",
       "  versicolor      0          0         0      0\n",
       "  virginica       0         50         0     50\n",
       "  -err.-          0         50         0     50"
      ]
     },
     "metadata": {},
     "output_type": "display_data"
    }
   ],
   "source": [
    "task = makeClassifTask(data = iris, target = \"Species\")\n",
    "learner = makeLearner(\"classif.kknn\", k = 3)\n",
    "model = train(learner, task, subset = c(1:100))\n",
    "pred = predict(model, task = task, subset = 101:150)\n",
    "performance(pred, measures = mmce)\n",
    "calculateConfusionMatrix(pred)"
   ]
  },
  {
   "cell_type": "markdown",
   "metadata": {},
   "source": [
    "### the ugly split\n"
   ]
  },
  {
   "cell_type": "code",
   "execution_count": 15,
   "metadata": {},
   "outputs": [
    {
     "data": {
      "text/html": [
       "<strong>mmce:</strong> 0.18"
      ],
      "text/latex": [
       "\\textbf{mmce:} 0.18"
      ],
      "text/markdown": [
       "**mmce:** 0.18"
      ],
      "text/plain": [
       "mmce \n",
       "0.18 "
      ]
     },
     "metadata": {},
     "output_type": "display_data"
    },
    {
     "data": {
      "text/plain": [
       "            predicted\n",
       "true         setosa versicolor virginica -err.-\n",
       "  setosa          5          0         0      0\n",
       "  versicolor      0          5         0      0\n",
       "  virginica       0          9        31      9\n",
       "  -err.-          0          9         0      9"
      ]
     },
     "metadata": {},
     "output_type": "display_data"
    }
   ],
   "source": [
    "task = makeClassifTask(data = iris, target = \"Species\")\n",
    "learner = makeLearner(\"classif.kknn\", k = 3)\n",
    "model = train(learner, task, subset = c(1:45, 51:95, 101:110))\n",
    "pred = predict(model, task = task, subset = c(46:50, 96:100, 111:150))\n",
    "performance(pred, measures = mmce)\n",
    "calculateConfusionMatrix(pred)"
   ]
  },
  {
   "cell_type": "markdown",
   "metadata": {},
   "source": [
    "## Overfitting kNN\n",
    "\n",
    "Check the performance of our knn-classifier on the test and train set depending on the hyperparameter k:"
   ]
  },
  {
   "cell_type": "code",
   "execution_count": 16,
   "metadata": {},
   "outputs": [
    {
     "data": {
      "image/png": "[encoded data removed]",
      "text/plain": [
       "Plot with title “Overfitting behavior KNN”"
      ]
     },
     "metadata": {},
     "output_type": "display_data"
    }
   ],
   "source": [
    "library(mlr)\n",
    "\n",
    "# data\n",
    "data(iris)\n",
    "set.seed(1327)\n",
    "trainSize = 3/4\n",
    "trainIndices = sample(x = seq(1, nrow(iris), by = 1), size = ceiling(trainSize * nrow(iris)), replace = FALSE)\n",
    "irisTrain = iris[ trainIndices, ]\n",
    "irisTest = iris[ -trainIndices, ]\n",
    "\n",
    "# run experiment\n",
    "k.values = rev(c(1, 2, 3, 4, 5, 7, 8, 9, 10, 15, 20, 25, 30, 35, 45, 50, 80, 100))\n",
    "storage = data.frame(matrix(NA, ncol = 3, nrow = length(k.values)))\n",
    "colnames(storage) = c(\"mmce_train\", \"mmce_test\", \"k\")\n",
    "\n",
    "for (i in 1:length(k.values)) {\n",
    "  \n",
    "  irisTask = makeClassifTask(data = irisTrain, target = \"Species\")\n",
    "  irisLearner = makeLearner(\"classif.kknn\", k = k.values[i])\n",
    "  irisModel = train(learner = irisLearner, task = irisTask)\n",
    "  \n",
    "  # test data\n",
    "  # choose additional measures from: listMeasures(irisTask)\n",
    "  irisPred = predict(irisModel, newdata = irisTest[])\n",
    "  storage[i, \"mmce_test\"] = performance(pred = irisPred, measures = mmce)\n",
    "  \n",
    "  # train data\n",
    "  irisPred = predict(irisModel, newdata = irisTrain[])\n",
    "  storage[i, \"mmce_train\"] = performance(pred = irisPred, measures = mmce)  \n",
    "  \n",
    "  storage[i, \"k\"] = k.values[i]\n",
    "}\n",
    "\n",
    "\n",
    "plot(x = storage$k, y = storage$mmce_train, main = \"Overfitting behavior KNN\", \n",
    "  xlab = \"k\", ylab = \"mmce\", col = \"blue\", type = \"l\")\n",
    "lines(x = storage$k, y = storage$mmce_test, col = \"orange\")\n",
    "legend(\"bottomright\", c(\"test\", \"train\"), col = c(\"orange\", \"blue\"), lty = 1)"
   ]
  },
  {
   "cell_type": "markdown",
   "metadata": {},
   "source": [
    "## 2. Resampling \n",
    "- hard code CV-algorithm\n",
    "- compare with mlr's inmplementation\n",
    "- FCIM exercise mlr_a_2.Rnw on small benchmark study\n",
    "\n"
   ]
  },
  {
   "cell_type": "markdown",
   "metadata": {},
   "source": [
    "### Self made Cross Validation\n",
    "\n",
    "We want to assess the performance of our model aka estimate its Generalization error. Why is it a good idea to use Cross-Validation?"
   ]
  },
  {
   "cell_type": "code",
   "execution_count": 17,
   "metadata": {},
   "outputs": [
    {
     "data": {
      "text/html": [
       "<table>\n",
       "<thead><tr><th scope=col>errors</th></tr></thead>\n",
       "<tbody>\n",
       "\t<tr><td>0.06666667</td></tr>\n",
       "\t<tr><td>0.06666667</td></tr>\n",
       "\t<tr><td>0.00000000</td></tr>\n",
       "\t<tr><td>0.06666667</td></tr>\n",
       "\t<tr><td>0.06666667</td></tr>\n",
       "\t<tr><td>0.00000000</td></tr>\n",
       "\t<tr><td>0.06666667</td></tr>\n",
       "\t<tr><td>0.06666667</td></tr>\n",
       "\t<tr><td>0.00000000</td></tr>\n",
       "\t<tr><td>0.06666667</td></tr>\n",
       "</tbody>\n",
       "</table>\n"
      ],
      "text/latex": [
       "\\begin{tabular}{r|l}\n",
       " errors\\\\\n",
       "\\hline\n",
       "\t 0.06666667\\\\\n",
       "\t 0.06666667\\\\\n",
       "\t 0.00000000\\\\\n",
       "\t 0.06666667\\\\\n",
       "\t 0.06666667\\\\\n",
       "\t 0.00000000\\\\\n",
       "\t 0.06666667\\\\\n",
       "\t 0.06666667\\\\\n",
       "\t 0.00000000\\\\\n",
       "\t 0.06666667\\\\\n",
       "\\end{tabular}\n"
      ],
      "text/markdown": [
       "\n",
       "errors | \n",
       "|---|---|---|---|---|---|---|---|---|---|\n",
       "| 0.06666667 | \n",
       "| 0.06666667 | \n",
       "| 0.00000000 | \n",
       "| 0.06666667 | \n",
       "| 0.06666667 | \n",
       "| 0.00000000 | \n",
       "| 0.06666667 | \n",
       "| 0.06666667 | \n",
       "| 0.00000000 | \n",
       "| 0.06666667 | \n",
       "\n",
       "\n"
      ],
      "text/plain": [
       "   errors    \n",
       "1  0.06666667\n",
       "2  0.06666667\n",
       "3  0.00000000\n",
       "4  0.06666667\n",
       "5  0.06666667\n",
       "6  0.00000000\n",
       "7  0.06666667\n",
       "8  0.06666667\n",
       "9  0.00000000\n",
       "10 0.06666667"
      ]
     },
     "metadata": {},
     "output_type": "display_data"
    }
   ],
   "source": [
    "selfCV = function(data, target, folds, k) {\n",
    "  \n",
    "  errors = as.numeric(folds)\n",
    "  \n",
    "  set.seed(1337)\n",
    "  indices = sample(x = seq(1, nrow(data), by = 1), size = nrow(data), replace = FALSE)\n",
    "  \n",
    "  # index matrix for folds\n",
    "  indexMat = matrix(data = indices, byrow = TRUE, nrow = folds)\n",
    "  \n",
    "  for (i in 1:folds) {\n",
    "    \n",
    "    # data\n",
    "    testData = data[indexMat[i, ], ]\n",
    "    trainData = data[- indexMat[i, ], ]\n",
    "    \n",
    "    # model\n",
    "    irisTask = makeClassifTask(data = trainData, target = target)\n",
    "    irisLearner = makeLearner(\"classif.kknn\", k = k)\n",
    "    irisModel = train(learner = irisLearner, task = irisTask)\n",
    "    errors[i] = performance(predict(irisModel, newdata = testData), \n",
    "      measures = mmce)[[1]]\n",
    "  }\n",
    "  \n",
    "  return(list(folds = folds, errors = as.data.frame(errors), GE = mean(errors)))\n",
    "}\n",
    "\n",
    "foo = selfCV(data = iris, target = \"Species\", folds = 10, k = 3)\n",
    "foo$errors"
   ]
  },
  {
   "cell_type": "code",
   "execution_count": 18,
   "metadata": {},
   "outputs": [
    {
     "data": {},
     "metadata": {},
     "output_type": "display_data"
    },
    {
     "data": {
      "image/png": "[encoded data removed]",
      "text/plain": [
       "plot without title"
      ]
     },
     "metadata": {},
     "output_type": "display_data"
    }
   ],
   "source": [
    "# plot it\n",
    "p = ggplot(data = foo$errors, aes(y = errors, x = 1)) + \n",
    "  geom_boxplot() + \n",
    "  ggtitle(label = \"Generalization error self made CV\") + \n",
    "  xlab(\"\") + ylab(\"mmce\") + xlim(c(0,2))\n",
    "p"
   ]
  },
  {
   "cell_type": "markdown",
   "metadata": {},
   "source": [
    "### mlr's CV implementation"
   ]
  },
  {
   "cell_type": "code",
   "execution_count": 19,
   "metadata": {},
   "outputs": [
    {
     "data": {
      "text/plain": [
       "Resample Result\n",
       "Task: iris\n",
       "Learner: classif.knn\n",
       "Aggr perf: mmce.test.mean=0.04\n",
       "Runtime: 0.0340791"
      ]
     },
     "metadata": {},
     "output_type": "display_data"
    },
    {
     "data": {
      "text/html": [
       "<table>\n",
       "<thead><tr><th scope=col>iter</th><th scope=col>mmce</th></tr></thead>\n",
       "<tbody>\n",
       "\t<tr><td> 1        </td><td>0.00000000</td></tr>\n",
       "\t<tr><td> 2        </td><td>0.06666667</td></tr>\n",
       "\t<tr><td> 3        </td><td>0.06666667</td></tr>\n",
       "\t<tr><td> 4        </td><td>0.06666667</td></tr>\n",
       "\t<tr><td> 5        </td><td>0.00000000</td></tr>\n",
       "\t<tr><td> 6        </td><td>0.00000000</td></tr>\n",
       "\t<tr><td> 7        </td><td>0.00000000</td></tr>\n",
       "\t<tr><td> 8        </td><td>0.06666667</td></tr>\n",
       "\t<tr><td> 9        </td><td>0.06666667</td></tr>\n",
       "\t<tr><td>10        </td><td>0.06666667</td></tr>\n",
       "</tbody>\n",
       "</table>\n"
      ],
      "text/latex": [
       "\\begin{tabular}{r|ll}\n",
       " iter & mmce\\\\\n",
       "\\hline\n",
       "\t  1         & 0.00000000\\\\\n",
       "\t  2         & 0.06666667\\\\\n",
       "\t  3         & 0.06666667\\\\\n",
       "\t  4         & 0.06666667\\\\\n",
       "\t  5         & 0.00000000\\\\\n",
       "\t  6         & 0.00000000\\\\\n",
       "\t  7         & 0.00000000\\\\\n",
       "\t  8         & 0.06666667\\\\\n",
       "\t  9         & 0.06666667\\\\\n",
       "\t 10         & 0.06666667\\\\\n",
       "\\end{tabular}\n"
      ],
      "text/markdown": [
       "\n",
       "iter | mmce | \n",
       "|---|---|---|---|---|---|---|---|---|---|\n",
       "|  1         | 0.00000000 | \n",
       "|  2         | 0.06666667 | \n",
       "|  3         | 0.06666667 | \n",
       "|  4         | 0.06666667 | \n",
       "|  5         | 0.00000000 | \n",
       "|  6         | 0.00000000 | \n",
       "|  7         | 0.00000000 | \n",
       "|  8         | 0.06666667 | \n",
       "|  9         | 0.06666667 | \n",
       "| 10         | 0.06666667 | \n",
       "\n",
       "\n"
      ],
      "text/plain": [
       "   iter mmce      \n",
       "1   1   0.00000000\n",
       "2   2   0.06666667\n",
       "3   3   0.06666667\n",
       "4   4   0.06666667\n",
       "5   5   0.00000000\n",
       "6   6   0.00000000\n",
       "7   7   0.00000000\n",
       "8   8   0.06666667\n",
       "9   9   0.06666667\n",
       "10 10   0.06666667"
      ]
     },
     "metadata": {},
     "output_type": "display_data"
    }
   ],
   "source": [
    "set.seed(1337)\n",
    "task = mlr::makeClassifTask(data = iris, target = \"Species\")\n",
    "rdescCV = mlr::makeResampleDesc(method = \"CV\", iters = 10)\n",
    "mlrCV = resample(learner = \"classif.knn\", k = 4, task = task,\n",
    "  resampling = rdescCV, show.info = FALSE)\n",
    "\n",
    "# check the object\n",
    "mlrCV\n",
    "mlrCV$measures.test"
   ]
  },
  {
   "cell_type": "code",
   "execution_count": 8,
   "metadata": {},
   "outputs": [
    {
     "data": {},
     "metadata": {},
     "output_type": "display_data"
    },
    {
     "data": {
      "image/png": "[encoded data removed]",
      "text/plain": [
       "plot without title"
      ]
     },
     "metadata": {},
     "output_type": "display_data"
    }
   ],
   "source": [
    "# plot it\n",
    "p = ggplot(data = mlrCV$measures.test, aes(y = mmce, x = 1)) + \n",
    "  geom_boxplot() + \n",
    "  ggtitle(label = \"Generalization error CV with mlr\") + \n",
    "  xlab(\"\") + ylab(\"mmce\") + xlim(c(0,2))\n",
    "p"
   ]
  },
  {
   "cell_type": "markdown",
   "metadata": {
    "collapsed": true
   },
   "source": [
    "## 3. Nested Resampling \n",
    "- Update hard-coded algrithm from part2\n",
    "- show example for overtuning.\n",
    "    - 1) tune with nested resampling\n",
    "    - 2) tune without - overtuning\n",
    "    - -> test performance on super external test data set\n",
    "- tuning_a_1.Rnw from FCIM for tuning \n",
    "   "
   ]
  },
  {
   "cell_type": "markdown",
   "metadata": {},
   "source": [
    "No we want to find the optimal hyperparameter k for our model. Therefore we use nested resampling with the following options:\n",
    "* 3 outer CV loops\n",
    "* 5 inner CV loops\n",
    "* 7 Candidates (like in lecture slides 3.3)\n"
   ]
  },
  {
   "cell_type": "markdown",
   "metadata": {
    "collapsed": true
   },
   "source": [
    "## 4. Confusion matrices, ROC etc.\n",
    "\n",
    "\n",
    "\n"
   ]
  }
 ],
 "metadata": {
  "kernelspec": {
   "display_name": "R",
   "language": "R",
   "name": "ir"
  },
  "language_info": {
   "codemirror_mode": "r",
   "file_extension": ".r",
   "mimetype": "text/x-r-source",
   "name": "R",
   "pygments_lexer": "r",
   "version": "3.4.3"
  }
 },
 "nbformat": 4,
 "nbformat_minor": 2
}
