{
 "cells": [
  {
   "cell_type": "markdown",
   "metadata": {},
   "source": [
    "# 5th Notebook for Machine Learning Intro Lecture"
   ]
  },
  {
   "cell_type": "markdown",
   "metadata": {},
   "source": [
    "# 1. introductory kaggle challenge\n",
    "\n",
    "We will compete in our first [kaggle challenge](https://www.kaggle.com/c/titanic) on the prediction of titanic survivors. \n",
    "\n"
   ]
  },
  {
   "cell_type": "markdown",
   "metadata": {},
   "source": [
    "### Preprocessing and Data check"
   ]
  },
  {
   "cell_type": "code",
   "execution_count": 78,
   "metadata": {},
   "outputs": [
    {
     "name": "stdout",
     "output_type": "stream",
     "text": [
      "'data.frame':\t891 obs. of  12 variables:\n",
      " $ PassengerId: int  1 2 3 4 5 6 7 8 9 10 ...\n",
      " $ Survived   : int  0 1 1 1 0 0 0 0 1 1 ...\n",
      " $ Pclass     : int  3 1 3 1 3 3 1 3 3 2 ...\n",
      " $ Name       : Factor w/ 891 levels \"Abbing, Mr. Anthony\",..: 109 191 358 277 16 559 520 629 416 581 ...\n",
      " $ Sex        : Factor w/ 2 levels \"female\",\"male\": 2 1 1 1 2 2 2 2 1 1 ...\n",
      " $ Age        : num  22 38 26 35 35 NA 54 2 27 14 ...\n",
      " $ SibSp      : int  1 1 0 1 0 0 0 3 0 1 ...\n",
      " $ Parch      : int  0 0 0 0 0 0 0 1 2 0 ...\n",
      " $ Ticket     : Factor w/ 681 levels \"110152\",\"110413\",..: 525 596 662 50 473 276 86 396 345 133 ...\n",
      " $ Fare       : num  7.25 71.28 7.92 53.1 8.05 ...\n",
      " $ Cabin      : Factor w/ 148 levels \"\",\"A10\",\"A14\",..: 1 83 1 57 1 1 131 1 1 1 ...\n",
      " $ Embarked   : Factor w/ 4 levels \"\",\"C\",\"Q\",\"S\": 4 2 4 4 4 3 4 4 4 2 ...\n"
     ]
    }
   ],
   "source": [
    "### Data preprocess\n",
    "\n",
    "# load and check the data\n",
    "allTrain = read.csv(file = \"data/train_titanic.csv\")\n",
    "str(allTrain)\n",
    "# no target column \"survived\" on test dataset\n",
    "allTest = read.csv(file = \"data/test_titanic.csv\")\n",
    "\n",
    "# can we use all features? \n",
    "# Nope: delete those with too many levels as this would inflate the model \n",
    "# also kill the ID\n",
    "\n",
    "train = allTrain[, -c(which(colnames(allTrain) == \"Cabin\"), \n",
    "    which(colnames(allTrain) == \"Name\"), \n",
    "    which(colnames(allTrain) == \"Ticket\"), \n",
    "    which(colnames(allTrain) == \"PassengerId\"))]\n",
    "\n",
    "test = allTest[, -c(which(colnames(allTest) == \"Cabin\"), \n",
    "    which(colnames(allTest) == \"Name\"), \n",
    "    which(colnames(allTest) == \"Ticket\"), \n",
    "    which(colnames(allTest) == \"PassengerId\"))]"
   ]
  },
  {
   "cell_type": "markdown",
   "metadata": {},
   "source": [
    "### Build a first simple model with mlr and check the performance via CV"
   ]
  },
  {
   "cell_type": "code",
   "execution_count": 79,
   "metadata": {},
   "outputs": [
    {
     "data": {
      "text/plain": [
       "                   Type len  Def   Constr Req Tunable Trafo\n",
       "minsplit        integer   -   20 1 to Inf   -    TRUE     -\n",
       "minbucket       integer   -    - 1 to Inf   -    TRUE     -\n",
       "cp              numeric   - 0.01   0 to 1   -    TRUE     -\n",
       "maxcompete      integer   -    4 0 to Inf   -    TRUE     -\n",
       "maxsurrogate    integer   -    5 0 to Inf   -    TRUE     -\n",
       "usesurrogate   discrete   -    2    0,1,2   -    TRUE     -\n",
       "surrogatestyle discrete   -    0      0,1   -    TRUE     -\n",
       "maxdepth        integer   -   30  1 to 30   -    TRUE     -\n",
       "xval            integer   -   10 0 to Inf   -   FALSE     -\n",
       "parms           untyped   -    -        -   -    TRUE     -"
      ]
     },
     "metadata": {},
     "output_type": "display_data"
    },
    {
     "name": "stderr",
     "output_type": "stream",
     "text": [
      "[Resample] cross-validation iter 1: mmce.test.mean=0.244,acc.test.mean=0.756\n",
      "[Resample] cross-validation iter 2: mmce.test.mean=0.169,acc.test.mean=0.831\n",
      "[Resample] cross-validation iter 3: mmce.test.mean=0.169,acc.test.mean=0.831\n",
      "[Resample] cross-validation iter 4: mmce.test.mean=0.303,acc.test.mean=0.697\n",
      "[Resample] cross-validation iter 5: mmce.test.mean=0.225,acc.test.mean=0.775\n",
      "[Resample] cross-validation iter 6: mmce.test.mean=0.191,acc.test.mean=0.809\n",
      "[Resample] cross-validation iter 7: mmce.test.mean=0.202,acc.test.mean=0.798\n",
      "[Resample] cross-validation iter 8: mmce.test.mean=0.191,acc.test.mean=0.809\n",
      "[Resample] cross-validation iter 9: mmce.test.mean=0.247,acc.test.mean=0.753\n",
      "[Resample] cross-validation iter 10: mmce.test.mean=0.191,acc.test.mean=0.809\n",
      "[Resample] Aggr. Result: mmce.test.mean=0.213,acc.test.mean=0.787\n"
     ]
    },
    {
     "data": {
      "text/plain": [
       "Resample Result\n",
       "Task: train\n",
       "Learner: classif.rpart\n",
       "Aggr perf: mmce.test.mean=0.213,acc.test.mean=0.787\n",
       "Runtime: 0.137429"
      ]
     },
     "metadata": {},
     "output_type": "display_data"
    }
   ],
   "source": [
    "### model corner\n",
    "library(mlr)\n",
    "\n",
    "# choose specific model and parameters \n",
    "task = makeClassifTask(data = train, target = \"Survived\")\n",
    "\n",
    "learner = makeLearner(cl = \"classif.rpart\")\n",
    "# check choosable parameters and set accordingly\n",
    "getLearnerParamSet(learner)\n",
    "# check available settings here: https://www.rdocumentation.org/packages/rpart/versions/4.1-12/topics/rpart.control\n",
    "learner = makeLearner(cl = \"classif.rpart\", \n",
    "    par.vals = list(minsplit = 10, cp = 0.05))\n",
    "\n",
    "# make sure to assign mlr package to train\n",
    "mod = mlr::train(learner = learner, task = task)\n",
    "\n",
    "### performance estimate via CV\n",
    "cv = makeResampleDesc(method = \"CV\", iters = 10)\n",
    "# use mlr::listMeasures() to get list of possible measures\n",
    "# important: always check on which measure they evaluate you!\n",
    "mlr::crossval(learner = learner, task = task, iters = 10, measures = list(mmce, acc))\n"
   ]
  },
  {
   "cell_type": "markdown",
   "metadata": {},
   "source": [
    "Store and submit your predictions"
   ]
  },
  {
   "cell_type": "code",
   "execution_count": 80,
   "metadata": {
    "collapsed": true
   },
   "outputs": [],
   "source": [
    "# predict for submission\n",
    "pred = predict(mod, newdata = test)\n",
    "submission = pred$data\n",
    "\n",
    "submission$PassengerId = allTest$PassengerId\n",
    "\n",
    "colnames(submission) = c(\"Survived\", \"PassengerId\")\n",
    "\n",
    "write.csv(submission, file = \"data/submissionTitanic_1.csv\", row.names = FALSE)"
   ]
  },
  {
   "cell_type": "markdown",
   "metadata": {},
   "source": [
    "### Tune the Hyperparameters of the algorithm"
   ]
  },
  {
   "cell_type": "code",
   "execution_count": 81,
   "metadata": {
    "scrolled": true
   },
   "outputs": [
    {
     "data": {
      "text/plain": [
       "                   Type len  Def   Constr Req Tunable Trafo\n",
       "minsplit        integer   -   20 1 to Inf   -    TRUE     -\n",
       "minbucket       integer   -    - 1 to Inf   -    TRUE     -\n",
       "cp              numeric   - 0.01   0 to 1   -    TRUE     -\n",
       "maxcompete      integer   -    4 0 to Inf   -    TRUE     -\n",
       "maxsurrogate    integer   -    5 0 to Inf   -    TRUE     -\n",
       "usesurrogate   discrete   -    2    0,1,2   -    TRUE     -\n",
       "surrogatestyle discrete   -    0      0,1   -    TRUE     -\n",
       "maxdepth        integer   -   30  1 to 30   -    TRUE     -\n",
       "xval            integer   -   10 0 to Inf   -   FALSE     -\n",
       "parms           untyped   -    -        -   -    TRUE     -"
      ]
     },
     "metadata": {},
     "output_type": "display_data"
    },
    {
     "name": "stderr",
     "output_type": "stream",
     "text": [
      "[Tune] Started tuning learner classif.rpart for parameter set:\n",
      "             Type len Def                                 Constr Req Tunable\n",
      "minsplit discrete   -   - 1,3,5,7,10,15,20,30,40,45,50,60,70,100   -    TRUE\n",
      "cp        numeric   -   -                          0.0001 to 0.1   -    TRUE\n",
      "         Trafo\n",
      "minsplit     -\n",
      "cp           -\n",
      "With control class: TuneControlRandom\n",
      "Imputation value: 1Imputation value: -0\n",
      "[Tune-x] 1: minsplit=20; cp=0.0317\n",
      "[Tune-y] 1: mmce.test.mean=0.211,acc.test.mean=0.789; time: 0.0 min\n",
      "[Tune-x] 2: minsplit=10; cp=0.0149\n",
      "[Tune-y] 2: mmce.test.mean=0.196,acc.test.mean=0.804; time: 0.0 min\n",
      "[Tune-x] 3: minsplit=50; cp=0.0618\n",
      "[Tune-y] 3: mmce.test.mean=0.213,acc.test.mean=0.787; time: 0.0 min\n",
      "[Tune-x] 4: minsplit=10; cp=0.0954\n",
      "[Tune-y] 4: mmce.test.mean=0.213,acc.test.mean=0.787; time: 0.0 min\n",
      "[Tune-x] 5: minsplit=3; cp=0.0335\n",
      "[Tune-y] 5: mmce.test.mean=0.213,acc.test.mean=0.787; time: 0.0 min\n",
      "[Tune-x] 6: minsplit=7; cp=0.0723\n",
      "[Tune-y] 6: mmce.test.mean=0.213,acc.test.mean=0.787; time: 0.0 min\n",
      "[Tune-x] 7: minsplit=15; cp=0.0428\n",
      "[Tune-y] 7: mmce.test.mean=0.213,acc.test.mean=0.787; time: 0.0 min\n",
      "[Tune-x] 8: minsplit=70; cp=0.0219\n",
      "[Tune-y] 8: mmce.test.mean=0.192,acc.test.mean=0.808; time: 0.0 min\n",
      "[Tune-x] 9: minsplit=30; cp=0.054\n",
      "[Tune-y] 9: mmce.test.mean=0.213,acc.test.mean=0.787; time: 0.0 min\n",
      "[Tune-x] 10: minsplit=20; cp=0.0353\n",
      "[Tune-y] 10: mmce.test.mean=0.213,acc.test.mean=0.787; time: 0.0 min\n",
      "[Tune-x] 11: minsplit=70; cp=0.00554\n",
      "[Tune-y] 11: mmce.test.mean=0.213,acc.test.mean=0.787; time: 0.0 min\n",
      "[Tune-x] 12: minsplit=20; cp=0.0263\n",
      "[Tune-y] 12: mmce.test.mean=0.193,acc.test.mean=0.807; time: 0.0 min\n",
      "[Tune-x] 13: minsplit=15; cp=0.0823\n",
      "[Tune-y] 13: mmce.test.mean=0.213,acc.test.mean=0.787; time: 0.0 min\n",
      "[Tune-x] 14: minsplit=70; cp=0.073\n",
      "[Tune-y] 14: mmce.test.mean=0.213,acc.test.mean=0.787; time: 0.0 min\n",
      "[Tune-x] 15: minsplit=30; cp=0.0493\n",
      "[Tune-y] 15: mmce.test.mean=0.213,acc.test.mean=0.787; time: 0.0 min\n",
      "[Tune-x] 16: minsplit=40; cp=0.059\n",
      "[Tune-y] 16: mmce.test.mean=0.213,acc.test.mean=0.787; time: 0.0 min\n",
      "[Tune-x] 17: minsplit=45; cp=0.0847\n",
      "[Tune-y] 17: mmce.test.mean=0.213,acc.test.mean=0.787; time: 0.0 min\n",
      "[Tune-x] 18: minsplit=70; cp=0.0151\n",
      "[Tune-y] 18: mmce.test.mean=0.198,acc.test.mean=0.802; time: 0.0 min\n",
      "[Tune-x] 19: minsplit=50; cp=0.0626\n",
      "[Tune-y] 19: mmce.test.mean=0.213,acc.test.mean=0.787; time: 0.0 min\n",
      "[Tune-x] 20: minsplit=5; cp=0.0375\n",
      "[Tune-y] 20: mmce.test.mean=0.213,acc.test.mean=0.787; time: 0.0 min\n",
      "[Tune-x] 21: minsplit=7; cp=0.0155\n",
      "[Tune-y] 21: mmce.test.mean=0.196,acc.test.mean=0.804; time: 0.0 min\n",
      "[Tune-x] 22: minsplit=3; cp=0.0288\n",
      "[Tune-y] 22: mmce.test.mean=0.201,acc.test.mean=0.799; time: 0.0 min\n",
      "[Tune-x] 23: minsplit=50; cp=0.0403\n",
      "[Tune-y] 23: mmce.test.mean=0.213,acc.test.mean=0.787; time: 0.0 min\n",
      "[Tune-x] 24: minsplit=70; cp=0.043\n",
      "[Tune-y] 24: mmce.test.mean=0.213,acc.test.mean=0.787; time: 0.0 min\n",
      "[Tune-x] 25: minsplit=45; cp=0.0949\n",
      "[Tune-y] 25: mmce.test.mean=0.213,acc.test.mean=0.787; time: 0.0 min\n",
      "[Tune-x] 26: minsplit=60; cp=0.0689\n",
      "[Tune-y] 26: mmce.test.mean=0.213,acc.test.mean=0.787; time: 0.0 min\n",
      "[Tune-x] 27: minsplit=100; cp=0.0785\n",
      "[Tune-y] 27: mmce.test.mean=0.213,acc.test.mean=0.787; time: 0.0 min\n",
      "[Tune-x] 28: minsplit=5; cp=0.0273\n",
      "[Tune-y] 28: mmce.test.mean=0.196,acc.test.mean=0.804; time: 0.0 min\n",
      "[Tune-x] 29: minsplit=10; cp=0.042\n",
      "[Tune-y] 29: mmce.test.mean=0.213,acc.test.mean=0.787; time: 0.0 min\n",
      "[Tune-x] 30: minsplit=50; cp=0.0909\n",
      "[Tune-y] 30: mmce.test.mean=0.213,acc.test.mean=0.787; time: 0.0 min\n",
      "[Tune-x] 31: minsplit=70; cp=0.0579\n",
      "[Tune-y] 31: mmce.test.mean=0.213,acc.test.mean=0.787; time: 0.0 min\n",
      "[Tune-x] 32: minsplit=60; cp=0.0529\n",
      "[Tune-y] 32: mmce.test.mean=0.213,acc.test.mean=0.787; time: 0.0 min\n",
      "[Tune-x] 33: minsplit=1; cp=0.06\n",
      "[Tune-y] 33: mmce.test.mean=0.213,acc.test.mean=0.787; time: 0.0 min\n",
      "[Tune-x] 34: minsplit=50; cp=0.0111\n",
      "[Tune-y] 34: mmce.test.mean=0.213,acc.test.mean=0.787; time: 0.0 min\n",
      "[Tune-x] 35: minsplit=1; cp=0.0813\n",
      "[Tune-y] 35: mmce.test.mean=0.213,acc.test.mean=0.787; time: 0.0 min\n",
      "[Tune-x] 36: minsplit=45; cp=0.00566\n",
      "[Tune-y] 36: mmce.test.mean=0.22,acc.test.mean=0.78; time: 0.0 min\n",
      "[Tune-x] 37: minsplit=20; cp=0.0784\n",
      "[Tune-y] 37: mmce.test.mean=0.213,acc.test.mean=0.787; time: 0.0 min\n",
      "[Tune-x] 38: minsplit=100; cp=0.0905\n",
      "[Tune-y] 38: mmce.test.mean=0.213,acc.test.mean=0.787; time: 0.0 min\n",
      "[Tune-x] 39: minsplit=15; cp=0.00744\n",
      "[Tune-y] 39: mmce.test.mean=0.189,acc.test.mean=0.811; time: 0.0 min\n",
      "[Tune-x] 40: minsplit=5; cp=0.000575\n",
      "[Tune-y] 40: mmce.test.mean=0.198,acc.test.mean=0.802; time: 0.0 min\n",
      "[Tune-x] 41: minsplit=20; cp=0.049\n",
      "[Tune-y] 41: mmce.test.mean=0.213,acc.test.mean=0.787; time: 0.0 min\n",
      "[Tune-x] 42: minsplit=5; cp=0.039\n",
      "[Tune-y] 42: mmce.test.mean=0.213,acc.test.mean=0.787; time: 0.0 min\n",
      "[Tune-x] 43: minsplit=7; cp=0.0254\n",
      "[Tune-y] 43: mmce.test.mean=0.193,acc.test.mean=0.807; time: 0.0 min\n",
      "[Tune-x] 44: minsplit=3; cp=0.0465\n",
      "[Tune-y] 44: mmce.test.mean=0.213,acc.test.mean=0.787; time: 0.0 min\n",
      "[Tune-x] 45: minsplit=100; cp=0.0858\n",
      "[Tune-y] 45: mmce.test.mean=0.213,acc.test.mean=0.787; time: 0.0 min\n",
      "[Tune-x] 46: minsplit=5; cp=0.0483\n",
      "[Tune-y] 46: mmce.test.mean=0.213,acc.test.mean=0.787; time: 0.0 min\n",
      "[Tune-x] 47: minsplit=45; cp=0.061\n",
      "[Tune-y] 47: mmce.test.mean=0.213,acc.test.mean=0.787; time: 0.0 min\n",
      "[Tune-x] 48: minsplit=15; cp=0.009\n",
      "[Tune-y] 48: mmce.test.mean=0.19,acc.test.mean=0.81; time: 0.0 min\n",
      "[Tune-x] 49: minsplit=20; cp=0.0902\n",
      "[Tune-y] 49: mmce.test.mean=0.213,acc.test.mean=0.787; time: 0.0 min\n",
      "[Tune-x] 50: minsplit=50; cp=0.00838\n",
      "[Tune-y] 50: mmce.test.mean=0.208,acc.test.mean=0.792; time: 0.0 min\n",
      "[Tune-x] 51: minsplit=50; cp=0.012\n",
      "[Tune-y] 51: mmce.test.mean=0.213,acc.test.mean=0.787; time: 0.0 min\n",
      "[Tune-x] 52: minsplit=10; cp=0.0289\n",
      "[Tune-y] 52: mmce.test.mean=0.201,acc.test.mean=0.799; time: 0.0 min\n",
      "[Tune-x] 53: minsplit=100; cp=0.0826\n",
      "[Tune-y] 53: mmce.test.mean=0.213,acc.test.mean=0.787; time: 0.0 min\n",
      "[Tune-x] 54: minsplit=5; cp=0.019\n",
      "[Tune-y] 54: mmce.test.mean=0.192,acc.test.mean=0.808; time: 0.0 min\n",
      "[Tune-x] 55: minsplit=45; cp=0.0563\n",
      "[Tune-y] 55: mmce.test.mean=0.213,acc.test.mean=0.787; time: 0.0 min\n",
      "[Tune-x] 56: minsplit=15; cp=0.00206\n",
      "[Tune-y] 56: mmce.test.mean=0.195,acc.test.mean=0.805; time: 0.0 min\n",
      "[Tune-x] 57: minsplit=10; cp=0.00923\n",
      "[Tune-y] 57: mmce.test.mean=0.189,acc.test.mean=0.811; time: 0.0 min\n",
      "[Tune-x] 58: minsplit=40; cp=0.0303\n",
      "[Tune-y] 58: mmce.test.mean=0.206,acc.test.mean=0.794; time: 0.0 min\n",
      "[Tune-x] 59: minsplit=70; cp=0.0595\n",
      "[Tune-y] 59: mmce.test.mean=0.213,acc.test.mean=0.787; time: 0.0 min\n",
      "[Tune-x] 60: minsplit=30; cp=0.081\n",
      "[Tune-y] 60: mmce.test.mean=0.213,acc.test.mean=0.787; time: 0.0 min\n",
      "[Tune-x] 61: minsplit=70; cp=0.0292\n",
      "[Tune-y] 61: mmce.test.mean=0.201,acc.test.mean=0.799; time: 0.0 min\n",
      "[Tune-x] 62: minsplit=3; cp=0.0785\n",
      "[Tune-y] 62: mmce.test.mean=0.213,acc.test.mean=0.787; time: 0.0 min\n",
      "[Tune-x] 63: minsplit=10; cp=0.0148\n",
      "[Tune-y] 63: mmce.test.mean=0.196,acc.test.mean=0.804; time: 0.0 min\n",
      "[Tune-x] 64: minsplit=5; cp=0.015\n",
      "[Tune-y] 64: mmce.test.mean=0.196,acc.test.mean=0.804; time: 0.0 min\n",
      "[Tune-x] 65: minsplit=50; cp=0.0447\n",
      "[Tune-y] 65: mmce.test.mean=0.213,acc.test.mean=0.787; time: 0.0 min\n",
      "[Tune-x] 66: minsplit=60; cp=0.0787\n",
      "[Tune-y] 66: mmce.test.mean=0.213,acc.test.mean=0.787; time: 0.0 min\n",
      "[Tune-x] 67: minsplit=70; cp=0.0628\n",
      "[Tune-y] 67: mmce.test.mean=0.213,acc.test.mean=0.787; time: 0.0 min\n",
      "[Tune-x] 68: minsplit=10; cp=0.0267\n",
      "[Tune-y] 68: mmce.test.mean=0.193,acc.test.mean=0.807; time: 0.0 min\n",
      "[Tune-x] 69: minsplit=15; cp=0.0255\n",
      "[Tune-y] 69: mmce.test.mean=0.193,acc.test.mean=0.807; time: 0.0 min\n",
      "[Tune-x] 70: minsplit=20; cp=0.0204\n",
      "[Tune-y] 70: mmce.test.mean=0.193,acc.test.mean=0.807; time: 0.0 min\n",
      "[Tune-x] 71: minsplit=20; cp=0.0774\n",
      "[Tune-y] 71: mmce.test.mean=0.213,acc.test.mean=0.787; time: 0.0 min\n",
      "[Tune-x] 72: minsplit=7; cp=0.0957\n",
      "[Tune-y] 72: mmce.test.mean=0.213,acc.test.mean=0.787; time: 0.0 min\n",
      "[Tune-x] 73: minsplit=60; cp=0.0311\n",
      "[Tune-y] 73: mmce.test.mean=0.206,acc.test.mean=0.794; time: 0.0 min\n",
      "[Tune-x] 74: minsplit=1; cp=0.0356\n",
      "[Tune-y] 74: mmce.test.mean=0.213,acc.test.mean=0.787; time: 0.0 min\n",
      "[Tune-x] 75: minsplit=100; cp=0.0616\n",
      "[Tune-y] 75: mmce.test.mean=0.213,acc.test.mean=0.787; time: 0.0 min\n"
     ]
    },
    {
     "name": "stderr",
     "output_type": "stream",
     "text": [
      "[Tune-x] 76: minsplit=40; cp=0.0922\n",
      "[Tune-y] 76: mmce.test.mean=0.213,acc.test.mean=0.787; time: 0.0 min\n",
      "[Tune-x] 77: minsplit=100; cp=0.0698\n",
      "[Tune-y] 77: mmce.test.mean=0.213,acc.test.mean=0.787; time: 0.0 min\n",
      "[Tune-x] 78: minsplit=30; cp=0.037\n",
      "[Tune-y] 78: mmce.test.mean=0.213,acc.test.mean=0.787; time: 0.0 min\n",
      "[Tune-x] 79: minsplit=3; cp=0.0347\n",
      "[Tune-y] 79: mmce.test.mean=0.213,acc.test.mean=0.787; time: 0.0 min\n",
      "[Tune-x] 80: minsplit=70; cp=0.0964\n",
      "[Tune-y] 80: mmce.test.mean=0.213,acc.test.mean=0.787; time: 0.0 min\n",
      "[Tune-x] 81: minsplit=40; cp=0.0346\n",
      "[Tune-y] 81: mmce.test.mean=0.213,acc.test.mean=0.787; time: 0.0 min\n",
      "[Tune-x] 82: minsplit=1; cp=0.059\n",
      "[Tune-y] 82: mmce.test.mean=0.213,acc.test.mean=0.787; time: 0.0 min\n",
      "[Tune-x] 83: minsplit=30; cp=0.0936\n",
      "[Tune-y] 83: mmce.test.mean=0.213,acc.test.mean=0.787; time: 0.0 min\n",
      "[Tune-x] 84: minsplit=50; cp=0.081\n",
      "[Tune-y] 84: mmce.test.mean=0.213,acc.test.mean=0.787; time: 0.0 min\n",
      "[Tune-x] 85: minsplit=45; cp=0.0191\n",
      "[Tune-y] 85: mmce.test.mean=0.195,acc.test.mean=0.805; time: 0.0 min\n",
      "[Tune-x] 86: minsplit=15; cp=0.0519\n",
      "[Tune-y] 86: mmce.test.mean=0.213,acc.test.mean=0.787; time: 0.0 min\n",
      "[Tune-x] 87: minsplit=5; cp=0.0651\n",
      "[Tune-y] 87: mmce.test.mean=0.213,acc.test.mean=0.787; time: 0.0 min\n",
      "[Tune-x] 88: minsplit=7; cp=0.0588\n",
      "[Tune-y] 88: mmce.test.mean=0.213,acc.test.mean=0.787; time: 0.0 min\n",
      "[Tune-x] 89: minsplit=45; cp=0.0365\n",
      "[Tune-y] 89: mmce.test.mean=0.213,acc.test.mean=0.787; time: 0.0 min\n",
      "[Tune-x] 90: minsplit=40; cp=0.096\n",
      "[Tune-y] 90: mmce.test.mean=0.213,acc.test.mean=0.787; time: 0.0 min\n",
      "[Tune-x] 91: minsplit=30; cp=0.0814\n",
      "[Tune-y] 91: mmce.test.mean=0.213,acc.test.mean=0.787; time: 0.0 min\n",
      "[Tune-x] 92: minsplit=15; cp=0.00534\n",
      "[Tune-y] 92: mmce.test.mean=0.191,acc.test.mean=0.809; time: 0.0 min\n",
      "[Tune-x] 93: minsplit=100; cp=0.0279\n",
      "[Tune-y] 93: mmce.test.mean=0.215,acc.test.mean=0.785; time: 0.0 min\n",
      "[Tune-x] 94: minsplit=10; cp=0.0831\n",
      "[Tune-y] 94: mmce.test.mean=0.213,acc.test.mean=0.787; time: 0.0 min\n",
      "[Tune-x] 95: minsplit=100; cp=0.0337\n",
      "[Tune-y] 95: mmce.test.mean=0.219,acc.test.mean=0.781; time: 0.0 min\n",
      "[Tune-x] 96: minsplit=50; cp=0.0504\n",
      "[Tune-y] 96: mmce.test.mean=0.213,acc.test.mean=0.787; time: 0.0 min\n",
      "[Tune-x] 97: minsplit=70; cp=0.0882\n",
      "[Tune-y] 97: mmce.test.mean=0.213,acc.test.mean=0.787; time: 0.0 min\n",
      "[Tune-x] 98: minsplit=40; cp=0.0717\n",
      "[Tune-y] 98: mmce.test.mean=0.213,acc.test.mean=0.787; time: 0.0 min\n",
      "[Tune-x] 99: minsplit=20; cp=0.0679\n",
      "[Tune-y] 99: mmce.test.mean=0.213,acc.test.mean=0.787; time: 0.0 min\n",
      "[Tune-x] 100: minsplit=15; cp=0.0707\n",
      "[Tune-y] 100: mmce.test.mean=0.213,acc.test.mean=0.787; time: 0.0 min\n",
      "[Tune] Result: minsplit=10; cp=0.00923 : mmce.test.mean=0.189,acc.test.mean=0.811\n"
     ]
    }
   ],
   "source": [
    "### Tune the model \n",
    "# we chose two numeric parameters above and now search for optimal values\n",
    "# check available parameters\n",
    "set.seed(1337)\n",
    "getLearnerParamSet(learner)\n",
    "# make parameter set\n",
    "paramSet = makeParamSet(\n",
    "    makeDiscreteParam(\"minsplit\", values = c(1, 3, 5, 7, 10, 15, 20, 30, 40, 45, 50, 60, 70, 100)), \n",
    "    makeNumericParam(\"cp\", lower = 0.0001, upper = 0.1)\n",
    ")\n",
    "# choose random search - why not grid search?\n",
    "ctrl = makeTuneControlRandom(maxit = 100)\n",
    "resDesc = makeResampleDesc(\"CV\", iters = 10L, predict = \"both\")\n",
    "tunes = mlr::tuneParams(learner = learner, task = task, resampling = resDesc,\n",
    "    par.set = paramSet, control = ctrl, measures = list(mmce, acc))"
   ]
  },
  {
   "cell_type": "markdown",
   "metadata": {},
   "source": [
    "Visualize the random search over both parameters:"
   ]
  },
  {
   "cell_type": "code",
   "execution_count": 82,
   "metadata": {},
   "outputs": [
    {
     "data": {},
     "metadata": {},
     "output_type": "display_data"
    },
    {
     "data": {
      "text/plain": [
       "Tune result:\n",
       "Op. pars: minsplit=10; cp=0.00923\n",
       "mmce.test.mean=0.189,acc.test.mean=0.811"
      ]
     },
     "metadata": {},
     "output_type": "display_data"
    },
    {
     "data": {
      "image/png": "[encoded data removed]",
      "text/plain": [
       "plot without title"
      ]
     },
     "metadata": {},
     "output_type": "display_data"
    }
   ],
   "source": [
    "visHyper = generateHyperParsEffectData(tunes)\n",
    "plt = plotHyperParsEffect(visHyper, x = \"minsplit\", y = \"cp\", z = \"acc.test.mean\")\n",
    "plt\n",
    "# tuning result\n",
    "tunes"
   ]
  },
  {
   "cell_type": "markdown",
   "metadata": {},
   "source": [
    "Store and submit those results to kaggle"
   ]
  },
  {
   "cell_type": "code",
   "execution_count": 83,
   "metadata": {
    "collapsed": true
   },
   "outputs": [],
   "source": [
    "# use those param settings for the CART\n",
    "learner = makeLearner(cl = \"classif.rpart\", \n",
    "    par.vals = list(minsplit = 10, cp = 0.0923))# inspect the learner\n",
    "# learner\n",
    "mod = mlr::train(learner = learner, task = task)\n",
    "\n",
    "# predict for submission\n",
    "pred = predict(mod, newdata = test)\n",
    "submission = pred$data\n",
    "\n",
    "submission$PassengerId = allTest$PassengerId\n",
    "\n",
    "colnames(submission) = c(\"Survived\", \"PassengerId\")\n",
    "\n",
    "write.csv(submission, file = \"data/submissionTitanic_2.csv\", row.names = FALSE)"
   ]
  },
  {
   "cell_type": "markdown",
   "metadata": {},
   "source": [
    "#### Check variable importances"
   ]
  },
  {
   "cell_type": "code",
   "execution_count": 84,
   "metadata": {},
   "outputs": [
    {
     "data": {},
     "metadata": {},
     "output_type": "display_data"
    },
    {
     "data": {
      "image/png": "[encoded data removed]",
      "text/plain": [
       "plot without title"
      ]
     },
     "metadata": {},
     "output_type": "display_data"
    }
   ],
   "source": [
    "library(ggplot2)\n",
    "varimp = getFeatureImportance(mod)\n",
    "var = as.data.frame(t(varimp$res))\n",
    "var$names = names(varimp$res)\n",
    "p = ggplot(data = var, aes(x = names, y = V1)) + geom_bar(stat = \"identity\") +\n",
    "    ggtitle(label = \"Variable Importances\")\n",
    "p"
   ]
  },
  {
   "cell_type": "markdown",
   "metadata": {},
   "source": [
    "### Feature engineering\n",
    "\n",
    "Can we further condense the information from the multi-level factors and use it for our model?\n",
    "\n",
    "We take a closer look at the names of the guests. \n"
   ]
  },
  {
   "cell_type": "code",
   "execution_count": 85,
   "metadata": {
    "scrolled": true
   },
   "outputs": [
    {
     "data": {
      "text/html": [
       "<ol class=list-inline>\n",
       "\t<li>Braund, Mr. Owen Harris</li>\n",
       "\t<li>Cumings, Mrs. John Bradley (Florence Briggs Thayer)</li>\n",
       "\t<li>Heikkinen, Miss. Laina</li>\n",
       "\t<li>Futrelle, Mrs. Jacques Heath (Lily May Peel)</li>\n",
       "\t<li>Allen, Mr. William Henry</li>\n",
       "\t<li>Moran, Mr. James</li>\n",
       "</ol>\n"
      ],
      "text/latex": [
       "\\begin{enumerate*}\n",
       "\\item Braund, Mr. Owen Harris\n",
       "\\item Cumings, Mrs. John Bradley (Florence Briggs Thayer)\n",
       "\\item Heikkinen, Miss. Laina\n",
       "\\item Futrelle, Mrs. Jacques Heath (Lily May Peel)\n",
       "\\item Allen, Mr. William Henry\n",
       "\\item Moran, Mr. James\n",
       "\\end{enumerate*}\n"
      ],
      "text/markdown": [
       "1. Braund, Mr. Owen Harris\n",
       "2. Cumings, Mrs. John Bradley (Florence Briggs Thayer)\n",
       "3. Heikkinen, Miss. Laina\n",
       "4. Futrelle, Mrs. Jacques Heath (Lily May Peel)\n",
       "5. Allen, Mr. William Henry\n",
       "6. Moran, Mr. James\n",
       "\n",
       "\n"
      ],
      "text/plain": [
       "[1] Braund, Mr. Owen Harris                            \n",
       "[2] Cumings, Mrs. John Bradley (Florence Briggs Thayer)\n",
       "[3] Heikkinen, Miss. Laina                             \n",
       "[4] Futrelle, Mrs. Jacques Heath (Lily May Peel)       \n",
       "[5] Allen, Mr. William Henry                           \n",
       "[6] Moran, Mr. James                                   \n",
       "1307 Levels: Abbing, Mr. Anthony ... Zakarian, Mr. Ortin"
      ]
     },
     "metadata": {},
     "output_type": "display_data"
    }
   ],
   "source": [
    "\n",
    "### feature engineering\n",
    "library(dplyr)\n",
    "\n",
    "# indicator for train or test set\n",
    "allTrain$train = 1\n",
    "allTest$train = 0\n",
    "allTest$Survived = NA\n",
    "\n",
    "# compute once for all data and split again for training with ID\n",
    "allData = rbind(allTrain, allTest)\n",
    "engData = allData\n",
    "\n",
    "head(allData$Name)\n"
   ]
  },
  {
   "cell_type": "markdown",
   "metadata": {},
   "source": [
    "We can see, that there is information on the title of the people in their names. We use that information as a new feature!"
   ]
  },
  {
   "cell_type": "code",
   "execution_count": 86,
   "metadata": {},
   "outputs": [
    {
     "data": {
      "text/plain": [
       "\n",
       "    Capt.      Col.      Don.     Dona.       Dr. Jonkheer.     Lady.    Major. \n",
       "        1         4         1         1         8         1         1         2 \n",
       "  Master.     Miss.     Mlle.      Mme.       Mr.      Mrs.       Ms.      Rev. \n",
       "       61       260         2         1       757       197         2         8 \n",
       "     Sir.       the \n",
       "        1         1 "
      ]
     },
     "metadata": {},
     "output_type": "display_data"
    }
   ],
   "source": [
    "# use regular expressions via strplit to extract the title of the people\n",
    "# temporary storage\n",
    "temp = sapply(strsplit(as.character(allData$Name), split = \",\"), function(x) x[2])\n",
    "title = strsplit(temp, split = \" \")\n",
    "engData$title = sapply(title, function(x) x[2])\n",
    "# unfortunately still too many titles with too less observations\n",
    "table(engData$title)"
   ]
  },
  {
   "cell_type": "markdown",
   "metadata": {},
   "source": [
    "Btw.: we found the Captain:"
   ]
  },
  {
   "cell_type": "code",
   "execution_count": 87,
   "metadata": {},
   "outputs": [
    {
     "data": {
      "text/html": [
       "Crosby, Capt. Edward Gifford"
      ],
      "text/latex": [
       "Crosby, Capt. Edward Gifford"
      ],
      "text/markdown": [
       "Crosby, Capt. Edward Gifford"
      ],
      "text/plain": [
       "[1] Crosby, Capt. Edward Gifford\n",
       "1307 Levels: Abbing, Mr. Anthony ... Zakarian, Mr. Ortin"
      ]
     },
     "metadata": {},
     "output_type": "display_data"
    }
   ],
   "source": [
    "# btw.: we found the captain:\n",
    "allData[which(engData$title == \"Capt.\"), \"Name\"]"
   ]
  },
  {
   "cell_type": "markdown",
   "metadata": {},
   "source": [
    "condense those with obs < 5 to class \"other\""
   ]
  },
  {
   "cell_type": "code",
   "execution_count": 88,
   "metadata": {},
   "outputs": [
    {
     "data": {
      "text/plain": [
       "\n",
       "    Dr. Master.   Miss.     Mr.    Mrs.   other    Rev. \n",
       "      8      61     260     757     197      18       8 "
      ]
     },
     "metadata": {},
     "output_type": "display_data"
    }
   ],
   "source": [
    "freqs = as.data.frame(table(engData$title))\n",
    "otherTitles = freqs[which(freqs$Freq < 5), \"Var1\"]\n",
    "engData[which(engData$title %in% otherTitles), \"title\"] = \"other\"\n",
    "engData$title = as.factor(engData$title)\n",
    "# looks better now\n",
    "table(engData$title)"
   ]
  },
  {
   "cell_type": "markdown",
   "metadata": {},
   "source": [
    "### Build updated model"
   ]
  },
  {
   "cell_type": "code",
   "execution_count": 89,
   "metadata": {
    "scrolled": true
   },
   "outputs": [
    {
     "name": "stderr",
     "output_type": "stream",
     "text": [
      "[Tune] Started tuning learner classif.rpart for parameter set:\n",
      "             Type len Def                                 Constr Req Tunable\n",
      "minsplit discrete   -   - 1,3,5,7,10,15,20,30,40,45,50,60,70,100   -    TRUE\n",
      "cp        numeric   -   -                          0.0001 to 0.1   -    TRUE\n",
      "         Trafo\n",
      "minsplit     -\n",
      "cp           -\n",
      "With control class: TuneControlRandom\n",
      "Imputation value: 1Imputation value: -0\n",
      "[Tune-x] 1: minsplit=45; cp=0.0231\n",
      "[Tune-y] 1: mmce.test.mean=0.175,acc.test.mean=0.825; time: 0.0 min\n",
      "[Tune-x] 2: minsplit=7; cp=0.0995\n",
      "[Tune-y] 2: mmce.test.mean=0.212,acc.test.mean=0.788; time: 0.0 min\n",
      "[Tune-x] 3: minsplit=40; cp=0.0725\n",
      "[Tune-y] 3: mmce.test.mean=0.212,acc.test.mean=0.788; time: 0.0 min\n",
      "[Tune-x] 4: minsplit=70; cp=0.00889\n",
      "[Tune-y] 4: mmce.test.mean=0.184,acc.test.mean=0.816; time: 0.0 min\n",
      "[Tune-x] 5: minsplit=7; cp=0.0449\n",
      "[Tune-y] 5: mmce.test.mean=0.175,acc.test.mean=0.825; time: 0.0 min\n",
      "[Tune-x] 6: minsplit=50; cp=0.06\n",
      "[Tune-y] 6: mmce.test.mean=0.212,acc.test.mean=0.788; time: 0.0 min\n",
      "[Tune-x] 7: minsplit=40; cp=0.0432\n",
      "[Tune-y] 7: mmce.test.mean=0.175,acc.test.mean=0.825; time: 0.0 min\n",
      "[Tune-x] 8: minsplit=70; cp=0.0658\n",
      "[Tune-y] 8: mmce.test.mean=0.212,acc.test.mean=0.788; time: 0.0 min\n",
      "[Tune-x] 9: minsplit=30; cp=0.0641\n",
      "[Tune-y] 9: mmce.test.mean=0.212,acc.test.mean=0.788; time: 0.0 min\n",
      "[Tune-x] 10: minsplit=3; cp=0.0324\n",
      "[Tune-y] 10: mmce.test.mean=0.175,acc.test.mean=0.825; time: 0.0 min\n",
      "[Tune-x] 11: minsplit=40; cp=0.00601\n",
      "[Tune-y] 11: mmce.test.mean=0.169,acc.test.mean=0.831; time: 0.0 min\n",
      "[Tune-x] 12: minsplit=10; cp=0.0517\n",
      "[Tune-y] 12: mmce.test.mean=0.19,acc.test.mean=0.81; time: 0.0 min\n",
      "[Tune-x] 13: minsplit=100; cp=0.0834\n",
      "[Tune-y] 13: mmce.test.mean=0.212,acc.test.mean=0.788; time: 0.0 min\n",
      "[Tune-x] 14: minsplit=50; cp=0.0895\n",
      "[Tune-y] 14: mmce.test.mean=0.212,acc.test.mean=0.788; time: 0.0 min\n",
      "[Tune-x] 15: minsplit=10; cp=0.0827\n",
      "[Tune-y] 15: mmce.test.mean=0.212,acc.test.mean=0.788; time: 0.0 min\n",
      "[Tune-x] 16: minsplit=40; cp=0.0865\n",
      "[Tune-y] 16: mmce.test.mean=0.212,acc.test.mean=0.788; time: 0.0 min\n",
      "[Tune-x] 17: minsplit=7; cp=0.0212\n",
      "[Tune-y] 17: mmce.test.mean=0.175,acc.test.mean=0.825; time: 0.0 min\n",
      "[Tune-x] 18: minsplit=10; cp=0.0531\n",
      "[Tune-y] 18: mmce.test.mean= 0.2,acc.test.mean= 0.8; time: 0.0 min\n",
      "[Tune-x] 19: minsplit=60; cp=0.0801\n",
      "[Tune-y] 19: mmce.test.mean=0.212,acc.test.mean=0.788; time: 0.0 min\n",
      "[Tune-x] 20: minsplit=40; cp=0.088\n",
      "[Tune-y] 20: mmce.test.mean=0.212,acc.test.mean=0.788; time: 0.0 min\n",
      "[Tune-x] 21: minsplit=3; cp=0.0298\n",
      "[Tune-y] 21: mmce.test.mean=0.175,acc.test.mean=0.825; time: 0.0 min\n",
      "[Tune-x] 22: minsplit=20; cp=0.0771\n",
      "[Tune-y] 22: mmce.test.mean=0.212,acc.test.mean=0.788; time: 0.0 min\n",
      "[Tune-x] 23: minsplit=60; cp=0.0695\n",
      "[Tune-y] 23: mmce.test.mean=0.212,acc.test.mean=0.788; time: 0.0 min\n",
      "[Tune-x] 24: minsplit=10; cp=0.018\n",
      "[Tune-y] 24: mmce.test.mean=0.183,acc.test.mean=0.817; time: 0.0 min\n",
      "[Tune-x] 25: minsplit=60; cp=0.0936\n",
      "[Tune-y] 25: mmce.test.mean=0.212,acc.test.mean=0.788; time: 0.0 min\n",
      "[Tune-x] 26: minsplit=15; cp=0.0965\n",
      "[Tune-y] 26: mmce.test.mean=0.212,acc.test.mean=0.788; time: 0.0 min\n",
      "[Tune-x] 27: minsplit=20; cp=0.0372\n",
      "[Tune-y] 27: mmce.test.mean=0.175,acc.test.mean=0.825; time: 0.0 min\n",
      "[Tune-x] 28: minsplit=40; cp=0.05\n",
      "[Tune-y] 28: mmce.test.mean=0.19,acc.test.mean=0.81; time: 0.0 min\n",
      "[Tune-x] 29: minsplit=45; cp=0.0255\n",
      "[Tune-y] 29: mmce.test.mean=0.175,acc.test.mean=0.825; time: 0.0 min\n",
      "[Tune-x] 30: minsplit=20; cp=0.00529\n",
      "[Tune-y] 30: mmce.test.mean=0.171,acc.test.mean=0.829; time: 0.0 min\n",
      "[Tune-x] 31: minsplit=100; cp=0.0443\n",
      "[Tune-y] 31: mmce.test.mean=0.175,acc.test.mean=0.825; time: 0.0 min\n",
      "[Tune-x] 32: minsplit=20; cp=0.0541\n",
      "[Tune-y] 32: mmce.test.mean=0.203,acc.test.mean=0.797; time: 0.0 min\n",
      "[Tune-x] 33: minsplit=3; cp=0.0611\n",
      "[Tune-y] 33: mmce.test.mean=0.212,acc.test.mean=0.788; time: 0.0 min\n",
      "[Tune-x] 34: minsplit=7; cp=0.065\n",
      "[Tune-y] 34: mmce.test.mean=0.212,acc.test.mean=0.788; time: 0.0 min\n",
      "[Tune-x] 35: minsplit=100; cp=0.00059\n",
      "[Tune-y] 35: mmce.test.mean=0.187,acc.test.mean=0.813; time: 0.0 min\n",
      "[Tune-x] 36: minsplit=70; cp=0.0215\n",
      "[Tune-y] 36: mmce.test.mean=0.175,acc.test.mean=0.825; time: 0.0 min\n",
      "[Tune-x] 37: minsplit=30; cp=0.0711\n",
      "[Tune-y] 37: mmce.test.mean=0.212,acc.test.mean=0.788; time: 0.0 min\n",
      "[Tune-x] 38: minsplit=45; cp=0.0423\n",
      "[Tune-y] 38: mmce.test.mean=0.175,acc.test.mean=0.825; time: 0.0 min\n",
      "[Tune-x] 39: minsplit=1; cp=0.0833\n",
      "[Tune-y] 39: mmce.test.mean=0.212,acc.test.mean=0.788; time: 0.0 min\n",
      "[Tune-x] 40: minsplit=15; cp=0.0447\n",
      "[Tune-y] 40: mmce.test.mean=0.175,acc.test.mean=0.825; time: 0.0 min\n",
      "[Tune-x] 41: minsplit=3; cp=0.0625\n",
      "[Tune-y] 41: mmce.test.mean=0.212,acc.test.mean=0.788; time: 0.0 min\n",
      "[Tune-x] 42: minsplit=3; cp=0.016\n",
      "[Tune-y] 42: mmce.test.mean=0.183,acc.test.mean=0.817; time: 0.0 min\n",
      "[Tune-x] 43: minsplit=7; cp=0.0706\n",
      "[Tune-y] 43: mmce.test.mean=0.212,acc.test.mean=0.788; time: 0.0 min\n",
      "[Tune-x] 44: minsplit=15; cp=0.0866\n",
      "[Tune-y] 44: mmce.test.mean=0.212,acc.test.mean=0.788; time: 0.0 min\n",
      "[Tune-x] 45: minsplit=40; cp=0.0225\n",
      "[Tune-y] 45: mmce.test.mean=0.175,acc.test.mean=0.825; time: 0.0 min\n",
      "[Tune-x] 46: minsplit=7; cp=0.0197\n",
      "[Tune-y] 46: mmce.test.mean=0.175,acc.test.mean=0.825; time: 0.0 min\n",
      "[Tune-x] 47: minsplit=70; cp=0.0292\n",
      "[Tune-y] 47: mmce.test.mean=0.175,acc.test.mean=0.825; time: 0.0 min\n",
      "[Tune-x] 48: minsplit=60; cp=0.0474\n",
      "[Tune-y] 48: mmce.test.mean=0.184,acc.test.mean=0.816; time: 0.0 min\n",
      "[Tune-x] 49: minsplit=3; cp=0.0863\n",
      "[Tune-y] 49: mmce.test.mean=0.212,acc.test.mean=0.788; time: 0.0 min\n",
      "[Tune-x] 50: minsplit=45; cp=0.045\n",
      "[Tune-y] 50: mmce.test.mean=0.175,acc.test.mean=0.825; time: 0.0 min\n",
      "[Tune-x] 51: minsplit=15; cp=0.0962\n",
      "[Tune-y] 51: mmce.test.mean=0.212,acc.test.mean=0.788; time: 0.0 min\n",
      "[Tune-x] 52: minsplit=20; cp=0.0409\n",
      "[Tune-y] 52: mmce.test.mean=0.175,acc.test.mean=0.825; time: 0.0 min\n",
      "[Tune-x] 53: minsplit=15; cp=0.0255\n",
      "[Tune-y] 53: mmce.test.mean=0.175,acc.test.mean=0.825; time: 0.0 min\n",
      "[Tune-x] 54: minsplit=60; cp=0.0792\n",
      "[Tune-y] 54: mmce.test.mean=0.212,acc.test.mean=0.788; time: 0.0 min\n",
      "[Tune-x] 55: minsplit=20; cp=0.00299\n",
      "[Tune-y] 55: mmce.test.mean=0.177,acc.test.mean=0.823; time: 0.0 min\n",
      "[Tune-x] 56: minsplit=7; cp=0.0793\n",
      "[Tune-y] 56: mmce.test.mean=0.212,acc.test.mean=0.788; time: 0.0 min\n",
      "[Tune-x] 57: minsplit=40; cp=0.0377\n",
      "[Tune-y] 57: mmce.test.mean=0.175,acc.test.mean=0.825; time: 0.0 min\n",
      "[Tune-x] 58: minsplit=1; cp=0.0667\n",
      "[Tune-y] 58: mmce.test.mean=0.212,acc.test.mean=0.788; time: 0.0 min\n",
      "[Tune-x] 59: minsplit=70; cp=0.000655\n",
      "[Tune-y] 59: mmce.test.mean=0.189,acc.test.mean=0.811; time: 0.0 min\n",
      "[Tune-x] 60: minsplit=60; cp=0.0991\n",
      "[Tune-y] 60: mmce.test.mean=0.212,acc.test.mean=0.788; time: 0.0 min\n",
      "[Tune-x] 61: minsplit=60; cp=0.0944\n",
      "[Tune-y] 61: mmce.test.mean=0.212,acc.test.mean=0.788; time: 0.0 min\n",
      "[Tune-x] 62: minsplit=30; cp=0.0982\n",
      "[Tune-y] 62: mmce.test.mean=0.212,acc.test.mean=0.788; time: 0.0 min\n",
      "[Tune-x] 63: minsplit=15; cp=0.0309\n",
      "[Tune-y] 63: mmce.test.mean=0.175,acc.test.mean=0.825; time: 0.0 min\n",
      "[Tune-x] 64: minsplit=5; cp=0.055\n",
      "[Tune-y] 64: mmce.test.mean=0.21,acc.test.mean=0.79; time: 0.0 min\n",
      "[Tune-x] 65: minsplit=10; cp=0.0666\n",
      "[Tune-y] 65: mmce.test.mean=0.212,acc.test.mean=0.788; time: 0.0 min\n",
      "[Tune-x] 66: minsplit=1; cp=0.0561\n",
      "[Tune-y] 66: mmce.test.mean=0.21,acc.test.mean=0.79; time: 0.0 min\n",
      "[Tune-x] 67: minsplit=1; cp=0.0219\n",
      "[Tune-y] 67: mmce.test.mean=0.175,acc.test.mean=0.825; time: 0.0 min\n",
      "[Tune-x] 68: minsplit=3; cp=0.0855\n",
      "[Tune-y] 68: mmce.test.mean=0.212,acc.test.mean=0.788; time: 0.0 min\n",
      "[Tune-x] 69: minsplit=15; cp=0.0999\n",
      "[Tune-y] 69: mmce.test.mean=0.212,acc.test.mean=0.788; time: 0.0 min\n",
      "[Tune-x] 70: minsplit=30; cp=0.0857\n",
      "[Tune-y] 70: mmce.test.mean=0.212,acc.test.mean=0.788; time: 0.0 min\n",
      "[Tune-x] 71: minsplit=45; cp=0.0911\n",
      "[Tune-y] 71: mmce.test.mean=0.212,acc.test.mean=0.788; time: 0.0 min\n",
      "[Tune-x] 72: minsplit=70; cp=0.00884\n",
      "[Tune-y] 72: mmce.test.mean=0.184,acc.test.mean=0.816; time: 0.0 min\n",
      "[Tune-x] 73: minsplit=50; cp=0.0354\n",
      "[Tune-y] 73: mmce.test.mean=0.175,acc.test.mean=0.825; time: 0.0 min\n",
      "[Tune-x] 74: minsplit=60; cp=0.0918\n",
      "[Tune-y] 74: mmce.test.mean=0.212,acc.test.mean=0.788; time: 0.0 min\n",
      "[Tune-x] 75: minsplit=30; cp=0.0703\n",
      "[Tune-y] 75: mmce.test.mean=0.212,acc.test.mean=0.788; time: 0.0 min\n"
     ]
    },
    {
     "name": "stderr",
     "output_type": "stream",
     "text": [
      "[Tune-x] 76: minsplit=30; cp=0.0493\n",
      "[Tune-y] 76: mmce.test.mean=0.184,acc.test.mean=0.816; time: 0.0 min\n",
      "[Tune-x] 77: minsplit=5; cp=0.0811\n",
      "[Tune-y] 77: mmce.test.mean=0.212,acc.test.mean=0.788; time: 0.0 min\n",
      "[Tune-x] 78: minsplit=7; cp=0.0371\n",
      "[Tune-y] 78: mmce.test.mean=0.175,acc.test.mean=0.825; time: 0.0 min\n",
      "[Tune-x] 79: minsplit=70; cp=0.0894\n",
      "[Tune-y] 79: mmce.test.mean=0.212,acc.test.mean=0.788; time: 0.0 min\n",
      "[Tune-x] 80: minsplit=60; cp=0.0701\n",
      "[Tune-y] 80: mmce.test.mean=0.212,acc.test.mean=0.788; time: 0.0 min\n",
      "[Tune-x] 81: minsplit=1; cp=0.0247\n",
      "[Tune-y] 81: mmce.test.mean=0.175,acc.test.mean=0.825; time: 0.0 min\n",
      "[Tune-x] 82: minsplit=15; cp=0.0116\n",
      "[Tune-y] 82: mmce.test.mean=0.176,acc.test.mean=0.824; time: 0.0 min\n",
      "[Tune-x] 83: minsplit=60; cp=0.0479\n",
      "[Tune-y] 83: mmce.test.mean=0.184,acc.test.mean=0.816; time: 0.0 min\n",
      "[Tune-x] 84: minsplit=5; cp=0.0623\n",
      "[Tune-y] 84: mmce.test.mean=0.212,acc.test.mean=0.788; time: 0.0 min\n",
      "[Tune-x] 85: minsplit=30; cp=0.0867\n",
      "[Tune-y] 85: mmce.test.mean=0.212,acc.test.mean=0.788; time: 0.0 min\n",
      "[Tune-x] 86: minsplit=100; cp=0.0287\n",
      "[Tune-y] 86: mmce.test.mean=0.175,acc.test.mean=0.825; time: 0.0 min\n",
      "[Tune-x] 87: minsplit=50; cp=0.0868\n",
      "[Tune-y] 87: mmce.test.mean=0.212,acc.test.mean=0.788; time: 0.0 min\n",
      "[Tune-x] 88: minsplit=50; cp=0.00183\n",
      "[Tune-y] 88: mmce.test.mean=0.192,acc.test.mean=0.808; time: 0.0 min\n",
      "[Tune-x] 89: minsplit=5; cp=0.0246\n",
      "[Tune-y] 89: mmce.test.mean=0.175,acc.test.mean=0.825; time: 0.0 min\n",
      "[Tune-x] 90: minsplit=40; cp=0.0298\n",
      "[Tune-y] 90: mmce.test.mean=0.175,acc.test.mean=0.825; time: 0.0 min\n",
      "[Tune-x] 91: minsplit=60; cp=0.0729\n",
      "[Tune-y] 91: mmce.test.mean=0.212,acc.test.mean=0.788; time: 0.0 min\n",
      "[Tune-x] 92: minsplit=15; cp=0.0891\n",
      "[Tune-y] 92: mmce.test.mean=0.212,acc.test.mean=0.788; time: 0.0 min\n",
      "[Tune-x] 93: minsplit=20; cp=0.0735\n",
      "[Tune-y] 93: mmce.test.mean=0.212,acc.test.mean=0.788; time: 0.0 min\n",
      "[Tune-x] 94: minsplit=20; cp=0.0497\n",
      "[Tune-y] 94: mmce.test.mean=0.184,acc.test.mean=0.816; time: 0.0 min\n",
      "[Tune-x] 95: minsplit=7; cp=0.0308\n",
      "[Tune-y] 95: mmce.test.mean=0.175,acc.test.mean=0.825; time: 0.0 min\n",
      "[Tune-x] 96: minsplit=15; cp=0.0884\n",
      "[Tune-y] 96: mmce.test.mean=0.212,acc.test.mean=0.788; time: 0.0 min\n",
      "[Tune-x] 97: minsplit=50; cp=0.0865\n",
      "[Tune-y] 97: mmce.test.mean=0.212,acc.test.mean=0.788; time: 0.0 min\n",
      "[Tune-x] 98: minsplit=3; cp=0.0112\n",
      "[Tune-y] 98: mmce.test.mean=0.176,acc.test.mean=0.824; time: 0.0 min\n",
      "[Tune-x] 99: minsplit=5; cp=0.0769\n",
      "[Tune-y] 99: mmce.test.mean=0.212,acc.test.mean=0.788; time: 0.0 min\n",
      "[Tune-x] 100: minsplit=45; cp=0.0817\n",
      "[Tune-y] 100: mmce.test.mean=0.212,acc.test.mean=0.788; time: 0.0 min\n",
      "[Tune] Result: minsplit=40; cp=0.00601 : mmce.test.mean=0.169,acc.test.mean=0.831\n"
     ]
    }
   ],
   "source": [
    "### model corner 2 with engineered feature\n",
    "library(mlr)\n",
    "library(dplyr)\n",
    "\n",
    "train = engData %>% \n",
    "    filter(train == 1) %>%\n",
    "    select(-c(PassengerId, Name, Ticket, train, Cabin))\n",
    "\n",
    "test = engData %>% \n",
    "    filter(train == 0) %>%\n",
    "    select(-c(PassengerId, Name, Ticket, train, Cabin, Survived))\n",
    "\n",
    "# choose specific model and parameters \n",
    "task = makeClassifTask(data = train, target = \"Survived\")\n",
    "\n",
    "learner = makeLearner(cl = \"classif.rpart\")\n",
    "# we chose two numeric parameters above and now search for optimal values\n",
    "paramSet = makeParamSet(\n",
    "    makeDiscreteParam(\"minsplit\", values = c(1, 3, 5, 7, 10, 15, 20, 30, 40, 45, 50, 60, 70, 100)), \n",
    "    makeNumericParam(\"cp\", lower = 0.0001, upper = 0.1)\n",
    ")\n",
    "# choose random search - why not grid search?\n",
    "ctrl = makeTuneControlRandom(maxit = 100)\n",
    "resDesc = makeResampleDesc(\"CV\", iters = 10L, predict = \"both\")\n",
    "tunes = mlr::tuneParams(learner = learner, task = task, resampling = resDesc,\n",
    "    par.set = paramSet, control = ctrl, measures = list(mmce, acc))\n"
   ]
  },
  {
   "cell_type": "markdown",
   "metadata": {},
   "source": [
    "Check tuning result"
   ]
  },
  {
   "cell_type": "code",
   "execution_count": 90,
   "metadata": {},
   "outputs": [
    {
     "data": {
      "text/plain": [
       "Tune result:\n",
       "Op. pars: minsplit=40; cp=0.00601\n",
       "mmce.test.mean=0.169,acc.test.mean=0.831"
      ]
     },
     "metadata": {},
     "output_type": "display_data"
    }
   ],
   "source": [
    "tunes"
   ]
  },
  {
   "cell_type": "markdown",
   "metadata": {},
   "source": [
    "Write and store the submission"
   ]
  },
  {
   "cell_type": "code",
   "execution_count": 91,
   "metadata": {
    "collapsed": true
   },
   "outputs": [],
   "source": [
    "# use those param settings for the CART\n",
    "learner = makeLearner(cl = \"classif.rpart\", \n",
    "    par.vals = list(minsplit = 7, cp = 0.00601))\n",
    "\n",
    "mod = mlr::train(learner = learner, task = task)\n",
    "\n",
    "# predict for submission\n",
    "pred = predict(mod, newdata = test)\n",
    "submission = pred$data\n",
    "\n",
    "submission$PassengerId = engData %>% \n",
    "    filter(train == 0) %>%\n",
    "    select(PassengerId)\n",
    "\n",
    "colnames(submission) = c(\"Survived\", \"PassengerId\")\n",
    "\n",
    "write.csv(submission, file = \"data/submissionTitanic_3.csv\", row.names = FALSE)"
   ]
  },
  {
   "cell_type": "markdown",
   "metadata": {},
   "source": [
    "#### Check Variable Importances"
   ]
  },
  {
   "cell_type": "code",
   "execution_count": 92,
   "metadata": {},
   "outputs": [
    {
     "data": {},
     "metadata": {},
     "output_type": "display_data"
    },
    {
     "data": {
      "image/png": "[encoded data removed]",
      "text/plain": [
       "plot without title"
      ]
     },
     "metadata": {},
     "output_type": "display_data"
    }
   ],
   "source": [
    "library(ggplot2)\n",
    "varimp = getFeatureImportance(mod)\n",
    "var = as.data.frame(t(varimp$res))\n",
    "var$names = names(varimp$res)\n",
    "p = ggplot(data = var, aes(x = names, y = V1)) + geom_bar(stat = \"identity\") +\n",
    "    ggtitle(label = \"Variable Importances\")\n",
    "p"
   ]
  },
  {
   "cell_type": "markdown",
   "metadata": {},
   "source": [
    "What can we see? How could we critisize that result? Is there a way to detect the problem?"
   ]
  },
  {
   "cell_type": "code",
   "execution_count": null,
   "metadata": {
    "collapsed": true
   },
   "outputs": [],
   "source": []
  }
 ],
 "metadata": {
  "kernelspec": {
   "display_name": "R",
   "language": "R",
   "name": "ir"
  },
  "language_info": {
   "codemirror_mode": "r",
   "file_extension": ".r",
   "mimetype": "text/x-r-source",
   "name": "R",
   "pygments_lexer": "r",
   "version": "3.4.3"
  }
 },
 "nbformat": 4,
 "nbformat_minor": 2
}
