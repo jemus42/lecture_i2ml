{
 "cells": [
  {
   "cell_type": "markdown",
   "metadata": {},
   "source": [
    "# 3rd Notebook for Machine Learning Intro Lecture"
   ]
  },
  {
   "cell_type": "markdown",
   "metadata": {},
   "source": [
    "## 1. How not to split: the good, the bad, the ugly\n",
    "\n",
    "How does the choice of the split in train and test data affect the model?\n",
    "\n"
   ]
  },
  {
   "cell_type": "markdown",
   "metadata": {},
   "source": [
    "### the good split\n",
    "\n",
    "we train on the data 1:30 and test on 31:50. Remember, that iris is an ordered data set with the first 50 obsverations being setosa, the next 50 versicolor and the last 50 virginica. "
   ]
  },
  {
   "cell_type": "code",
   "execution_count": 4,
   "metadata": {},
   "outputs": [
    {
     "data": {
      "text/html": [
       "<strong>mmce:</strong> 0"
      ],
      "text/latex": [
       "\\textbf{mmce:} 0"
      ],
      "text/markdown": [
       "**mmce:** 0"
      ],
      "text/plain": [
       "mmce \n",
       "   0 "
      ]
     },
     "metadata": {},
     "output_type": "display_data"
    },
    {
     "data": {
      "text/plain": [
       "            predicted\n",
       "true         setosa versicolor virginica -err.-\n",
       "  setosa         20          0         0      0\n",
       "  versicolor      0          0         0      0\n",
       "  virginica       0          0         0      0\n",
       "  -err.-          0          0         0      0"
      ]
     },
     "metadata": {},
     "output_type": "display_data"
    }
   ],
   "source": [
    "library(mlr)\n",
    "library(ggplot2)\n",
    "\n",
    "task = makeClassifTask(data = iris, target = \"Species\")\n",
    "learner = makeLearner(\"classif.kknn\", k = 3)\n",
    "model = train(learner, task, subset = c(1:30))\n",
    "pred = predict(model, task = task, subset = 31:50)\n",
    "performance(pred, measures = mmce)\n",
    "calculateConfusionMatrix(pred)"
   ]
  },
  {
   "cell_type": "markdown",
   "metadata": {},
   "source": [
    "### the bad split\n",
    "\n",
    "we train on the data 1:100 and test on 101:150."
   ]
  },
  {
   "cell_type": "code",
   "execution_count": 5,
   "metadata": {},
   "outputs": [
    {
     "data": {
      "text/html": [
       "<strong>mmce:</strong> 1"
      ],
      "text/latex": [
       "\\textbf{mmce:} 1"
      ],
      "text/markdown": [
       "**mmce:** 1"
      ],
      "text/plain": [
       "mmce \n",
       "   1 "
      ]
     },
     "metadata": {},
     "output_type": "display_data"
    },
    {
     "data": {
      "text/plain": [
       "            predicted\n",
       "true         setosa versicolor virginica -err.-\n",
       "  setosa          0          0         0      0\n",
       "  versicolor      0          0         0      0\n",
       "  virginica       0         50         0     50\n",
       "  -err.-          0         50         0     50"
      ]
     },
     "metadata": {},
     "output_type": "display_data"
    }
   ],
   "source": [
    "task = makeClassifTask(data = iris, target = \"Species\")\n",
    "learner = makeLearner(\"classif.kknn\", k = 3)\n",
    "model = train(learner, task, subset = c(1:100))\n",
    "pred = predict(model, task = task, subset = 101:150)\n",
    "performance(pred, measures = mmce)\n",
    "calculateConfusionMatrix(pred)"
   ]
  },
  {
   "cell_type": "markdown",
   "metadata": {},
   "source": [
    "### the ugly split\n"
   ]
  },
  {
   "cell_type": "code",
   "execution_count": 6,
   "metadata": {},
   "outputs": [
    {
     "data": {
      "text/html": [
       "<strong>mmce:</strong> 0.18"
      ],
      "text/latex": [
       "\\textbf{mmce:} 0.18"
      ],
      "text/markdown": [
       "**mmce:** 0.18"
      ],
      "text/plain": [
       "mmce \n",
       "0.18 "
      ]
     },
     "metadata": {},
     "output_type": "display_data"
    },
    {
     "data": {
      "text/plain": [
       "            predicted\n",
       "true         setosa versicolor virginica -err.-\n",
       "  setosa          5          0         0      0\n",
       "  versicolor      0          5         0      0\n",
       "  virginica       0          9        31      9\n",
       "  -err.-          0          9         0      9"
      ]
     },
     "metadata": {},
     "output_type": "display_data"
    }
   ],
   "source": [
    "task = makeClassifTask(data = iris, target = \"Species\")\n",
    "learner = makeLearner(\"classif.kknn\", k = 3)\n",
    "model = train(learner, task, subset = c(1:45, 51:95, 101:110))\n",
    "pred = predict(model, task = task, subset = c(46:50, 96:100, 111:150))\n",
    "performance(pred, measures = mmce)\n",
    "calculateConfusionMatrix(pred)"
   ]
  },
  {
   "cell_type": "markdown",
   "metadata": {},
   "source": [
    "## 2. Overfitting kNN\n",
    "\n",
    "Check the performance of our knn-classifier on the test and train set depending on the hyperparameter k:"
   ]
  },
  {
   "cell_type": "code",
   "execution_count": 8,
   "metadata": {},
   "outputs": [
    {
     "data": {
      "image/png": "[encoded data removed]",
      "text/plain": [
       "plot without title"
      ]
     },
     "metadata": {},
     "output_type": "display_data"
    },
    {
     "data": {
      "image/png": "[encoded data removed]",
      "text/plain": [
       "Plot with title “Overfitting behavior KNN”"
      ]
     },
     "metadata": {},
     "output_type": "display_data"
    }
   ],
   "source": [
    "library(mlr)\n",
    "library(mlbench)\n",
    "\n",
    "set.seed(13)\n",
    "spiral = as.data.frame(mlbench.spirals(n = 500, sd = 0.1))\n",
    "plot(x = spiral$x.1, y = spiral$x.2, col = spiral$classes)\n",
    "\n",
    "trainSize = 3/4\n",
    "trainIndices = sample(x = seq(1, nrow(spiral), by = 1), size = ceiling(trainSize * nrow(spiral)), replace = FALSE)\n",
    "spiralTrain = spiral[ trainIndices, ]\n",
    "spiralTest = spiral[ -trainIndices, ]\n",
    "\n",
    "\n",
    "\n",
    "# run experiment\n",
    "k.values = rev(c(1, 2, 3, 4, 5, 7, 8, 9, 10, 15, 20, 25, 30, 35, 45, 50, 60, 70, 80, 90, 100))\n",
    "storage = data.frame(matrix(NA, ncol = 3, nrow = length(k.values)))\n",
    "colnames(storage) = c(\"mmce_train\", \"mmce_test\", \"k\")\n",
    "\n",
    "for (i in 1:length(k.values)) {\n",
    "\n",
    "  spiralTask = makeClassifTask(data = spiralTrain, target = \"classes\")\n",
    "  spiralLearner = makeLearner(\"classif.kknn\", k = k.values[i])\n",
    "  spiralModel = train(learner = spiralLearner, task = spiralTask)\n",
    "\n",
    "  # test data\n",
    "  # choose additional measures from: listMeasures(irisTask)\n",
    "  spiralPred = predict(spiralModel, newdata = spiralTest[])\n",
    "  storage[i, \"mmce_test\"] = performance(pred = spiralPred, measures = mmce)\n",
    "\n",
    "  # train data\n",
    "  spiralPred = predict(spiralModel, newdata = spiralTrain[])\n",
    "  storage[i, \"mmce_train\"] = performance(pred = spiralPred, measures = mmce)\n",
    "\n",
    "  storage[i, \"k\"] = k.values[i]\n",
    "}\n",
    "\n",
    "storage = storage[rev(order(storage$k)),]\n",
    "\n",
    "plot(x = storage$k, y = storage$mmce_train, main = \"Overfitting behavior KNN\",\n",
    "  xlab = \"k\", ylab = \"mmce\", col = \"blue\", type = \"l\",\n",
    "  xlim = rev(range(storage$k)),\n",
    "  ylim = c(min(storage$mmce_train, storage$mmce_test), \n",
    "    max(storage$mmce_train, storage$mmce_test)))\n",
    "lines(x = storage$k, y = storage$mmce_test, col = \"orange\")\n",
    "legend(\"bottomleft\", c(\"test\", \"train\"), col = c(\"orange\", \"blue\"), lty = 1)"
   ]
  },
  {
   "cell_type": "markdown",
   "metadata": {},
   "source": [
    "## 3. Resampling \n",
    "\n"
   ]
  },
  {
   "cell_type": "markdown",
   "metadata": {},
   "source": [
    "### Self made Cross Validation\n",
    "\n",
    "We want to assess the performance of our model aka estimate its Generalization error. Why is it a good idea to use Cross-Validation?"
   ]
  },
  {
   "cell_type": "code",
   "execution_count": 10,
   "metadata": {},
   "outputs": [
    {
     "data": {
      "text/html": [
       "<table>\n",
       "<thead><tr><th scope=col>storage</th></tr></thead>\n",
       "<tbody>\n",
       "\t<tr><td>0.08</td></tr>\n",
       "\t<tr><td>0.08</td></tr>\n",
       "\t<tr><td>0.10</td></tr>\n",
       "\t<tr><td>0.06</td></tr>\n",
       "\t<tr><td>0.08</td></tr>\n",
       "\t<tr><td>0.12</td></tr>\n",
       "\t<tr><td>0.16</td></tr>\n",
       "\t<tr><td>0.06</td></tr>\n",
       "\t<tr><td>0.18</td></tr>\n",
       "\t<tr><td>0.10</td></tr>\n",
       "</tbody>\n",
       "</table>\n"
      ],
      "text/latex": [
       "\\begin{tabular}{r|l}\n",
       " storage\\\\\n",
       "\\hline\n",
       "\t 0.08\\\\\n",
       "\t 0.08\\\\\n",
       "\t 0.10\\\\\n",
       "\t 0.06\\\\\n",
       "\t 0.08\\\\\n",
       "\t 0.12\\\\\n",
       "\t 0.16\\\\\n",
       "\t 0.06\\\\\n",
       "\t 0.18\\\\\n",
       "\t 0.10\\\\\n",
       "\\end{tabular}\n"
      ],
      "text/markdown": [
       "\n",
       "storage | \n",
       "|---|---|---|---|---|---|---|---|---|---|\n",
       "| 0.08 | \n",
       "| 0.08 | \n",
       "| 0.10 | \n",
       "| 0.06 | \n",
       "| 0.08 | \n",
       "| 0.12 | \n",
       "| 0.16 | \n",
       "| 0.06 | \n",
       "| 0.18 | \n",
       "| 0.10 | \n",
       "\n",
       "\n"
      ],
      "text/plain": [
       "   storage\n",
       "1  0.08   \n",
       "2  0.08   \n",
       "3  0.10   \n",
       "4  0.06   \n",
       "5  0.08   \n",
       "6  0.12   \n",
       "7  0.16   \n",
       "8  0.06   \n",
       "9  0.18   \n",
       "10 0.10   "
      ]
     },
     "metadata": {},
     "output_type": "display_data"
    },
    {
     "data": {
      "text/html": [
       "0.102"
      ],
      "text/latex": [
       "0.102"
      ],
      "text/markdown": [
       "0.102"
      ],
      "text/plain": [
       "[1] 0.102"
      ]
     },
     "metadata": {},
     "output_type": "display_data"
    }
   ],
   "source": [
    "selfCV = function(data, target, folds, k) {\n",
    "\n",
    "  storage = as.numeric(folds)\n",
    "\n",
    "  set.seed(1337)\n",
    "  indices = sample(x = seq(1, nrow(data), by = 1), size = nrow(data), replace = FALSE)\n",
    "\n",
    "  # index matrix for folds\n",
    "  indexMat = matrix(data = indices, byrow = TRUE, nrow = folds)\n",
    "\n",
    "  for (i in 1:folds) {\n",
    "\n",
    "    # data\n",
    "    testData = data[indexMat[i, ], ]\n",
    "    trainData = data[-indexMat[i, ], ]\n",
    "\n",
    "    # model\n",
    "    task = makeClassifTask(data = trainData, target = target)\n",
    "    learner = makeLearner(\"classif.kknn\", k = k)\n",
    "    model = train(learner = learner, task = task)\n",
    "    storage[i] = performance(predict(model, newdata = testData),\n",
    "      measures = mmce)[[1]]\n",
    "  }\n",
    "\n",
    "  return(list(folds = folds, storage = as.data.frame(storage), GE = mean(storage)))\n",
    "}\n",
    "\n",
    "foo = selfCV(data = spiral, target = \"classes\", folds = 10, k = 3)\n",
    "foo$storage\n",
    "foo$GE\n"
   ]
  },
  {
   "cell_type": "code",
   "execution_count": 74,
   "metadata": {},
   "outputs": [
    {
     "data": {},
     "metadata": {},
     "output_type": "display_data"
    },
    {
     "data": {
      "image/png": "[encoded data removed]",
      "text/plain": [
       "plot without title"
      ]
     },
     "metadata": {},
     "output_type": "display_data"
    }
   ],
   "source": [
    "p = ggplot(data = foo$storage, aes(y = storage, x = 1)) +\n",
    "  geom_boxplot() +\n",
    "  ggtitle(label = \"Generalization error CV\") +\n",
    "  xlab(\"\") + ylab(\"mmce\") + xlim(c(0,2))\n",
    "p"
   ]
  },
  {
   "cell_type": "markdown",
   "metadata": {},
   "source": [
    "### mlr's CV implementation"
   ]
  },
  {
   "cell_type": "code",
   "execution_count": 12,
   "metadata": {},
   "outputs": [
    {
     "data": {
      "text/plain": [
       "Resample Result\n",
       "Task: spiral\n",
       "Learner: classif.kknn\n",
       "Aggr perf: mmce.test.mean=0.0860000\n",
       "Runtime: 0.0833428"
      ]
     },
     "metadata": {},
     "output_type": "display_data"
    },
    {
     "data": {
      "text/html": [
       "<table>\n",
       "<thead><tr><th scope=col>iter</th><th scope=col>mmce</th></tr></thead>\n",
       "<tbody>\n",
       "\t<tr><td> 1  </td><td>0.06</td></tr>\n",
       "\t<tr><td> 2  </td><td>0.08</td></tr>\n",
       "\t<tr><td> 3  </td><td>0.04</td></tr>\n",
       "\t<tr><td> 4  </td><td>0.04</td></tr>\n",
       "\t<tr><td> 5  </td><td>0.10</td></tr>\n",
       "\t<tr><td> 6  </td><td>0.06</td></tr>\n",
       "\t<tr><td> 7  </td><td>0.12</td></tr>\n",
       "\t<tr><td> 8  </td><td>0.16</td></tr>\n",
       "\t<tr><td> 9  </td><td>0.12</td></tr>\n",
       "\t<tr><td>10  </td><td>0.08</td></tr>\n",
       "</tbody>\n",
       "</table>\n"
      ],
      "text/latex": [
       "\\begin{tabular}{r|ll}\n",
       " iter & mmce\\\\\n",
       "\\hline\n",
       "\t  1   & 0.06\\\\\n",
       "\t  2   & 0.08\\\\\n",
       "\t  3   & 0.04\\\\\n",
       "\t  4   & 0.04\\\\\n",
       "\t  5   & 0.10\\\\\n",
       "\t  6   & 0.06\\\\\n",
       "\t  7   & 0.12\\\\\n",
       "\t  8   & 0.16\\\\\n",
       "\t  9   & 0.12\\\\\n",
       "\t 10   & 0.08\\\\\n",
       "\\end{tabular}\n"
      ],
      "text/markdown": [
       "\n",
       "iter | mmce | \n",
       "|---|---|---|---|---|---|---|---|---|---|\n",
       "|  1   | 0.06 | \n",
       "|  2   | 0.08 | \n",
       "|  3   | 0.04 | \n",
       "|  4   | 0.04 | \n",
       "|  5   | 0.10 | \n",
       "|  6   | 0.06 | \n",
       "|  7   | 0.12 | \n",
       "|  8   | 0.16 | \n",
       "|  9   | 0.12 | \n",
       "| 10   | 0.08 | \n",
       "\n",
       "\n"
      ],
      "text/plain": [
       "   iter mmce\n",
       "1   1   0.06\n",
       "2   2   0.08\n",
       "3   3   0.04\n",
       "4   4   0.04\n",
       "5   5   0.10\n",
       "6   6   0.06\n",
       "7   7   0.12\n",
       "8   8   0.16\n",
       "9   9   0.12\n",
       "10 10   0.08"
      ]
     },
     "metadata": {},
     "output_type": "display_data"
    }
   ],
   "source": [
    "set.seed(1337)\n",
    "task = mlr::makeClassifTask(data = spiral, target = \"classes\")\n",
    "rdescCV = mlr::makeResampleDesc(method = \"CV\", iters = 10)\n",
    "mlrCV = resample(learner = \"classif.kknn\", k = 3, task = task,\n",
    "  resampling = rdescCV, show.info = FALSE)\n",
    "mlrCV\n",
    "mlrCV$measures.test"
   ]
  },
  {
   "cell_type": "code",
   "execution_count": 13,
   "metadata": {},
   "outputs": [
    {
     "data": {},
     "metadata": {},
     "output_type": "display_data"
    },
    {
     "data": {
      "image/png": "[encoded data removed]",
      "text/plain": [
       "plot without title"
      ]
     },
     "metadata": {},
     "output_type": "display_data"
    }
   ],
   "source": [
    "p = ggplot(data = mlrCV$measures.test, aes(y = mmce, x = 1)) +\n",
    "  geom_boxplot() +\n",
    "  ggtitle(label = \"Generalization error CV\") +\n",
    "  xlab(\"\") + ylab(\"mmce\") + xlim(c(0,2))\n",
    "p"
   ]
  },
  {
   "cell_type": "markdown",
   "metadata": {
    "collapsed": true
   },
   "source": [
    "## 3. Confusion matrices, ROC, AUC and unbalanced data\n",
    "\n",
    "We use the Breast Cancer data set from [UCI database](https://archive.ics.uci.edu/ml/datasets/Breast+Cancer+Wisconsin+(Diagnostic)) which is an __unbalanced data set__ within which we want to predict the class of the cancer. We even manipulate the data set further to make it more unbalanced. \n",
    "\n",
    "The data looks like that:\n",
    "\n",
    "\n",
    "\n"
   ]
  },
  {
   "cell_type": "code",
   "execution_count": 14,
   "metadata": {},
   "outputs": [
    {
     "name": "stderr",
     "output_type": "stream",
     "text": [
      "\n",
      "Attaching package: ‘dplyr’\n",
      "\n",
      "The following objects are masked from ‘package:stats’:\n",
      "\n",
      "    filter, lag\n",
      "\n",
      "The following objects are masked from ‘package:base’:\n",
      "\n",
      "    intersect, setdiff, setequal, union\n",
      "\n"
     ]
    },
    {
     "data": {
      "text/html": [
       "<table>\n",
       "<thead><tr><th></th><th scope=col>Cl.thickness</th><th scope=col>Cell.size</th><th scope=col>Cell.shape</th><th scope=col>Marg.adhesion</th><th scope=col>Epith.c.size</th><th scope=col>Bl.cromatin</th><th scope=col>Normal.nucleoli</th><th scope=col>Mitoses</th><th scope=col>Class</th></tr></thead>\n",
       "<tbody>\n",
       "\t<tr><th scope=row>1</th><td>5     </td><td>1     </td><td>1     </td><td>1     </td><td>2     </td><td>3     </td><td>1     </td><td>1     </td><td>benign</td></tr>\n",
       "\t<tr><th scope=row>2</th><td>5     </td><td>4     </td><td>4     </td><td>5     </td><td>7     </td><td>3     </td><td>2     </td><td>1     </td><td>benign</td></tr>\n",
       "\t<tr><th scope=row>3</th><td>3     </td><td>1     </td><td>1     </td><td>1     </td><td>2     </td><td>3     </td><td>1     </td><td>1     </td><td>benign</td></tr>\n",
       "\t<tr><th scope=row>4</th><td>6     </td><td>8     </td><td>8     </td><td>1     </td><td>3     </td><td>3     </td><td>7     </td><td>1     </td><td>benign</td></tr>\n",
       "\t<tr><th scope=row>5</th><td>4     </td><td>1     </td><td>1     </td><td>3     </td><td>2     </td><td>3     </td><td>1     </td><td>1     </td><td>benign</td></tr>\n",
       "\t<tr><th scope=row>7</th><td>1     </td><td>1     </td><td>1     </td><td>1     </td><td>2     </td><td>3     </td><td>1     </td><td>1     </td><td>benign</td></tr>\n",
       "</tbody>\n",
       "</table>\n"
      ],
      "text/latex": [
       "\\begin{tabular}{r|lllllllll}\n",
       "  & Cl.thickness & Cell.size & Cell.shape & Marg.adhesion & Epith.c.size & Bl.cromatin & Normal.nucleoli & Mitoses & Class\\\\\n",
       "\\hline\n",
       "\t1 & 5      & 1      & 1      & 1      & 2      & 3      & 1      & 1      & benign\\\\\n",
       "\t2 & 5      & 4      & 4      & 5      & 7      & 3      & 2      & 1      & benign\\\\\n",
       "\t3 & 3      & 1      & 1      & 1      & 2      & 3      & 1      & 1      & benign\\\\\n",
       "\t4 & 6      & 8      & 8      & 1      & 3      & 3      & 7      & 1      & benign\\\\\n",
       "\t5 & 4      & 1      & 1      & 3      & 2      & 3      & 1      & 1      & benign\\\\\n",
       "\t7 & 1      & 1      & 1      & 1      & 2      & 3      & 1      & 1      & benign\\\\\n",
       "\\end{tabular}\n"
      ],
      "text/markdown": [
       "\n",
       "| <!--/--> | Cl.thickness | Cell.size | Cell.shape | Marg.adhesion | Epith.c.size | Bl.cromatin | Normal.nucleoli | Mitoses | Class | \n",
       "|---|---|---|---|---|---|\n",
       "| 1 | 5      | 1      | 1      | 1      | 2      | 3      | 1      | 1      | benign | \n",
       "| 2 | 5      | 4      | 4      | 5      | 7      | 3      | 2      | 1      | benign | \n",
       "| 3 | 3      | 1      | 1      | 1      | 2      | 3      | 1      | 1      | benign | \n",
       "| 4 | 6      | 8      | 8      | 1      | 3      | 3      | 7      | 1      | benign | \n",
       "| 5 | 4      | 1      | 1      | 3      | 2      | 3      | 1      | 1      | benign | \n",
       "| 7 | 1      | 1      | 1      | 1      | 2      | 3      | 1      | 1      | benign | \n",
       "\n",
       "\n"
      ],
      "text/plain": [
       "  Cl.thickness Cell.size Cell.shape Marg.adhesion Epith.c.size Bl.cromatin\n",
       "1 5            1         1          1             2            3          \n",
       "2 5            4         4          5             7            3          \n",
       "3 3            1         1          1             2            3          \n",
       "4 6            8         8          1             3            3          \n",
       "5 4            1         1          3             2            3          \n",
       "7 1            1         1          1             2            3          \n",
       "  Normal.nucleoli Mitoses Class \n",
       "1 1               1       benign\n",
       "2 2               1       benign\n",
       "3 1               1       benign\n",
       "4 7               1       benign\n",
       "5 1               1       benign\n",
       "7 1               1       benign"
      ]
     },
     "metadata": {},
     "output_type": "display_data"
    },
    {
     "data": {
      "text/plain": [
       "\n",
       "   benign malignant \n",
       "0.8342441 0.1657559 "
      ]
     },
     "metadata": {},
     "output_type": "display_data"
    }
   ],
   "source": [
    "library(\"dplyr\")\n",
    "data(\"BreastCancer\")\n",
    "\n",
    "# delete one column with missing values\n",
    "bc = BreastCancer[, -c(1, 7)]\n",
    "# mutate all factors to numeric, simlification but ok here\n",
    "mut = bc[, -9] %>% mutate_all(as.character) %>% mutate_all(as.numeric)\n",
    "bcData = cbind(mut, bc$Class)\n",
    "colnames(bcData) = c(colnames(mut), \"Class\")\n",
    "# make it more extreme and kill 50% of the malignant data\n",
    "bcData = bcData[ -sample(which(bcData$Class == \"malignant\"), 150, replace = FALSE), ]\n",
    "head(bcData)\n",
    "table(bcData$Class) / sum(table(bcData$Class))\n"
   ]
  },
  {
   "cell_type": "markdown",
   "metadata": {},
   "source": [
    "We split the data again in train and test and check the performance of two classifiers:\n",
    "1. Good old knn\n",
    "2. A stupid learner that simply predicts the majority of the two classes or each obsveration. \n",
    "\n",
    "The problem is now, that even the stupid approach yields a reasonable mmce performance. Thus, we need additional measure such as the AUC and ROC curves to compare the two classifiers."
   ]
  },
  {
   "cell_type": "code",
   "execution_count": 15,
   "metadata": {
    "collapsed": true,
    "scrolled": true
   },
   "outputs": [],
   "source": [
    "# Data split\n",
    "trainSize = 3/4\n",
    "trainIndices = sample(x = seq(1, nrow(bcData), by = 1), size = ceiling(trainSize * nrow(bcData)), replace = FALSE)\n",
    "bcTrain = bcData[ trainIndices, ]\n",
    "bcTest = bcData[ -trainIndices, ]\n",
    "\n",
    "task = makeClassifTask(data = bcTrain, target = \"Class\")"
   ]
  },
  {
   "cell_type": "markdown",
   "metadata": {},
   "source": [
    "knn"
   ]
  },
  {
   "cell_type": "code",
   "execution_count": 16,
   "metadata": {},
   "outputs": [
    {
     "data": {
      "text/html": [
       "<dl class=dl-horizontal>\n",
       "\t<dt>mmce</dt>\n",
       "\t\t<dd>0.0291970802919708</dd>\n",
       "\t<dt>auc</dt>\n",
       "\t\t<dd>0.961965811965812</dd>\n",
       "</dl>\n"
      ],
      "text/latex": [
       "\\begin{description*}\n",
       "\\item[mmce] 0.0291970802919708\n",
       "\\item[auc] 0.961965811965812\n",
       "\\end{description*}\n"
      ],
      "text/markdown": [
       "mmce\n",
       ":   0.0291970802919708auc\n",
       ":   0.961965811965812\n",
       "\n"
      ],
      "text/plain": [
       "      mmce        auc \n",
       "0.02919708 0.96196581 "
      ]
     },
     "metadata": {},
     "output_type": "display_data"
    },
    {
     "data": {
      "text/plain": [
       "           predicted\n",
       "true        benign malignant -err.-\n",
       "  benign       115         2      2\n",
       "  malignant      2        18      2\n",
       "  -err.-         2         2      4"
      ]
     },
     "metadata": {},
     "output_type": "display_data"
    }
   ],
   "source": [
    "# knn\n",
    "learner = makeLearner(\"classif.kknn\", k = 5, predict.type = \"prob\")\n",
    "model = mlr::train(learner, task)\n",
    "predKnn = predict(model, newdata = bcTest)\n",
    "performance(predKnn, measures = list(mmce, auc))\n",
    "calculateConfusionMatrix(predKnn)"
   ]
  },
  {
   "cell_type": "markdown",
   "metadata": {},
   "source": [
    "Stupid majority vote"
   ]
  },
  {
   "cell_type": "code",
   "execution_count": 17,
   "metadata": {},
   "outputs": [
    {
     "data": {
      "text/html": [
       "<dl class=dl-horizontal>\n",
       "\t<dt>mmce</dt>\n",
       "\t\t<dd>0.145985401459854</dd>\n",
       "\t<dt>auc</dt>\n",
       "\t\t<dd>0.5</dd>\n",
       "</dl>\n"
      ],
      "text/latex": [
       "\\begin{description*}\n",
       "\\item[mmce] 0.145985401459854\n",
       "\\item[auc] 0.5\n",
       "\\end{description*}\n"
      ],
      "text/markdown": [
       "mmce\n",
       ":   0.145985401459854auc\n",
       ":   0.5\n",
       "\n"
      ],
      "text/plain": [
       "     mmce       auc \n",
       "0.1459854 0.5000000 "
      ]
     },
     "metadata": {},
     "output_type": "display_data"
    },
    {
     "data": {
      "text/plain": [
       "           predicted\n",
       "true        benign malignant -err.-\n",
       "  benign       117         0      0\n",
       "  malignant     20         0     20\n",
       "  -err.-        20         0     20"
      ]
     },
     "metadata": {},
     "output_type": "display_data"
    }
   ],
   "source": [
    "\n",
    "# learner that uses simple majority vote for classification\n",
    "stupidLearner = makeLearner(\"classif.featureless\", method = \"majority\", predict.type = \"prob\")\n",
    "model = mlr::train(stupidLearner, task)\n",
    "predStupid = predict(model, newdata = bcTest)\n",
    "performance(predStupid, measures = list(mmce, auc))\n",
    "calculateConfusionMatrix(predStupid)"
   ]
  },
  {
   "cell_type": "markdown",
   "metadata": {},
   "source": [
    "Compare the ROC curves:"
   ]
  },
  {
   "cell_type": "code",
   "execution_count": 87,
   "metadata": {
    "scrolled": false
   },
   "outputs": [
    {
     "data": {},
     "metadata": {},
     "output_type": "display_data"
    },
    {
     "data": {
      "image/png": "[encoded data removed]",
      "text/plain": [
       "plot without title"
      ]
     },
     "metadata": {},
     "output_type": "display_data"
    }
   ],
   "source": [
    "rocs = generateThreshVsPerfData(list(knn = predKnn, stupid = predStupid), measures = list(fpr, tpr, mmce))\n",
    "plotROCCurves(rocs)"
   ]
  },
  {
   "cell_type": "markdown",
   "metadata": {
    "collapsed": true
   },
   "source": [
    "## 4. Nested Resampling \n",
    "\n",
    "   "
   ]
  },
  {
   "cell_type": "markdown",
   "metadata": {},
   "source": [
    "No we want to find the optimal hyperparameter k for our model. Therefore we use nested resampling with the following options:\n",
    "* 5 outer CV loops\n",
    "* 10 inner CV loops\n",
    "* 7 Candidates (like in lecture slides 3.3)\n",
    "\n",
    "Check scheme for nested resampling algorithm on the blackboard. \n"
   ]
  },
  {
   "cell_type": "code",
   "execution_count": 24,
   "metadata": {
    "collapsed": true
   },
   "outputs": [],
   "source": [
    "\n",
    "#' @param data whole data set including the target variable \n",
    "#' @param target string indicating the target variable of the task \n",
    "#' @param outerFolds the amount of folds in the outer loop of the nested resampling\n",
    "#' @param innerFolds the amount of folds in the inner loop of the nested resampling\n",
    "#' @param kCandidates the potential values for k from which we want to select the optimal \n",
    "#' @param inform boolean controling if the user is getting informed about the progress of the procedure or not\n",
    "\n",
    "\n",
    "selfNR = function(data, target, outerFolds = 3, innerFolds = 4, kCandidates, inform = FALSE) {\n",
    "  \n",
    "  # counter for inform functionality\n",
    "  counter = 0\n",
    "  \n",
    "  set.seed(1337)\n",
    "  # indices for the outer loops\n",
    "  outerIndices = sample(x = seq(1, nrow(data), by = 1), size = nrow(data), replace = FALSE)\n",
    "  indexOuterMat = matrix(data = outerIndices, byrow = TRUE, nrow = outerFolds)\n",
    "  \n",
    "  # frame to store the winner and its test-GE from all outer folds\n",
    "  winnerCV = as.data.frame(matrix(0, nrow = outerFolds, ncol = 2))\n",
    "  colnames(winnerCV) = c(\"k\", \"GE\")\n",
    "  \n",
    "  for (i in 1:outerFolds) {\n",
    "    \n",
    "    # split in validation and data for the inner loop\n",
    "    testData = data[indexOuterMat[i, ], ]\n",
    "    innerData = data[ -indexOuterMat[i, ], ]\n",
    "    \n",
    "    # frame to store the CV-GEs for each candidate\n",
    "    candidateGE = as.data.frame(matrix(0, nrow = length(kCandidates), ncol = 2))\n",
    "    colnames(candidateGE) = c(\"k\", \"GE\")\n",
    "    \n",
    "    # calculate GE for each of the candidates via CV\n",
    "    for (l in 1:length(kCandidates)) {\n",
    "      \n",
    "      innerIndices = sample(x = seq(1, nrow(innerData), by = 1), size = nrow(innerData), replace = FALSE)\n",
    "      \n",
    "      # index matrix for inner folds\n",
    "      indexInnerMat = matrix(data = innerIndices, byrow = TRUE, nrow = innerFolds)\n",
    "      \n",
    "      # storage for CV errors for one candidate\n",
    "      storageInnerCV = numeric(innerFolds)\n",
    "      \n",
    "      for (j in 1:innerFolds) {\n",
    "          \n",
    "        # data split in validation and train data \n",
    "        valData = innerData[indexInnerMat[j, ], ]\n",
    "        trainData = innerData[ -indexInnerMat[j, ], ]\n",
    "        \n",
    "        # model\n",
    "        task = makeClassifTask(data = trainData, target = target)\n",
    "        learner = makeLearner(\"classif.kknn\", k = kCandidates[l])\n",
    "        model = train(learner = learner, task = task)\n",
    "        # inform user about progress\n",
    "        counter = counter + 1\n",
    "        if (inform) print(paste0(\"model: \" ,counter, \" inner fold: \", j, \" outer fold: \", i))\n",
    "        # store GE estimates from test on validation data\n",
    "        storageInnerCV[j] = performance(predict(model, newdata = valData),\n",
    "          measures = mmce)[[1]]\n",
    "      }\n",
    "      \n",
    "      # CV GE for candidate l\n",
    "      candidateGE[l, \"GE\"] = mean(storageInnerCV)\n",
    "      candidateGE[l, \"k\"] = kCandidates[l]\n",
    "    }\n",
    "    \n",
    "    # get GE for best candidate in this outerFold\n",
    "    # in case of equally good Candidates, choose the first one\n",
    "    bestCandidate = candidateGE[which(candidateGE$GE == min(candidateGE$GE)), \"k\"][1]\n",
    "    winnerCV[i, \"k\"] = bestCandidate\n",
    "    \n",
    "    \n",
    "    # model\n",
    "    task = makeClassifTask(data = innerData, target = target)\n",
    "    learner = makeLearner(\"classif.kknn\", k = kCandidates[l])\n",
    "    model = train(learner = learner, task = task)\n",
    "    # store GE estimates from test on test data\n",
    "    winnerCV[i, \"GE\"] = performance(predict(model, newdata = testData),\n",
    "      measures = mmce)[[1]]\n",
    "  }\n",
    "  return(winnerCV[order(winnerCV$GE), ])\n",
    "}"
   ]
  },
  {
   "cell_type": "code",
   "execution_count": 23,
   "metadata": {},
   "outputs": [
    {
     "name": "stdout",
     "output_type": "stream",
     "text": [
      "[1] \"model: 1 inner fold: 1 outer fold: 1\"\n",
      "[1] \"model: 2 inner fold: 2 outer fold: 1\"\n",
      "[1] \"model: 3 inner fold: 3 outer fold: 1\"\n",
      "[1] \"model: 4 inner fold: 4 outer fold: 1\"\n",
      "[1] \"model: 5 inner fold: 5 outer fold: 1\"\n",
      "[1] \"model: 6 inner fold: 6 outer fold: 1\"\n",
      "[1] \"model: 7 inner fold: 7 outer fold: 1\"\n",
      "[1] \"model: 8 inner fold: 8 outer fold: 1\"\n",
      "[1] \"model: 9 inner fold: 9 outer fold: 1\"\n",
      "[1] \"model: 10 inner fold: 10 outer fold: 1\"\n",
      "[1] \"model: 11 inner fold: 1 outer fold: 1\"\n",
      "[1] \"model: 12 inner fold: 2 outer fold: 1\"\n",
      "[1] \"model: 13 inner fold: 3 outer fold: 1\"\n",
      "[1] \"model: 14 inner fold: 4 outer fold: 1\"\n",
      "[1] \"model: 15 inner fold: 5 outer fold: 1\"\n",
      "[1] \"model: 16 inner fold: 6 outer fold: 1\"\n",
      "[1] \"model: 17 inner fold: 7 outer fold: 1\"\n",
      "[1] \"model: 18 inner fold: 8 outer fold: 1\"\n",
      "[1] \"model: 19 inner fold: 9 outer fold: 1\"\n",
      "[1] \"model: 20 inner fold: 10 outer fold: 1\"\n",
      "[1] \"model: 21 inner fold: 1 outer fold: 1\"\n",
      "[1] \"model: 22 inner fold: 2 outer fold: 1\"\n",
      "[1] \"model: 23 inner fold: 3 outer fold: 1\"\n",
      "[1] \"model: 24 inner fold: 4 outer fold: 1\"\n",
      "[1] \"model: 25 inner fold: 5 outer fold: 1\"\n",
      "[1] \"model: 26 inner fold: 6 outer fold: 1\"\n",
      "[1] \"model: 27 inner fold: 7 outer fold: 1\"\n",
      "[1] \"model: 28 inner fold: 8 outer fold: 1\"\n",
      "[1] \"model: 29 inner fold: 9 outer fold: 1\"\n",
      "[1] \"model: 30 inner fold: 10 outer fold: 1\"\n",
      "[1] \"model: 31 inner fold: 1 outer fold: 1\"\n",
      "[1] \"model: 32 inner fold: 2 outer fold: 1\"\n",
      "[1] \"model: 33 inner fold: 3 outer fold: 1\"\n",
      "[1] \"model: 34 inner fold: 4 outer fold: 1\"\n",
      "[1] \"model: 35 inner fold: 5 outer fold: 1\"\n",
      "[1] \"model: 36 inner fold: 6 outer fold: 1\"\n",
      "[1] \"model: 37 inner fold: 7 outer fold: 1\"\n",
      "[1] \"model: 38 inner fold: 8 outer fold: 1\"\n",
      "[1] \"model: 39 inner fold: 9 outer fold: 1\"\n",
      "[1] \"model: 40 inner fold: 10 outer fold: 1\"\n",
      "[1] \"model: 41 inner fold: 1 outer fold: 1\"\n",
      "[1] \"model: 42 inner fold: 2 outer fold: 1\"\n",
      "[1] \"model: 43 inner fold: 3 outer fold: 1\"\n",
      "[1] \"model: 44 inner fold: 4 outer fold: 1\"\n",
      "[1] \"model: 45 inner fold: 5 outer fold: 1\"\n",
      "[1] \"model: 46 inner fold: 6 outer fold: 1\"\n",
      "[1] \"model: 47 inner fold: 7 outer fold: 1\"\n",
      "[1] \"model: 48 inner fold: 8 outer fold: 1\"\n",
      "[1] \"model: 49 inner fold: 9 outer fold: 1\"\n",
      "[1] \"model: 50 inner fold: 10 outer fold: 1\"\n",
      "[1] \"model: 51 inner fold: 1 outer fold: 1\"\n",
      "[1] \"model: 52 inner fold: 2 outer fold: 1\"\n",
      "[1] \"model: 53 inner fold: 3 outer fold: 1\"\n",
      "[1] \"model: 54 inner fold: 4 outer fold: 1\"\n",
      "[1] \"model: 55 inner fold: 5 outer fold: 1\"\n",
      "[1] \"model: 56 inner fold: 6 outer fold: 1\"\n",
      "[1] \"model: 57 inner fold: 7 outer fold: 1\"\n",
      "[1] \"model: 58 inner fold: 8 outer fold: 1\"\n",
      "[1] \"model: 59 inner fold: 9 outer fold: 1\"\n",
      "[1] \"model: 60 inner fold: 10 outer fold: 1\"\n",
      "[1] \"model: 61 inner fold: 1 outer fold: 1\"\n",
      "[1] \"model: 62 inner fold: 2 outer fold: 1\"\n",
      "[1] \"model: 63 inner fold: 3 outer fold: 1\"\n",
      "[1] \"model: 64 inner fold: 4 outer fold: 1\"\n",
      "[1] \"model: 65 inner fold: 5 outer fold: 1\"\n",
      "[1] \"model: 66 inner fold: 6 outer fold: 1\"\n",
      "[1] \"model: 67 inner fold: 7 outer fold: 1\"\n",
      "[1] \"model: 68 inner fold: 8 outer fold: 1\"\n",
      "[1] \"model: 69 inner fold: 9 outer fold: 1\"\n",
      "[1] \"model: 70 inner fold: 10 outer fold: 1\"\n",
      "[1] \"model: 71 inner fold: 1 outer fold: 1\"\n",
      "[1] \"model: 72 inner fold: 2 outer fold: 1\"\n",
      "[1] \"model: 73 inner fold: 3 outer fold: 1\"\n",
      "[1] \"model: 74 inner fold: 4 outer fold: 1\"\n",
      "[1] \"model: 75 inner fold: 5 outer fold: 1\"\n",
      "[1] \"model: 76 inner fold: 6 outer fold: 1\"\n",
      "[1] \"model: 77 inner fold: 7 outer fold: 1\"\n",
      "[1] \"model: 78 inner fold: 8 outer fold: 1\"\n",
      "[1] \"model: 79 inner fold: 9 outer fold: 1\"\n",
      "[1] \"model: 80 inner fold: 10 outer fold: 1\"\n",
      "[1] \"model: 81 inner fold: 1 outer fold: 2\"\n",
      "[1] \"model: 82 inner fold: 2 outer fold: 2\"\n",
      "[1] \"model: 83 inner fold: 3 outer fold: 2\"\n",
      "[1] \"model: 84 inner fold: 4 outer fold: 2\"\n",
      "[1] \"model: 85 inner fold: 5 outer fold: 2\"\n",
      "[1] \"model: 86 inner fold: 6 outer fold: 2\"\n",
      "[1] \"model: 87 inner fold: 7 outer fold: 2\"\n",
      "[1] \"model: 88 inner fold: 8 outer fold: 2\"\n",
      "[1] \"model: 89 inner fold: 9 outer fold: 2\"\n",
      "[1] \"model: 90 inner fold: 10 outer fold: 2\"\n",
      "[1] \"model: 91 inner fold: 1 outer fold: 2\"\n",
      "[1] \"model: 92 inner fold: 2 outer fold: 2\"\n",
      "[1] \"model: 93 inner fold: 3 outer fold: 2\"\n",
      "[1] \"model: 94 inner fold: 4 outer fold: 2\"\n",
      "[1] \"model: 95 inner fold: 5 outer fold: 2\"\n",
      "[1] \"model: 96 inner fold: 6 outer fold: 2\"\n",
      "[1] \"model: 97 inner fold: 7 outer fold: 2\"\n",
      "[1] \"model: 98 inner fold: 8 outer fold: 2\"\n",
      "[1] \"model: 99 inner fold: 9 outer fold: 2\"\n",
      "[1] \"model: 100 inner fold: 10 outer fold: 2\"\n",
      "[1] \"model: 101 inner fold: 1 outer fold: 2\"\n",
      "[1] \"model: 102 inner fold: 2 outer fold: 2\"\n",
      "[1] \"model: 103 inner fold: 3 outer fold: 2\"\n",
      "[1] \"model: 104 inner fold: 4 outer fold: 2\"\n",
      "[1] \"model: 105 inner fold: 5 outer fold: 2\"\n",
      "[1] \"model: 106 inner fold: 6 outer fold: 2\"\n",
      "[1] \"model: 107 inner fold: 7 outer fold: 2\"\n",
      "[1] \"model: 108 inner fold: 8 outer fold: 2\"\n",
      "[1] \"model: 109 inner fold: 9 outer fold: 2\"\n",
      "[1] \"model: 110 inner fold: 10 outer fold: 2\"\n",
      "[1] \"model: 111 inner fold: 1 outer fold: 2\"\n",
      "[1] \"model: 112 inner fold: 2 outer fold: 2\"\n",
      "[1] \"model: 113 inner fold: 3 outer fold: 2\"\n",
      "[1] \"model: 114 inner fold: 4 outer fold: 2\"\n",
      "[1] \"model: 115 inner fold: 5 outer fold: 2\"\n",
      "[1] \"model: 116 inner fold: 6 outer fold: 2\"\n",
      "[1] \"model: 117 inner fold: 7 outer fold: 2\"\n",
      "[1] \"model: 118 inner fold: 8 outer fold: 2\"\n",
      "[1] \"model: 119 inner fold: 9 outer fold: 2\"\n",
      "[1] \"model: 120 inner fold: 10 outer fold: 2\"\n",
      "[1] \"model: 121 inner fold: 1 outer fold: 2\"\n",
      "[1] \"model: 122 inner fold: 2 outer fold: 2\"\n",
      "[1] \"model: 123 inner fold: 3 outer fold: 2\"\n",
      "[1] \"model: 124 inner fold: 4 outer fold: 2\"\n",
      "[1] \"model: 125 inner fold: 5 outer fold: 2\"\n",
      "[1] \"model: 126 inner fold: 6 outer fold: 2\"\n",
      "[1] \"model: 127 inner fold: 7 outer fold: 2\"\n",
      "[1] \"model: 128 inner fold: 8 outer fold: 2\"\n",
      "[1] \"model: 129 inner fold: 9 outer fold: 2\"\n",
      "[1] \"model: 130 inner fold: 10 outer fold: 2\"\n",
      "[1] \"model: 131 inner fold: 1 outer fold: 2\"\n",
      "[1] \"model: 132 inner fold: 2 outer fold: 2\"\n",
      "[1] \"model: 133 inner fold: 3 outer fold: 2\"\n",
      "[1] \"model: 134 inner fold: 4 outer fold: 2\"\n",
      "[1] \"model: 135 inner fold: 5 outer fold: 2\"\n",
      "[1] \"model: 136 inner fold: 6 outer fold: 2\"\n",
      "[1] \"model: 137 inner fold: 7 outer fold: 2\"\n",
      "[1] \"model: 138 inner fold: 8 outer fold: 2\"\n",
      "[1] \"model: 139 inner fold: 9 outer fold: 2\"\n",
      "[1] \"model: 140 inner fold: 10 outer fold: 2\"\n",
      "[1] \"model: 141 inner fold: 1 outer fold: 2\"\n",
      "[1] \"model: 142 inner fold: 2 outer fold: 2\"\n",
      "[1] \"model: 143 inner fold: 3 outer fold: 2\"\n",
      "[1] \"model: 144 inner fold: 4 outer fold: 2\"\n",
      "[1] \"model: 145 inner fold: 5 outer fold: 2\"\n",
      "[1] \"model: 146 inner fold: 6 outer fold: 2\"\n",
      "[1] \"model: 147 inner fold: 7 outer fold: 2\"\n",
      "[1] \"model: 148 inner fold: 8 outer fold: 2\"\n",
      "[1] \"model: 149 inner fold: 9 outer fold: 2\"\n",
      "[1] \"model: 150 inner fold: 10 outer fold: 2\"\n",
      "[1] \"model: 151 inner fold: 1 outer fold: 2\"\n",
      "[1] \"model: 152 inner fold: 2 outer fold: 2\"\n",
      "[1] \"model: 153 inner fold: 3 outer fold: 2\"\n",
      "[1] \"model: 154 inner fold: 4 outer fold: 2\"\n",
      "[1] \"model: 155 inner fold: 5 outer fold: 2\"\n",
      "[1] \"model: 156 inner fold: 6 outer fold: 2\"\n",
      "[1] \"model: 157 inner fold: 7 outer fold: 2\"\n",
      "[1] \"model: 158 inner fold: 8 outer fold: 2\"\n",
      "[1] \"model: 159 inner fold: 9 outer fold: 2\"\n",
      "[1] \"model: 160 inner fold: 10 outer fold: 2\"\n",
      "[1] \"model: 161 inner fold: 1 outer fold: 3\"\n",
      "[1] \"model: 162 inner fold: 2 outer fold: 3\"\n",
      "[1] \"model: 163 inner fold: 3 outer fold: 3\"\n",
      "[1] \"model: 164 inner fold: 4 outer fold: 3\"\n",
      "[1] \"model: 165 inner fold: 5 outer fold: 3\"\n",
      "[1] \"model: 166 inner fold: 6 outer fold: 3\"\n",
      "[1] \"model: 167 inner fold: 7 outer fold: 3\"\n",
      "[1] \"model: 168 inner fold: 8 outer fold: 3\"\n",
      "[1] \"model: 169 inner fold: 9 outer fold: 3\"\n",
      "[1] \"model: 170 inner fold: 10 outer fold: 3\"\n",
      "[1] \"model: 171 inner fold: 1 outer fold: 3\"\n",
      "[1] \"model: 172 inner fold: 2 outer fold: 3\"\n",
      "[1] \"model: 173 inner fold: 3 outer fold: 3\"\n",
      "[1] \"model: 174 inner fold: 4 outer fold: 3\"\n",
      "[1] \"model: 175 inner fold: 5 outer fold: 3\"\n",
      "[1] \"model: 176 inner fold: 6 outer fold: 3\"\n",
      "[1] \"model: 177 inner fold: 7 outer fold: 3\"\n",
      "[1] \"model: 178 inner fold: 8 outer fold: 3\"\n",
      "[1] \"model: 179 inner fold: 9 outer fold: 3\"\n",
      "[1] \"model: 180 inner fold: 10 outer fold: 3\"\n",
      "[1] \"model: 181 inner fold: 1 outer fold: 3\"\n",
      "[1] \"model: 182 inner fold: 2 outer fold: 3\"\n",
      "[1] \"model: 183 inner fold: 3 outer fold: 3\"\n",
      "[1] \"model: 184 inner fold: 4 outer fold: 3\"\n",
      "[1] \"model: 185 inner fold: 5 outer fold: 3\"\n",
      "[1] \"model: 186 inner fold: 6 outer fold: 3\"\n",
      "[1] \"model: 187 inner fold: 7 outer fold: 3\"\n",
      "[1] \"model: 188 inner fold: 8 outer fold: 3\"\n",
      "[1] \"model: 189 inner fold: 9 outer fold: 3\"\n",
      "[1] \"model: 190 inner fold: 10 outer fold: 3\"\n",
      "[1] \"model: 191 inner fold: 1 outer fold: 3\"\n",
      "[1] \"model: 192 inner fold: 2 outer fold: 3\"\n",
      "[1] \"model: 193 inner fold: 3 outer fold: 3\"\n",
      "[1] \"model: 194 inner fold: 4 outer fold: 3\"\n",
      "[1] \"model: 195 inner fold: 5 outer fold: 3\"\n",
      "[1] \"model: 196 inner fold: 6 outer fold: 3\"\n",
      "[1] \"model: 197 inner fold: 7 outer fold: 3\"\n",
      "[1] \"model: 198 inner fold: 8 outer fold: 3\"\n",
      "[1] \"model: 199 inner fold: 9 outer fold: 3\"\n",
      "[1] \"model: 200 inner fold: 10 outer fold: 3\"\n",
      "[1] \"model: 201 inner fold: 1 outer fold: 3\"\n",
      "[1] \"model: 202 inner fold: 2 outer fold: 3\"\n",
      "[1] \"model: 203 inner fold: 3 outer fold: 3\"\n",
      "[1] \"model: 204 inner fold: 4 outer fold: 3\"\n",
      "[1] \"model: 205 inner fold: 5 outer fold: 3\"\n",
      "[1] \"model: 206 inner fold: 6 outer fold: 3\"\n",
      "[1] \"model: 207 inner fold: 7 outer fold: 3\"\n",
      "[1] \"model: 208 inner fold: 8 outer fold: 3\"\n",
      "[1] \"model: 209 inner fold: 9 outer fold: 3\"\n",
      "[1] \"model: 210 inner fold: 10 outer fold: 3\"\n",
      "[1] \"model: 211 inner fold: 1 outer fold: 3\"\n",
      "[1] \"model: 212 inner fold: 2 outer fold: 3\"\n",
      "[1] \"model: 213 inner fold: 3 outer fold: 3\"\n",
      "[1] \"model: 214 inner fold: 4 outer fold: 3\"\n",
      "[1] \"model: 215 inner fold: 5 outer fold: 3\"\n",
      "[1] \"model: 216 inner fold: 6 outer fold: 3\"\n",
      "[1] \"model: 217 inner fold: 7 outer fold: 3\"\n",
      "[1] \"model: 218 inner fold: 8 outer fold: 3\"\n",
      "[1] \"model: 219 inner fold: 9 outer fold: 3\"\n",
      "[1] \"model: 220 inner fold: 10 outer fold: 3\"\n",
      "[1] \"model: 221 inner fold: 1 outer fold: 3\"\n",
      "[1] \"model: 222 inner fold: 2 outer fold: 3\"\n",
      "[1] \"model: 223 inner fold: 3 outer fold: 3\"\n",
      "[1] \"model: 224 inner fold: 4 outer fold: 3\"\n",
      "[1] \"model: 225 inner fold: 5 outer fold: 3\"\n",
      "[1] \"model: 226 inner fold: 6 outer fold: 3\"\n",
      "[1] \"model: 227 inner fold: 7 outer fold: 3\"\n",
      "[1] \"model: 228 inner fold: 8 outer fold: 3\"\n",
      "[1] \"model: 229 inner fold: 9 outer fold: 3\"\n",
      "[1] \"model: 230 inner fold: 10 outer fold: 3\"\n",
      "[1] \"model: 231 inner fold: 1 outer fold: 3\"\n",
      "[1] \"model: 232 inner fold: 2 outer fold: 3\"\n",
      "[1] \"model: 233 inner fold: 3 outer fold: 3\"\n",
      "[1] \"model: 234 inner fold: 4 outer fold: 3\"\n",
      "[1] \"model: 235 inner fold: 5 outer fold: 3\"\n",
      "[1] \"model: 236 inner fold: 6 outer fold: 3\"\n",
      "[1] \"model: 237 inner fold: 7 outer fold: 3\"\n",
      "[1] \"model: 238 inner fold: 8 outer fold: 3\"\n",
      "[1] \"model: 239 inner fold: 9 outer fold: 3\"\n",
      "[1] \"model: 240 inner fold: 10 outer fold: 3\"\n",
      "[1] \"model: 241 inner fold: 1 outer fold: 4\"\n",
      "[1] \"model: 242 inner fold: 2 outer fold: 4\"\n",
      "[1] \"model: 243 inner fold: 3 outer fold: 4\"\n",
      "[1] \"model: 244 inner fold: 4 outer fold: 4\"\n",
      "[1] \"model: 245 inner fold: 5 outer fold: 4\"\n",
      "[1] \"model: 246 inner fold: 6 outer fold: 4\"\n",
      "[1] \"model: 247 inner fold: 7 outer fold: 4\"\n",
      "[1] \"model: 248 inner fold: 8 outer fold: 4\"\n",
      "[1] \"model: 249 inner fold: 9 outer fold: 4\"\n",
      "[1] \"model: 250 inner fold: 10 outer fold: 4\"\n",
      "[1] \"model: 251 inner fold: 1 outer fold: 4\"\n",
      "[1] \"model: 252 inner fold: 2 outer fold: 4\"\n",
      "[1] \"model: 253 inner fold: 3 outer fold: 4\"\n",
      "[1] \"model: 254 inner fold: 4 outer fold: 4\"\n",
      "[1] \"model: 255 inner fold: 5 outer fold: 4\"\n",
      "[1] \"model: 256 inner fold: 6 outer fold: 4\"\n",
      "[1] \"model: 257 inner fold: 7 outer fold: 4\"\n",
      "[1] \"model: 258 inner fold: 8 outer fold: 4\"\n",
      "[1] \"model: 259 inner fold: 9 outer fold: 4\"\n",
      "[1] \"model: 260 inner fold: 10 outer fold: 4\"\n",
      "[1] \"model: 261 inner fold: 1 outer fold: 4\"\n",
      "[1] \"model: 262 inner fold: 2 outer fold: 4\"\n",
      "[1] \"model: 263 inner fold: 3 outer fold: 4\"\n",
      "[1] \"model: 264 inner fold: 4 outer fold: 4\"\n",
      "[1] \"model: 265 inner fold: 5 outer fold: 4\"\n",
      "[1] \"model: 266 inner fold: 6 outer fold: 4\"\n",
      "[1] \"model: 267 inner fold: 7 outer fold: 4\"\n",
      "[1] \"model: 268 inner fold: 8 outer fold: 4\"\n",
      "[1] \"model: 269 inner fold: 9 outer fold: 4\"\n",
      "[1] \"model: 270 inner fold: 10 outer fold: 4\"\n",
      "[1] \"model: 271 inner fold: 1 outer fold: 4\"\n",
      "[1] \"model: 272 inner fold: 2 outer fold: 4\"\n",
      "[1] \"model: 273 inner fold: 3 outer fold: 4\"\n",
      "[1] \"model: 274 inner fold: 4 outer fold: 4\"\n",
      "[1] \"model: 275 inner fold: 5 outer fold: 4\"\n",
      "[1] \"model: 276 inner fold: 6 outer fold: 4\"\n",
      "[1] \"model: 277 inner fold: 7 outer fold: 4\"\n",
      "[1] \"model: 278 inner fold: 8 outer fold: 4\"\n",
      "[1] \"model: 279 inner fold: 9 outer fold: 4\"\n",
      "[1] \"model: 280 inner fold: 10 outer fold: 4\"\n",
      "[1] \"model: 281 inner fold: 1 outer fold: 4\"\n",
      "[1] \"model: 282 inner fold: 2 outer fold: 4\"\n",
      "[1] \"model: 283 inner fold: 3 outer fold: 4\"\n",
      "[1] \"model: 284 inner fold: 4 outer fold: 4\"\n",
      "[1] \"model: 285 inner fold: 5 outer fold: 4\"\n",
      "[1] \"model: 286 inner fold: 6 outer fold: 4\"\n",
      "[1] \"model: 287 inner fold: 7 outer fold: 4\"\n",
      "[1] \"model: 288 inner fold: 8 outer fold: 4\"\n",
      "[1] \"model: 289 inner fold: 9 outer fold: 4\"\n",
      "[1] \"model: 290 inner fold: 10 outer fold: 4\"\n",
      "[1] \"model: 291 inner fold: 1 outer fold: 4\"\n",
      "[1] \"model: 292 inner fold: 2 outer fold: 4\"\n",
      "[1] \"model: 293 inner fold: 3 outer fold: 4\"\n",
      "[1] \"model: 294 inner fold: 4 outer fold: 4\"\n",
      "[1] \"model: 295 inner fold: 5 outer fold: 4\"\n",
      "[1] \"model: 296 inner fold: 6 outer fold: 4\"\n",
      "[1] \"model: 297 inner fold: 7 outer fold: 4\"\n",
      "[1] \"model: 298 inner fold: 8 outer fold: 4\"\n",
      "[1] \"model: 299 inner fold: 9 outer fold: 4\"\n",
      "[1] \"model: 300 inner fold: 10 outer fold: 4\"\n",
      "[1] \"model: 301 inner fold: 1 outer fold: 4\"\n",
      "[1] \"model: 302 inner fold: 2 outer fold: 4\"\n",
      "[1] \"model: 303 inner fold: 3 outer fold: 4\"\n",
      "[1] \"model: 304 inner fold: 4 outer fold: 4\"\n",
      "[1] \"model: 305 inner fold: 5 outer fold: 4\"\n",
      "[1] \"model: 306 inner fold: 6 outer fold: 4\"\n",
      "[1] \"model: 307 inner fold: 7 outer fold: 4\"\n",
      "[1] \"model: 308 inner fold: 8 outer fold: 4\"\n",
      "[1] \"model: 309 inner fold: 9 outer fold: 4\"\n",
      "[1] \"model: 310 inner fold: 10 outer fold: 4\"\n",
      "[1] \"model: 311 inner fold: 1 outer fold: 4\"\n",
      "[1] \"model: 312 inner fold: 2 outer fold: 4\"\n",
      "[1] \"model: 313 inner fold: 3 outer fold: 4\"\n",
      "[1] \"model: 314 inner fold: 4 outer fold: 4\"\n",
      "[1] \"model: 315 inner fold: 5 outer fold: 4\"\n",
      "[1] \"model: 316 inner fold: 6 outer fold: 4\"\n",
      "[1] \"model: 317 inner fold: 7 outer fold: 4\"\n",
      "[1] \"model: 318 inner fold: 8 outer fold: 4\"\n",
      "[1] \"model: 319 inner fold: 9 outer fold: 4\"\n",
      "[1] \"model: 320 inner fold: 10 outer fold: 4\"\n",
      "[1] \"model: 321 inner fold: 1 outer fold: 5\"\n",
      "[1] \"model: 322 inner fold: 2 outer fold: 5\"\n",
      "[1] \"model: 323 inner fold: 3 outer fold: 5\"\n",
      "[1] \"model: 324 inner fold: 4 outer fold: 5\"\n",
      "[1] \"model: 325 inner fold: 5 outer fold: 5\"\n",
      "[1] \"model: 326 inner fold: 6 outer fold: 5\"\n",
      "[1] \"model: 327 inner fold: 7 outer fold: 5\"\n",
      "[1] \"model: 328 inner fold: 8 outer fold: 5\"\n",
      "[1] \"model: 329 inner fold: 9 outer fold: 5\"\n",
      "[1] \"model: 330 inner fold: 10 outer fold: 5\"\n",
      "[1] \"model: 331 inner fold: 1 outer fold: 5\"\n",
      "[1] \"model: 332 inner fold: 2 outer fold: 5\"\n",
      "[1] \"model: 333 inner fold: 3 outer fold: 5\"\n",
      "[1] \"model: 334 inner fold: 4 outer fold: 5\"\n",
      "[1] \"model: 335 inner fold: 5 outer fold: 5\"\n",
      "[1] \"model: 336 inner fold: 6 outer fold: 5\"\n",
      "[1] \"model: 337 inner fold: 7 outer fold: 5\"\n",
      "[1] \"model: 338 inner fold: 8 outer fold: 5\"\n",
      "[1] \"model: 339 inner fold: 9 outer fold: 5\"\n",
      "[1] \"model: 340 inner fold: 10 outer fold: 5\"\n",
      "[1] \"model: 341 inner fold: 1 outer fold: 5\"\n",
      "[1] \"model: 342 inner fold: 2 outer fold: 5\"\n",
      "[1] \"model: 343 inner fold: 3 outer fold: 5\"\n",
      "[1] \"model: 344 inner fold: 4 outer fold: 5\"\n",
      "[1] \"model: 345 inner fold: 5 outer fold: 5\"\n",
      "[1] \"model: 346 inner fold: 6 outer fold: 5\"\n",
      "[1] \"model: 347 inner fold: 7 outer fold: 5\"\n",
      "[1] \"model: 348 inner fold: 8 outer fold: 5\"\n",
      "[1] \"model: 349 inner fold: 9 outer fold: 5\"\n",
      "[1] \"model: 350 inner fold: 10 outer fold: 5\"\n",
      "[1] \"model: 351 inner fold: 1 outer fold: 5\"\n",
      "[1] \"model: 352 inner fold: 2 outer fold: 5\"\n",
      "[1] \"model: 353 inner fold: 3 outer fold: 5\"\n",
      "[1] \"model: 354 inner fold: 4 outer fold: 5\"\n",
      "[1] \"model: 355 inner fold: 5 outer fold: 5\"\n",
      "[1] \"model: 356 inner fold: 6 outer fold: 5\"\n",
      "[1] \"model: 357 inner fold: 7 outer fold: 5\"\n",
      "[1] \"model: 358 inner fold: 8 outer fold: 5\"\n",
      "[1] \"model: 359 inner fold: 9 outer fold: 5\"\n",
      "[1] \"model: 360 inner fold: 10 outer fold: 5\"\n",
      "[1] \"model: 361 inner fold: 1 outer fold: 5\"\n",
      "[1] \"model: 362 inner fold: 2 outer fold: 5\"\n",
      "[1] \"model: 363 inner fold: 3 outer fold: 5\"\n",
      "[1] \"model: 364 inner fold: 4 outer fold: 5\"\n",
      "[1] \"model: 365 inner fold: 5 outer fold: 5\"\n",
      "[1] \"model: 366 inner fold: 6 outer fold: 5\"\n",
      "[1] \"model: 367 inner fold: 7 outer fold: 5\"\n",
      "[1] \"model: 368 inner fold: 8 outer fold: 5\"\n",
      "[1] \"model: 369 inner fold: 9 outer fold: 5\"\n",
      "[1] \"model: 370 inner fold: 10 outer fold: 5\"\n",
      "[1] \"model: 371 inner fold: 1 outer fold: 5\"\n",
      "[1] \"model: 372 inner fold: 2 outer fold: 5\"\n",
      "[1] \"model: 373 inner fold: 3 outer fold: 5\"\n",
      "[1] \"model: 374 inner fold: 4 outer fold: 5\"\n",
      "[1] \"model: 375 inner fold: 5 outer fold: 5\"\n",
      "[1] \"model: 376 inner fold: 6 outer fold: 5\"\n",
      "[1] \"model: 377 inner fold: 7 outer fold: 5\"\n",
      "[1] \"model: 378 inner fold: 8 outer fold: 5\"\n",
      "[1] \"model: 379 inner fold: 9 outer fold: 5\"\n",
      "[1] \"model: 380 inner fold: 10 outer fold: 5\"\n",
      "[1] \"model: 381 inner fold: 1 outer fold: 5\"\n",
      "[1] \"model: 382 inner fold: 2 outer fold: 5\"\n",
      "[1] \"model: 383 inner fold: 3 outer fold: 5\"\n",
      "[1] \"model: 384 inner fold: 4 outer fold: 5\"\n",
      "[1] \"model: 385 inner fold: 5 outer fold: 5\"\n",
      "[1] \"model: 386 inner fold: 6 outer fold: 5\"\n",
      "[1] \"model: 387 inner fold: 7 outer fold: 5\"\n",
      "[1] \"model: 388 inner fold: 8 outer fold: 5\"\n",
      "[1] \"model: 389 inner fold: 9 outer fold: 5\"\n",
      "[1] \"model: 390 inner fold: 10 outer fold: 5\"\n",
      "[1] \"model: 391 inner fold: 1 outer fold: 5\"\n",
      "[1] \"model: 392 inner fold: 2 outer fold: 5\"\n",
      "[1] \"model: 393 inner fold: 3 outer fold: 5\"\n",
      "[1] \"model: 394 inner fold: 4 outer fold: 5\"\n",
      "[1] \"model: 395 inner fold: 5 outer fold: 5\"\n",
      "[1] \"model: 396 inner fold: 6 outer fold: 5\"\n",
      "[1] \"model: 397 inner fold: 7 outer fold: 5\"\n",
      "[1] \"model: 398 inner fold: 8 outer fold: 5\"\n",
      "[1] \"model: 399 inner fold: 9 outer fold: 5\"\n",
      "[1] \"model: 400 inner fold: 10 outer fold: 5\"\n",
      "[1] \"model: 401 inner fold: 1 outer fold: 6\"\n",
      "[1] \"model: 402 inner fold: 2 outer fold: 6\"\n",
      "[1] \"model: 403 inner fold: 3 outer fold: 6\"\n",
      "[1] \"model: 404 inner fold: 4 outer fold: 6\"\n",
      "[1] \"model: 405 inner fold: 5 outer fold: 6\"\n",
      "[1] \"model: 406 inner fold: 6 outer fold: 6\"\n",
      "[1] \"model: 407 inner fold: 7 outer fold: 6\"\n",
      "[1] \"model: 408 inner fold: 8 outer fold: 6\"\n",
      "[1] \"model: 409 inner fold: 9 outer fold: 6\"\n",
      "[1] \"model: 410 inner fold: 10 outer fold: 6\"\n",
      "[1] \"model: 411 inner fold: 1 outer fold: 6\"\n",
      "[1] \"model: 412 inner fold: 2 outer fold: 6\"\n",
      "[1] \"model: 413 inner fold: 3 outer fold: 6\"\n",
      "[1] \"model: 414 inner fold: 4 outer fold: 6\"\n",
      "[1] \"model: 415 inner fold: 5 outer fold: 6\"\n",
      "[1] \"model: 416 inner fold: 6 outer fold: 6\"\n",
      "[1] \"model: 417 inner fold: 7 outer fold: 6\"\n",
      "[1] \"model: 418 inner fold: 8 outer fold: 6\"\n",
      "[1] \"model: 419 inner fold: 9 outer fold: 6\"\n",
      "[1] \"model: 420 inner fold: 10 outer fold: 6\"\n",
      "[1] \"model: 421 inner fold: 1 outer fold: 6\"\n",
      "[1] \"model: 422 inner fold: 2 outer fold: 6\"\n",
      "[1] \"model: 423 inner fold: 3 outer fold: 6\"\n",
      "[1] \"model: 424 inner fold: 4 outer fold: 6\"\n",
      "[1] \"model: 425 inner fold: 5 outer fold: 6\"\n",
      "[1] \"model: 426 inner fold: 6 outer fold: 6\"\n",
      "[1] \"model: 427 inner fold: 7 outer fold: 6\"\n",
      "[1] \"model: 428 inner fold: 8 outer fold: 6\"\n",
      "[1] \"model: 429 inner fold: 9 outer fold: 6\"\n",
      "[1] \"model: 430 inner fold: 10 outer fold: 6\"\n",
      "[1] \"model: 431 inner fold: 1 outer fold: 6\"\n",
      "[1] \"model: 432 inner fold: 2 outer fold: 6\"\n",
      "[1] \"model: 433 inner fold: 3 outer fold: 6\"\n",
      "[1] \"model: 434 inner fold: 4 outer fold: 6\"\n",
      "[1] \"model: 435 inner fold: 5 outer fold: 6\"\n",
      "[1] \"model: 436 inner fold: 6 outer fold: 6\"\n",
      "[1] \"model: 437 inner fold: 7 outer fold: 6\"\n",
      "[1] \"model: 438 inner fold: 8 outer fold: 6\"\n",
      "[1] \"model: 439 inner fold: 9 outer fold: 6\"\n",
      "[1] \"model: 440 inner fold: 10 outer fold: 6\"\n",
      "[1] \"model: 441 inner fold: 1 outer fold: 6\"\n",
      "[1] \"model: 442 inner fold: 2 outer fold: 6\"\n",
      "[1] \"model: 443 inner fold: 3 outer fold: 6\"\n",
      "[1] \"model: 444 inner fold: 4 outer fold: 6\"\n",
      "[1] \"model: 445 inner fold: 5 outer fold: 6\"\n",
      "[1] \"model: 446 inner fold: 6 outer fold: 6\"\n",
      "[1] \"model: 447 inner fold: 7 outer fold: 6\"\n",
      "[1] \"model: 448 inner fold: 8 outer fold: 6\"\n",
      "[1] \"model: 449 inner fold: 9 outer fold: 6\"\n",
      "[1] \"model: 450 inner fold: 10 outer fold: 6\"\n",
      "[1] \"model: 451 inner fold: 1 outer fold: 6\"\n",
      "[1] \"model: 452 inner fold: 2 outer fold: 6\"\n",
      "[1] \"model: 453 inner fold: 3 outer fold: 6\"\n",
      "[1] \"model: 454 inner fold: 4 outer fold: 6\"\n",
      "[1] \"model: 455 inner fold: 5 outer fold: 6\"\n",
      "[1] \"model: 456 inner fold: 6 outer fold: 6\"\n",
      "[1] \"model: 457 inner fold: 7 outer fold: 6\"\n",
      "[1] \"model: 458 inner fold: 8 outer fold: 6\"\n",
      "[1] \"model: 459 inner fold: 9 outer fold: 6\"\n",
      "[1] \"model: 460 inner fold: 10 outer fold: 6\"\n",
      "[1] \"model: 461 inner fold: 1 outer fold: 6\"\n",
      "[1] \"model: 462 inner fold: 2 outer fold: 6\"\n",
      "[1] \"model: 463 inner fold: 3 outer fold: 6\"\n",
      "[1] \"model: 464 inner fold: 4 outer fold: 6\"\n",
      "[1] \"model: 465 inner fold: 5 outer fold: 6\"\n",
      "[1] \"model: 466 inner fold: 6 outer fold: 6\"\n",
      "[1] \"model: 467 inner fold: 7 outer fold: 6\"\n",
      "[1] \"model: 468 inner fold: 8 outer fold: 6\"\n",
      "[1] \"model: 469 inner fold: 9 outer fold: 6\"\n",
      "[1] \"model: 470 inner fold: 10 outer fold: 6\"\n",
      "[1] \"model: 471 inner fold: 1 outer fold: 6\"\n",
      "[1] \"model: 472 inner fold: 2 outer fold: 6\"\n",
      "[1] \"model: 473 inner fold: 3 outer fold: 6\"\n",
      "[1] \"model: 474 inner fold: 4 outer fold: 6\"\n",
      "[1] \"model: 475 inner fold: 5 outer fold: 6\"\n",
      "[1] \"model: 476 inner fold: 6 outer fold: 6\"\n",
      "[1] \"model: 477 inner fold: 7 outer fold: 6\"\n",
      "[1] \"model: 478 inner fold: 8 outer fold: 6\"\n",
      "[1] \"model: 479 inner fold: 9 outer fold: 6\"\n",
      "[1] \"model: 480 inner fold: 10 outer fold: 6\"\n",
      "[1] \"model: 481 inner fold: 1 outer fold: 7\"\n",
      "[1] \"model: 482 inner fold: 2 outer fold: 7\"\n",
      "[1] \"model: 483 inner fold: 3 outer fold: 7\"\n",
      "[1] \"model: 484 inner fold: 4 outer fold: 7\"\n",
      "[1] \"model: 485 inner fold: 5 outer fold: 7\"\n",
      "[1] \"model: 486 inner fold: 6 outer fold: 7\"\n",
      "[1] \"model: 487 inner fold: 7 outer fold: 7\"\n",
      "[1] \"model: 488 inner fold: 8 outer fold: 7\"\n",
      "[1] \"model: 489 inner fold: 9 outer fold: 7\"\n",
      "[1] \"model: 490 inner fold: 10 outer fold: 7\"\n",
      "[1] \"model: 491 inner fold: 1 outer fold: 7\"\n",
      "[1] \"model: 492 inner fold: 2 outer fold: 7\"\n",
      "[1] \"model: 493 inner fold: 3 outer fold: 7\"\n",
      "[1] \"model: 494 inner fold: 4 outer fold: 7\"\n",
      "[1] \"model: 495 inner fold: 5 outer fold: 7\"\n",
      "[1] \"model: 496 inner fold: 6 outer fold: 7\"\n",
      "[1] \"model: 497 inner fold: 7 outer fold: 7\"\n",
      "[1] \"model: 498 inner fold: 8 outer fold: 7\"\n",
      "[1] \"model: 499 inner fold: 9 outer fold: 7\"\n",
      "[1] \"model: 500 inner fold: 10 outer fold: 7\"\n",
      "[1] \"model: 501 inner fold: 1 outer fold: 7\"\n",
      "[1] \"model: 502 inner fold: 2 outer fold: 7\"\n",
      "[1] \"model: 503 inner fold: 3 outer fold: 7\"\n",
      "[1] \"model: 504 inner fold: 4 outer fold: 7\"\n",
      "[1] \"model: 505 inner fold: 5 outer fold: 7\"\n",
      "[1] \"model: 506 inner fold: 6 outer fold: 7\"\n",
      "[1] \"model: 507 inner fold: 7 outer fold: 7\"\n",
      "[1] \"model: 508 inner fold: 8 outer fold: 7\"\n",
      "[1] \"model: 509 inner fold: 9 outer fold: 7\"\n",
      "[1] \"model: 510 inner fold: 10 outer fold: 7\"\n",
      "[1] \"model: 511 inner fold: 1 outer fold: 7\"\n",
      "[1] \"model: 512 inner fold: 2 outer fold: 7\"\n",
      "[1] \"model: 513 inner fold: 3 outer fold: 7\"\n",
      "[1] \"model: 514 inner fold: 4 outer fold: 7\"\n",
      "[1] \"model: 515 inner fold: 5 outer fold: 7\"\n",
      "[1] \"model: 516 inner fold: 6 outer fold: 7\"\n",
      "[1] \"model: 517 inner fold: 7 outer fold: 7\"\n",
      "[1] \"model: 518 inner fold: 8 outer fold: 7\"\n",
      "[1] \"model: 519 inner fold: 9 outer fold: 7\"\n",
      "[1] \"model: 520 inner fold: 10 outer fold: 7\"\n",
      "[1] \"model: 521 inner fold: 1 outer fold: 7\"\n",
      "[1] \"model: 522 inner fold: 2 outer fold: 7\"\n",
      "[1] \"model: 523 inner fold: 3 outer fold: 7\"\n",
      "[1] \"model: 524 inner fold: 4 outer fold: 7\"\n",
      "[1] \"model: 525 inner fold: 5 outer fold: 7\"\n",
      "[1] \"model: 526 inner fold: 6 outer fold: 7\"\n",
      "[1] \"model: 527 inner fold: 7 outer fold: 7\"\n",
      "[1] \"model: 528 inner fold: 8 outer fold: 7\"\n",
      "[1] \"model: 529 inner fold: 9 outer fold: 7\"\n",
      "[1] \"model: 530 inner fold: 10 outer fold: 7\"\n",
      "[1] \"model: 531 inner fold: 1 outer fold: 7\"\n",
      "[1] \"model: 532 inner fold: 2 outer fold: 7\"\n",
      "[1] \"model: 533 inner fold: 3 outer fold: 7\"\n",
      "[1] \"model: 534 inner fold: 4 outer fold: 7\"\n",
      "[1] \"model: 535 inner fold: 5 outer fold: 7\"\n",
      "[1] \"model: 536 inner fold: 6 outer fold: 7\"\n",
      "[1] \"model: 537 inner fold: 7 outer fold: 7\"\n",
      "[1] \"model: 538 inner fold: 8 outer fold: 7\"\n",
      "[1] \"model: 539 inner fold: 9 outer fold: 7\"\n",
      "[1] \"model: 540 inner fold: 10 outer fold: 7\"\n",
      "[1] \"model: 541 inner fold: 1 outer fold: 7\"\n",
      "[1] \"model: 542 inner fold: 2 outer fold: 7\"\n",
      "[1] \"model: 543 inner fold: 3 outer fold: 7\"\n",
      "[1] \"model: 544 inner fold: 4 outer fold: 7\"\n",
      "[1] \"model: 545 inner fold: 5 outer fold: 7\"\n",
      "[1] \"model: 546 inner fold: 6 outer fold: 7\"\n",
      "[1] \"model: 547 inner fold: 7 outer fold: 7\"\n",
      "[1] \"model: 548 inner fold: 8 outer fold: 7\"\n",
      "[1] \"model: 549 inner fold: 9 outer fold: 7\"\n",
      "[1] \"model: 550 inner fold: 10 outer fold: 7\"\n",
      "[1] \"model: 551 inner fold: 1 outer fold: 7\"\n",
      "[1] \"model: 552 inner fold: 2 outer fold: 7\"\n",
      "[1] \"model: 553 inner fold: 3 outer fold: 7\"\n",
      "[1] \"model: 554 inner fold: 4 outer fold: 7\"\n",
      "[1] \"model: 555 inner fold: 5 outer fold: 7\"\n",
      "[1] \"model: 556 inner fold: 6 outer fold: 7\"\n",
      "[1] \"model: 557 inner fold: 7 outer fold: 7\"\n",
      "[1] \"model: 558 inner fold: 8 outer fold: 7\"\n",
      "[1] \"model: 559 inner fold: 9 outer fold: 7\"\n",
      "[1] \"model: 560 inner fold: 10 outer fold: 7\"\n",
      "[1] \"model: 561 inner fold: 1 outer fold: 8\"\n",
      "[1] \"model: 562 inner fold: 2 outer fold: 8\"\n",
      "[1] \"model: 563 inner fold: 3 outer fold: 8\"\n",
      "[1] \"model: 564 inner fold: 4 outer fold: 8\"\n",
      "[1] \"model: 565 inner fold: 5 outer fold: 8\"\n",
      "[1] \"model: 566 inner fold: 6 outer fold: 8\"\n",
      "[1] \"model: 567 inner fold: 7 outer fold: 8\"\n",
      "[1] \"model: 568 inner fold: 8 outer fold: 8\"\n",
      "[1] \"model: 569 inner fold: 9 outer fold: 8\"\n",
      "[1] \"model: 570 inner fold: 10 outer fold: 8\"\n",
      "[1] \"model: 571 inner fold: 1 outer fold: 8\"\n",
      "[1] \"model: 572 inner fold: 2 outer fold: 8\"\n",
      "[1] \"model: 573 inner fold: 3 outer fold: 8\"\n",
      "[1] \"model: 574 inner fold: 4 outer fold: 8\"\n",
      "[1] \"model: 575 inner fold: 5 outer fold: 8\"\n",
      "[1] \"model: 576 inner fold: 6 outer fold: 8\"\n",
      "[1] \"model: 577 inner fold: 7 outer fold: 8\"\n",
      "[1] \"model: 578 inner fold: 8 outer fold: 8\"\n",
      "[1] \"model: 579 inner fold: 9 outer fold: 8\"\n",
      "[1] \"model: 580 inner fold: 10 outer fold: 8\"\n",
      "[1] \"model: 581 inner fold: 1 outer fold: 8\"\n",
      "[1] \"model: 582 inner fold: 2 outer fold: 8\"\n",
      "[1] \"model: 583 inner fold: 3 outer fold: 8\"\n",
      "[1] \"model: 584 inner fold: 4 outer fold: 8\"\n",
      "[1] \"model: 585 inner fold: 5 outer fold: 8\"\n",
      "[1] \"model: 586 inner fold: 6 outer fold: 8\"\n",
      "[1] \"model: 587 inner fold: 7 outer fold: 8\"\n",
      "[1] \"model: 588 inner fold: 8 outer fold: 8\"\n",
      "[1] \"model: 589 inner fold: 9 outer fold: 8\"\n",
      "[1] \"model: 590 inner fold: 10 outer fold: 8\"\n",
      "[1] \"model: 591 inner fold: 1 outer fold: 8\"\n",
      "[1] \"model: 592 inner fold: 2 outer fold: 8\"\n",
      "[1] \"model: 593 inner fold: 3 outer fold: 8\"\n",
      "[1] \"model: 594 inner fold: 4 outer fold: 8\"\n",
      "[1] \"model: 595 inner fold: 5 outer fold: 8\"\n",
      "[1] \"model: 596 inner fold: 6 outer fold: 8\"\n",
      "[1] \"model: 597 inner fold: 7 outer fold: 8\"\n",
      "[1] \"model: 598 inner fold: 8 outer fold: 8\"\n",
      "[1] \"model: 599 inner fold: 9 outer fold: 8\"\n",
      "[1] \"model: 600 inner fold: 10 outer fold: 8\"\n",
      "[1] \"model: 601 inner fold: 1 outer fold: 8\"\n",
      "[1] \"model: 602 inner fold: 2 outer fold: 8\"\n",
      "[1] \"model: 603 inner fold: 3 outer fold: 8\"\n",
      "[1] \"model: 604 inner fold: 4 outer fold: 8\"\n",
      "[1] \"model: 605 inner fold: 5 outer fold: 8\"\n",
      "[1] \"model: 606 inner fold: 6 outer fold: 8\"\n",
      "[1] \"model: 607 inner fold: 7 outer fold: 8\"\n",
      "[1] \"model: 608 inner fold: 8 outer fold: 8\"\n",
      "[1] \"model: 609 inner fold: 9 outer fold: 8\"\n",
      "[1] \"model: 610 inner fold: 10 outer fold: 8\"\n",
      "[1] \"model: 611 inner fold: 1 outer fold: 8\"\n",
      "[1] \"model: 612 inner fold: 2 outer fold: 8\"\n",
      "[1] \"model: 613 inner fold: 3 outer fold: 8\"\n",
      "[1] \"model: 614 inner fold: 4 outer fold: 8\"\n",
      "[1] \"model: 615 inner fold: 5 outer fold: 8\"\n",
      "[1] \"model: 616 inner fold: 6 outer fold: 8\"\n",
      "[1] \"model: 617 inner fold: 7 outer fold: 8\"\n",
      "[1] \"model: 618 inner fold: 8 outer fold: 8\"\n",
      "[1] \"model: 619 inner fold: 9 outer fold: 8\"\n",
      "[1] \"model: 620 inner fold: 10 outer fold: 8\"\n",
      "[1] \"model: 621 inner fold: 1 outer fold: 8\"\n",
      "[1] \"model: 622 inner fold: 2 outer fold: 8\"\n",
      "[1] \"model: 623 inner fold: 3 outer fold: 8\"\n",
      "[1] \"model: 624 inner fold: 4 outer fold: 8\"\n",
      "[1] \"model: 625 inner fold: 5 outer fold: 8\"\n",
      "[1] \"model: 626 inner fold: 6 outer fold: 8\"\n",
      "[1] \"model: 627 inner fold: 7 outer fold: 8\"\n",
      "[1] \"model: 628 inner fold: 8 outer fold: 8\"\n",
      "[1] \"model: 629 inner fold: 9 outer fold: 8\"\n",
      "[1] \"model: 630 inner fold: 10 outer fold: 8\"\n",
      "[1] \"model: 631 inner fold: 1 outer fold: 8\"\n",
      "[1] \"model: 632 inner fold: 2 outer fold: 8\"\n",
      "[1] \"model: 633 inner fold: 3 outer fold: 8\"\n",
      "[1] \"model: 634 inner fold: 4 outer fold: 8\"\n",
      "[1] \"model: 635 inner fold: 5 outer fold: 8\"\n",
      "[1] \"model: 636 inner fold: 6 outer fold: 8\"\n",
      "[1] \"model: 637 inner fold: 7 outer fold: 8\"\n",
      "[1] \"model: 638 inner fold: 8 outer fold: 8\"\n",
      "[1] \"model: 639 inner fold: 9 outer fold: 8\"\n",
      "[1] \"model: 640 inner fold: 10 outer fold: 8\"\n",
      "[1] \"model: 641 inner fold: 1 outer fold: 9\"\n",
      "[1] \"model: 642 inner fold: 2 outer fold: 9\"\n",
      "[1] \"model: 643 inner fold: 3 outer fold: 9\"\n",
      "[1] \"model: 644 inner fold: 4 outer fold: 9\"\n",
      "[1] \"model: 645 inner fold: 5 outer fold: 9\"\n",
      "[1] \"model: 646 inner fold: 6 outer fold: 9\"\n",
      "[1] \"model: 647 inner fold: 7 outer fold: 9\"\n",
      "[1] \"model: 648 inner fold: 8 outer fold: 9\"\n",
      "[1] \"model: 649 inner fold: 9 outer fold: 9\"\n",
      "[1] \"model: 650 inner fold: 10 outer fold: 9\"\n",
      "[1] \"model: 651 inner fold: 1 outer fold: 9\"\n",
      "[1] \"model: 652 inner fold: 2 outer fold: 9\"\n",
      "[1] \"model: 653 inner fold: 3 outer fold: 9\"\n",
      "[1] \"model: 654 inner fold: 4 outer fold: 9\"\n",
      "[1] \"model: 655 inner fold: 5 outer fold: 9\"\n",
      "[1] \"model: 656 inner fold: 6 outer fold: 9\"\n",
      "[1] \"model: 657 inner fold: 7 outer fold: 9\"\n",
      "[1] \"model: 658 inner fold: 8 outer fold: 9\"\n",
      "[1] \"model: 659 inner fold: 9 outer fold: 9\"\n",
      "[1] \"model: 660 inner fold: 10 outer fold: 9\"\n",
      "[1] \"model: 661 inner fold: 1 outer fold: 9\"\n",
      "[1] \"model: 662 inner fold: 2 outer fold: 9\"\n",
      "[1] \"model: 663 inner fold: 3 outer fold: 9\"\n",
      "[1] \"model: 664 inner fold: 4 outer fold: 9\"\n",
      "[1] \"model: 665 inner fold: 5 outer fold: 9\"\n",
      "[1] \"model: 666 inner fold: 6 outer fold: 9\"\n",
      "[1] \"model: 667 inner fold: 7 outer fold: 9\"\n",
      "[1] \"model: 668 inner fold: 8 outer fold: 9\"\n",
      "[1] \"model: 669 inner fold: 9 outer fold: 9\"\n",
      "[1] \"model: 670 inner fold: 10 outer fold: 9\"\n",
      "[1] \"model: 671 inner fold: 1 outer fold: 9\"\n",
      "[1] \"model: 672 inner fold: 2 outer fold: 9\"\n",
      "[1] \"model: 673 inner fold: 3 outer fold: 9\"\n",
      "[1] \"model: 674 inner fold: 4 outer fold: 9\"\n",
      "[1] \"model: 675 inner fold: 5 outer fold: 9\"\n",
      "[1] \"model: 676 inner fold: 6 outer fold: 9\"\n",
      "[1] \"model: 677 inner fold: 7 outer fold: 9\"\n",
      "[1] \"model: 678 inner fold: 8 outer fold: 9\"\n",
      "[1] \"model: 679 inner fold: 9 outer fold: 9\"\n",
      "[1] \"model: 680 inner fold: 10 outer fold: 9\"\n",
      "[1] \"model: 681 inner fold: 1 outer fold: 9\"\n",
      "[1] \"model: 682 inner fold: 2 outer fold: 9\"\n",
      "[1] \"model: 683 inner fold: 3 outer fold: 9\"\n",
      "[1] \"model: 684 inner fold: 4 outer fold: 9\"\n",
      "[1] \"model: 685 inner fold: 5 outer fold: 9\"\n",
      "[1] \"model: 686 inner fold: 6 outer fold: 9\"\n",
      "[1] \"model: 687 inner fold: 7 outer fold: 9\"\n",
      "[1] \"model: 688 inner fold: 8 outer fold: 9\"\n",
      "[1] \"model: 689 inner fold: 9 outer fold: 9\"\n",
      "[1] \"model: 690 inner fold: 10 outer fold: 9\"\n",
      "[1] \"model: 691 inner fold: 1 outer fold: 9\"\n",
      "[1] \"model: 692 inner fold: 2 outer fold: 9\"\n",
      "[1] \"model: 693 inner fold: 3 outer fold: 9\"\n",
      "[1] \"model: 694 inner fold: 4 outer fold: 9\"\n",
      "[1] \"model: 695 inner fold: 5 outer fold: 9\"\n",
      "[1] \"model: 696 inner fold: 6 outer fold: 9\"\n",
      "[1] \"model: 697 inner fold: 7 outer fold: 9\"\n",
      "[1] \"model: 698 inner fold: 8 outer fold: 9\"\n",
      "[1] \"model: 699 inner fold: 9 outer fold: 9\"\n",
      "[1] \"model: 700 inner fold: 10 outer fold: 9\"\n",
      "[1] \"model: 701 inner fold: 1 outer fold: 9\"\n",
      "[1] \"model: 702 inner fold: 2 outer fold: 9\"\n",
      "[1] \"model: 703 inner fold: 3 outer fold: 9\"\n",
      "[1] \"model: 704 inner fold: 4 outer fold: 9\"\n",
      "[1] \"model: 705 inner fold: 5 outer fold: 9\"\n",
      "[1] \"model: 706 inner fold: 6 outer fold: 9\"\n",
      "[1] \"model: 707 inner fold: 7 outer fold: 9\"\n",
      "[1] \"model: 708 inner fold: 8 outer fold: 9\"\n",
      "[1] \"model: 709 inner fold: 9 outer fold: 9\"\n",
      "[1] \"model: 710 inner fold: 10 outer fold: 9\"\n",
      "[1] \"model: 711 inner fold: 1 outer fold: 9\"\n",
      "[1] \"model: 712 inner fold: 2 outer fold: 9\"\n",
      "[1] \"model: 713 inner fold: 3 outer fold: 9\"\n",
      "[1] \"model: 714 inner fold: 4 outer fold: 9\"\n",
      "[1] \"model: 715 inner fold: 5 outer fold: 9\"\n",
      "[1] \"model: 716 inner fold: 6 outer fold: 9\"\n",
      "[1] \"model: 717 inner fold: 7 outer fold: 9\"\n",
      "[1] \"model: 718 inner fold: 8 outer fold: 9\"\n",
      "[1] \"model: 719 inner fold: 9 outer fold: 9\"\n",
      "[1] \"model: 720 inner fold: 10 outer fold: 9\"\n",
      "[1] \"model: 721 inner fold: 1 outer fold: 10\"\n",
      "[1] \"model: 722 inner fold: 2 outer fold: 10\"\n",
      "[1] \"model: 723 inner fold: 3 outer fold: 10\"\n",
      "[1] \"model: 724 inner fold: 4 outer fold: 10\"\n",
      "[1] \"model: 725 inner fold: 5 outer fold: 10\"\n",
      "[1] \"model: 726 inner fold: 6 outer fold: 10\"\n",
      "[1] \"model: 727 inner fold: 7 outer fold: 10\"\n",
      "[1] \"model: 728 inner fold: 8 outer fold: 10\"\n",
      "[1] \"model: 729 inner fold: 9 outer fold: 10\"\n",
      "[1] \"model: 730 inner fold: 10 outer fold: 10\"\n",
      "[1] \"model: 731 inner fold: 1 outer fold: 10\"\n",
      "[1] \"model: 732 inner fold: 2 outer fold: 10\"\n",
      "[1] \"model: 733 inner fold: 3 outer fold: 10\"\n",
      "[1] \"model: 734 inner fold: 4 outer fold: 10\"\n",
      "[1] \"model: 735 inner fold: 5 outer fold: 10\"\n",
      "[1] \"model: 736 inner fold: 6 outer fold: 10\"\n",
      "[1] \"model: 737 inner fold: 7 outer fold: 10\"\n",
      "[1] \"model: 738 inner fold: 8 outer fold: 10\"\n",
      "[1] \"model: 739 inner fold: 9 outer fold: 10\"\n",
      "[1] \"model: 740 inner fold: 10 outer fold: 10\"\n",
      "[1] \"model: 741 inner fold: 1 outer fold: 10\"\n",
      "[1] \"model: 742 inner fold: 2 outer fold: 10\"\n",
      "[1] \"model: 743 inner fold: 3 outer fold: 10\"\n",
      "[1] \"model: 744 inner fold: 4 outer fold: 10\"\n",
      "[1] \"model: 745 inner fold: 5 outer fold: 10\"\n",
      "[1] \"model: 746 inner fold: 6 outer fold: 10\"\n",
      "[1] \"model: 747 inner fold: 7 outer fold: 10\"\n",
      "[1] \"model: 748 inner fold: 8 outer fold: 10\"\n",
      "[1] \"model: 749 inner fold: 9 outer fold: 10\"\n",
      "[1] \"model: 750 inner fold: 10 outer fold: 10\"\n",
      "[1] \"model: 751 inner fold: 1 outer fold: 10\"\n",
      "[1] \"model: 752 inner fold: 2 outer fold: 10\"\n",
      "[1] \"model: 753 inner fold: 3 outer fold: 10\"\n",
      "[1] \"model: 754 inner fold: 4 outer fold: 10\"\n",
      "[1] \"model: 755 inner fold: 5 outer fold: 10\"\n",
      "[1] \"model: 756 inner fold: 6 outer fold: 10\"\n",
      "[1] \"model: 757 inner fold: 7 outer fold: 10\"\n",
      "[1] \"model: 758 inner fold: 8 outer fold: 10\"\n",
      "[1] \"model: 759 inner fold: 9 outer fold: 10\"\n",
      "[1] \"model: 760 inner fold: 10 outer fold: 10\"\n",
      "[1] \"model: 761 inner fold: 1 outer fold: 10\"\n",
      "[1] \"model: 762 inner fold: 2 outer fold: 10\"\n",
      "[1] \"model: 763 inner fold: 3 outer fold: 10\"\n",
      "[1] \"model: 764 inner fold: 4 outer fold: 10\"\n",
      "[1] \"model: 765 inner fold: 5 outer fold: 10\"\n",
      "[1] \"model: 766 inner fold: 6 outer fold: 10\"\n",
      "[1] \"model: 767 inner fold: 7 outer fold: 10\"\n",
      "[1] \"model: 768 inner fold: 8 outer fold: 10\"\n",
      "[1] \"model: 769 inner fold: 9 outer fold: 10\"\n",
      "[1] \"model: 770 inner fold: 10 outer fold: 10\"\n",
      "[1] \"model: 771 inner fold: 1 outer fold: 10\"\n",
      "[1] \"model: 772 inner fold: 2 outer fold: 10\"\n",
      "[1] \"model: 773 inner fold: 3 outer fold: 10\"\n",
      "[1] \"model: 774 inner fold: 4 outer fold: 10\"\n",
      "[1] \"model: 775 inner fold: 5 outer fold: 10\"\n",
      "[1] \"model: 776 inner fold: 6 outer fold: 10\"\n",
      "[1] \"model: 777 inner fold: 7 outer fold: 10\"\n",
      "[1] \"model: 778 inner fold: 8 outer fold: 10\"\n",
      "[1] \"model: 779 inner fold: 9 outer fold: 10\"\n",
      "[1] \"model: 780 inner fold: 10 outer fold: 10\"\n",
      "[1] \"model: 781 inner fold: 1 outer fold: 10\"\n",
      "[1] \"model: 782 inner fold: 2 outer fold: 10\"\n",
      "[1] \"model: 783 inner fold: 3 outer fold: 10\"\n",
      "[1] \"model: 784 inner fold: 4 outer fold: 10\"\n",
      "[1] \"model: 785 inner fold: 5 outer fold: 10\"\n",
      "[1] \"model: 786 inner fold: 6 outer fold: 10\"\n",
      "[1] \"model: 787 inner fold: 7 outer fold: 10\"\n",
      "[1] \"model: 788 inner fold: 8 outer fold: 10\"\n",
      "[1] \"model: 789 inner fold: 9 outer fold: 10\"\n",
      "[1] \"model: 790 inner fold: 10 outer fold: 10\"\n",
      "[1] \"model: 791 inner fold: 1 outer fold: 10\"\n",
      "[1] \"model: 792 inner fold: 2 outer fold: 10\"\n",
      "[1] \"model: 793 inner fold: 3 outer fold: 10\"\n",
      "[1] \"model: 794 inner fold: 4 outer fold: 10\"\n",
      "[1] \"model: 795 inner fold: 5 outer fold: 10\"\n",
      "[1] \"model: 796 inner fold: 6 outer fold: 10\"\n",
      "[1] \"model: 797 inner fold: 7 outer fold: 10\"\n",
      "[1] \"model: 798 inner fold: 8 outer fold: 10\"\n",
      "[1] \"model: 799 inner fold: 9 outer fold: 10\"\n",
      "[1] \"model: 800 inner fold: 10 outer fold: 10\"\n"
     ]
    },
    {
     "data": {
      "text/html": [
       "<table>\n",
       "<thead><tr><th></th><th scope=col>k</th><th scope=col>GE</th></tr></thead>\n",
       "<tbody>\n",
       "\t<tr><th scope=row>6</th><td>20  </td><td>0.06</td></tr>\n",
       "\t<tr><th scope=row>2</th><td> 5  </td><td>0.08</td></tr>\n",
       "\t<tr><th scope=row>3</th><td>30  </td><td>0.08</td></tr>\n",
       "\t<tr><th scope=row>4</th><td>40  </td><td>0.08</td></tr>\n",
       "\t<tr><th scope=row>10</th><td>30  </td><td>0.10</td></tr>\n",
       "\t<tr><th scope=row>7</th><td>10  </td><td>0.12</td></tr>\n",
       "\t<tr><th scope=row>8</th><td>20  </td><td>0.12</td></tr>\n",
       "\t<tr><th scope=row>9</th><td>20  </td><td>0.16</td></tr>\n",
       "\t<tr><th scope=row>5</th><td>10  </td><td>0.20</td></tr>\n",
       "\t<tr><th scope=row>1</th><td>10  </td><td>0.26</td></tr>\n",
       "</tbody>\n",
       "</table>\n"
      ],
      "text/latex": [
       "\\begin{tabular}{r|ll}\n",
       "  & k & GE\\\\\n",
       "\\hline\n",
       "\t6 & 20   & 0.06\\\\\n",
       "\t2 &  5   & 0.08\\\\\n",
       "\t3 & 30   & 0.08\\\\\n",
       "\t4 & 40   & 0.08\\\\\n",
       "\t10 & 30   & 0.10\\\\\n",
       "\t7 & 10   & 0.12\\\\\n",
       "\t8 & 20   & 0.12\\\\\n",
       "\t9 & 20   & 0.16\\\\\n",
       "\t5 & 10   & 0.20\\\\\n",
       "\t1 & 10   & 0.26\\\\\n",
       "\\end{tabular}\n"
      ],
      "text/markdown": [
       "\n",
       "| <!--/--> | k | GE | \n",
       "|---|---|---|---|---|---|---|---|---|---|\n",
       "| 6 | 20   | 0.06 | \n",
       "| 2 |  5   | 0.08 | \n",
       "| 3 | 30   | 0.08 | \n",
       "| 4 | 40   | 0.08 | \n",
       "| 10 | 30   | 0.10 | \n",
       "| 7 | 10   | 0.12 | \n",
       "| 8 | 20   | 0.12 | \n",
       "| 9 | 20   | 0.16 | \n",
       "| 5 | 10   | 0.20 | \n",
       "| 1 | 10   | 0.26 | \n",
       "\n",
       "\n"
      ],
      "text/plain": [
       "   k  GE  \n",
       "6  20 0.06\n",
       "2   5 0.08\n",
       "3  30 0.08\n",
       "4  40 0.08\n",
       "10 30 0.10\n",
       "7  10 0.12\n",
       "8  20 0.12\n",
       "9  20 0.16\n",
       "5  10 0.20\n",
       "1  10 0.26"
      ]
     },
     "metadata": {},
     "output_type": "display_data"
    }
   ],
   "source": [
    "# let's run it\n",
    "resultNR = selfNR(data = spiral, target = \"classes\", outerFolds = 10, innerFolds = 10,\n",
    "  kCandidates = c(1, 3, 5, 10, 20, 30, 40, 100), inform = TRUE)\n",
    "# order results by GE\n",
    "resultNR"
   ]
  },
  {
   "cell_type": "markdown",
   "metadata": {},
   "source": [
    "### Use only CV for Hyperparameter Selection:\n",
    "\n"
   ]
  },
  {
   "cell_type": "code",
   "execution_count": 79,
   "metadata": {},
   "outputs": [
    {
     "data": {
      "text/html": [
       "<table>\n",
       "<thead><tr><th></th><th scope=col>k</th><th scope=col>GE</th></tr></thead>\n",
       "<tbody>\n",
       "\t<tr><th scope=row>3</th><td>  5  </td><td>0.074</td></tr>\n",
       "\t<tr><th scope=row>4</th><td> 10  </td><td>0.076</td></tr>\n",
       "\t<tr><th scope=row>7</th><td> 40  </td><td>0.078</td></tr>\n",
       "\t<tr><th scope=row>5</th><td> 20  </td><td>0.080</td></tr>\n",
       "\t<tr><th scope=row>6</th><td> 30  </td><td>0.080</td></tr>\n",
       "\t<tr><th scope=row>1</th><td>  1  </td><td>0.102</td></tr>\n",
       "\t<tr><th scope=row>2</th><td>  3  </td><td>0.102</td></tr>\n",
       "\t<tr><th scope=row>8</th><td>100  </td><td>0.126</td></tr>\n",
       "</tbody>\n",
       "</table>\n"
      ],
      "text/latex": [
       "\\begin{tabular}{r|ll}\n",
       "  & k & GE\\\\\n",
       "\\hline\n",
       "\t3 &   5   & 0.074\\\\\n",
       "\t4 &  10   & 0.076\\\\\n",
       "\t7 &  40   & 0.078\\\\\n",
       "\t5 &  20   & 0.080\\\\\n",
       "\t6 &  30   & 0.080\\\\\n",
       "\t1 &   1   & 0.102\\\\\n",
       "\t2 &   3   & 0.102\\\\\n",
       "\t8 & 100   & 0.126\\\\\n",
       "\\end{tabular}\n"
      ],
      "text/markdown": [
       "\n",
       "| <!--/--> | k | GE | \n",
       "|---|---|---|---|---|---|---|---|\n",
       "| 3 |   5   | 0.074 | \n",
       "| 4 |  10   | 0.076 | \n",
       "| 7 |  40   | 0.078 | \n",
       "| 5 |  20   | 0.080 | \n",
       "| 6 |  30   | 0.080 | \n",
       "| 1 |   1   | 0.102 | \n",
       "| 2 |   3   | 0.102 | \n",
       "| 8 | 100   | 0.126 | \n",
       "\n",
       "\n"
      ],
      "text/plain": [
       "  k   GE   \n",
       "3   5 0.074\n",
       "4  10 0.076\n",
       "7  40 0.078\n",
       "5  20 0.080\n",
       "6  30 0.080\n",
       "1   1 0.102\n",
       "2   3 0.102\n",
       "8 100 0.126"
      ]
     },
     "metadata": {},
     "output_type": "display_data"
    }
   ],
   "source": [
    "tuneCV = function(data, target, folds, kCandidates) {\n",
    "  \n",
    "  candidatesGE = as.data.frame(matrix(data = 0, nrow = length(kCandidates), ncol = 2))\n",
    "  colnames(candidatesGE) = c(\"k\", \"GE\")\n",
    "\n",
    "  for (l in 1:length(kCandidates)) {\n",
    "    \n",
    "    candidatesGE[l, \"k\"] = kCandidates[l]\n",
    "    candidatesGE[l, \"GE\"] = selfCV(data = data, target = target, folds = folds, \n",
    "      k = kCandidates[l])$GE\n",
    "  }  \n",
    "  return(candidatesGE[order(candidatesGE$GE), ])\n",
    "}\n",
    "\n",
    "\n",
    "resultCV = tuneCV(data = spiral, target = \"classes\", folds = 10, kCandidates = c(1, 3, 5, 10, 20, 30, 40, 100))\n",
    "resultCV"
   ]
  },
  {
   "cell_type": "markdown",
   "metadata": {},
   "source": [
    "### Test the hyperparameters on completely unseen data\n",
    "\n",
    "Test the hyperparameters proposed by nested resampling and cross-validation on completely new data, that none of the two algorithms have seen before. Neat thing about the spiral data: we can simulate new data points whenever we want!\n",
    "\n",
    "What would we expect based on the lecture?\n",
    "\n",
    "An overly optimistic estimate for the perfect hyperparameter by simple CV (overtuning effect) and a more realistic estimate from the nested resampling algorithm. \n"
   ]
  },
  {
   "cell_type": "markdown",
   "metadata": {},
   "source": [
    "#### Nested Resampling Hyperparameter"
   ]
  },
  {
   "cell_type": "code",
   "execution_count": 80,
   "metadata": {},
   "outputs": [
    {
     "name": "stdout",
     "output_type": "stream",
     "text": [
      "[1] \"nested RS k = 20: 0.055 with NR GE estimate: 0.06\"\n"
     ]
    }
   ],
   "source": [
    "set.seed(1337)\n",
    "unseenSpiral = as.data.frame(mlbench.spirals(n = 200, sd = 0.1))\n",
    "\n",
    "task = makeClassifTask(data = spiral, target = \"classes\")\n",
    "learner = makeLearner(\"classif.kknn\", k = 20)\n",
    "model = train(learner = learner, task = task)\n",
    "print(paste0(\"nested RS k = 20: \", performance(predict(model, newdata = unseenSpiral), measures = mmce)[[1]], \n",
    "     \" with NR GE estimate: \", resultNR[1, 2]))\n"
   ]
  },
  {
   "cell_type": "markdown",
   "metadata": {},
   "source": [
    "#### Simple Cross-Validation Hyperparameter"
   ]
  },
  {
   "cell_type": "code",
   "execution_count": 81,
   "metadata": {},
   "outputs": [
    {
     "name": "stdout",
     "output_type": "stream",
     "text": [
      "[1] \"CV tuned k = 5: 0.085 with CV GE estimate: 0.074\"\n"
     ]
    }
   ],
   "source": [
    "set.seed(1337)\n",
    "unseenSpiral = as.data.frame(mlbench.spirals(n = 200, sd = 0.1))\n",
    "\n",
    "task = makeClassifTask(data = spiral, target = \"classes\")\n",
    "learner = makeLearner(\"classif.kknn\", k = 5)\n",
    "model = train(learner = learner, task = task)\n",
    "print(paste0(\"CV tuned k = 5: \", performance(predict(model, newdata = unseenSpiral), measures = mmce)[[1]], \n",
    "            \" with CV GE estimate: \",resultCV[1, 2]))\n"
   ]
  },
  {
   "cell_type": "markdown",
   "metadata": {},
   "source": [
    "# Problems:\n",
    "* results are very depending on the seed\n",
    "* CV from mlr delievers other results than the self implemented version\n",
    "* We want to show that CV is too optimistic concerning the estimation of the Generalization error. This does currently work for the k = 5 parameter (estimated GE: 0.074, real: 0.085) whereas the GE for the nested resampling k is similar to the performance on the totally unseen data. \n",
    "* Discuss how to choose the winning hyperparameter from the nested resampling output. They will ask, why k=20 yields errors of 0.06 and 0.12 and how to deal with that - we should be able to answer that question. \n",
    "\n"
   ]
  },
  {
   "cell_type": "markdown",
   "metadata": {},
   "source": [
    "### mlr implementation"
   ]
  },
  {
   "cell_type": "code",
   "execution_count": 25,
   "metadata": {},
   "outputs": [
    {
     "name": "stderr",
     "output_type": "stream",
     "text": [
      "[Tune] Started tuning learner classif.knn for parameter set:\n",
      "      Type len Def            Constr Req Tunable Trafo\n",
      "k discrete   -   - 1,3,5,10,20,30,40   -    TRUE     -\n",
      "With control class: TuneControlGrid\n",
      "Imputation value: 1\n",
      "[Tune-x] 1: k=1\n",
      "[Tune-y] 1: mmce.test.mean=0.1000000; time: 0.0 min\n",
      "[Tune-x] 2: k=3\n",
      "[Tune-y] 2: mmce.test.mean=0.0860000; time: 0.0 min\n",
      "[Tune-x] 3: k=5\n",
      "[Tune-y] 3: mmce.test.mean=0.0840000; time: 0.0 min\n",
      "[Tune-x] 4: k=10\n",
      "[Tune-y] 4: mmce.test.mean=0.0780000; time: 0.0 min\n",
      "[Tune-x] 5: k=20\n",
      "[Tune-y] 5: mmce.test.mean=0.0720000; time: 0.0 min\n",
      "[Tune-x] 6: k=30\n",
      "[Tune-y] 6: mmce.test.mean=0.0820000; time: 0.0 min\n",
      "[Tune-x] 7: k=40\n",
      "[Tune-y] 7: mmce.test.mean=0.0980000; time: 0.0 min\n",
      "[Tune] Result: k=20 : mmce.test.mean=0.0720000\n"
     ]
    }
   ],
   "source": [
    "ps = makeParamSet(\n",
    "  makeDiscreteParam(\"k\", values = c(1, 3, 5, 10, 20, 30, 40))\n",
    ")\n",
    "\n",
    "ctrl = makeTuneControlGrid()\n",
    "rdesc = makeResampleDesc(\"CV\", iters = 10L)\n",
    "task = makeClassifTask(data = spiral, target = \"classes\")\n",
    "res = tuneParams(\"classif.knn\", task = task, resampling = rdesc,\n",
    "  par.set = ps, control = ctrl)\n"
   ]
  },
  {
   "cell_type": "code",
   "execution_count": null,
   "metadata": {
    "collapsed": true
   },
   "outputs": [],
   "source": []
  }
 ],
 "metadata": {
  "kernelspec": {
   "display_name": "R",
   "language": "R",
   "name": "ir"
  },
  "language_info": {
   "codemirror_mode": "r",
   "file_extension": ".r",
   "mimetype": "text/x-r-source",
   "name": "R",
   "pygments_lexer": "r",
   "version": "3.3.3"
  }
 },
 "nbformat": 4,
 "nbformat_minor": 2
}
