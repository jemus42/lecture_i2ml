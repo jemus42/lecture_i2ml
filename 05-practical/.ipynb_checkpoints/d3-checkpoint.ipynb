{
 "cells": [
  {
   "cell_type": "markdown",
   "metadata": {},
   "source": [
    "# 3rd Notebook for Machine Learning Intro Lecture"
   ]
  },
  {
   "cell_type": "markdown",
   "metadata": {},
   "source": [
    "## 1. Performance Estimation\n",
    "\n",
    "- show overfitting with practical data set\n",
    "- explain early stopping with validation data as strategy to overcome overfitting?\n",
    "- the good, the bad, the ugly from [Lars Kotthof](http://www.cs.uwyo.edu/%7Elarsko/ml-fac/)\n",
    "\n"
   ]
  },
  {
   "cell_type": "markdown",
   "metadata": {},
   "source": [
    "## 2. Resampling \n",
    "- hard code CV-algorithm\n",
    "- compare with mlr's inmplementation\n",
    "- FCIM exercise mlr_a_2.Rnw on small benchmark study\n",
    "\n"
   ]
  },
  {
   "cell_type": "markdown",
   "metadata": {
    "collapsed": true
   },
   "source": [
    "## 3. Nested Resampling \n",
    "- Update hard-coded algrithm from part2\n",
    "- show example for overtuning.\n",
    "    - 1) tune with nested resampling\n",
    "    - 2) tune without - overtuning\n",
    "    - -> test performance on super external test data set\n",
    "- tuning_a_1.Rnw from FCIM for tuning \n",
    "   "
   ]
  },
  {
   "cell_type": "markdown",
   "metadata": {
    "collapsed": true
   },
   "source": [
    "## 4. Confusion matrices, ROC etc.\n",
    "\n"
   ]
  }
 ],
 "metadata": {
  "kernelspec": {
   "display_name": "R",
   "language": "R",
   "name": "ir"
  },
  "language_info": {
   "codemirror_mode": "r",
   "file_extension": ".r",
   "mimetype": "text/x-r-source",
   "name": "R",
   "pygments_lexer": "r",
   "version": "3.4.3"
  }
 },
 "nbformat": 4,
 "nbformat_minor": 2
}
