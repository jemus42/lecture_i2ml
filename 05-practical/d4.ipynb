{
 "cells": [
  {
   "cell_type": "markdown",
   "metadata": {},
   "source": [
    "# 4th Notebook for Machine Learning Intro Lecture"
   ]
  },
  {
   "cell_type": "markdown",
   "metadata": {},
   "source": [
    "## 1. CARTs\n",
    "\n",
    "- hard-implement tree (jann got old code for that !?)\n",
    "- visualize as crazy\n"
   ]
  },
  {
   "cell_type": "markdown",
   "metadata": {},
   "source": [
    "## 2. CARTs cont'd\n",
    "- compare different implementations (c4.5, party, rpart) with pros and cons\n",
    "- fit 500 trees with different seeds on data split and check out variance of performance - transition to random forests. There is an exercise like that in the FCIM slides! Really sweet for understanding!\n",
    "\n"
   ]
  },
  {
   "cell_type": "markdown",
   "metadata": {
    "collapsed": true
   },
   "source": [
    "## 3. Random Forests \n",
    "- plot oob error curves\n",
    "   "
   ]
  },
  {
   "cell_type": "markdown",
   "metadata": {
    "collapsed": true
   },
   "source": [
    "## 4. Random Forests cont'd\n",
    "- interpretation: varimps\n",
    "- include conditional varimps by carolin strobl et al\n",
    "- test and visualize on different data sets\n",
    "- do variable selection with varimp, refit with reduced feature set and check performance differences (fit time, generalization etc.)\n",
    "\n"
   ]
  }
 ],
 "metadata": {
  "kernelspec": {
   "display_name": "R",
   "language": "R",
   "name": "ir"
  },
  "language_info": {
   "codemirror_mode": "r",
   "file_extension": ".r",
   "mimetype": "text/x-r-source",
   "name": "R",
   "pygments_lexer": "r",
   "version": "3.4.3"
  }
 },
 "nbformat": 4,
 "nbformat_minor": 2
}
