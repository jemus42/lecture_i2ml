{
 "cells": [
  {
   "cell_type": "markdown",
   "metadata": {},
   "source": [
    "# 5th Notebook for Machine Learning Intro Lecture"
   ]
  },
  {
   "cell_type": "markdown",
   "metadata": {},
   "source": [
    "## Do's and Dont's\n",
    "\n",
    "- feature engineering\n",
    "- parallelisation\n",
    "- tuning with mlr (grid, random, mbo outlook)\n",
    "- small kaggle challenge (steal Diabetes-Challenge from Innolab)\n",
    "- Outlook on additional algorithms and reading material for interested students (XGBoost, Catboost, SVMs, Regularized estimators, ...)"
   ]
  }
 ],
 "metadata": {
  "kernelspec": {
   "display_name": "R",
   "language": "R",
   "name": "ir"
  },
  "language_info": {
   "codemirror_mode": "r",
   "file_extension": ".r",
   "mimetype": "text/x-r-source",
   "name": "R",
   "pygments_lexer": "r",
   "version": "3.4.3"
  }
 },
 "nbformat": 4,
 "nbformat_minor": 2
}
