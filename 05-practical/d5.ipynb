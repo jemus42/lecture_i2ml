{
 "cells": [
  {
   "cell_type": "markdown",
   "metadata": {},
   "source": [
    "# 5th Notebook for Machine Learning Intro Lecture"
   ]
  },
  {
   "cell_type": "markdown",
   "metadata": {},
   "source": [
    "## Do's and Dont's\n",
    "\n",
    "- feature engineering\n",
    "- parallelisation\n",
    "- tuning with mlr (grid, random, mbo outlook)\n",
    "- small kaggle challenge (steal Diabetes-Challenge from Innolab)\n",
    "- Outlook on additional algorithms and reading material for interested students (XGBoost, Catboost, SVMs, Regularized estimators, ...)"
   ]
  },
  {
   "cell_type": "markdown",
   "metadata": {},
   "source": [
    "[Lars Kotthof's](http://www.cs.uwyo.edu/%7Elarsko/ml-fac/05-input-exercises.pdf) exercices on over-/ undersampling and missing data imputation, very nice\n"
   ]
  },
  {
   "cell_type": "markdown",
   "metadata": {},
   "source": [
    "His [chapter on feature engineering](http://www.cs.uwyo.edu/%7Elarsko/ml-fac/06-features-exercises.pdf) is also nice"
   ]
  }
 ],
 "metadata": {
  "kernelspec": {
   "display_name": "R",
   "language": "R",
   "name": "ir"
  },
  "language_info": {
   "codemirror_mode": "r",
   "file_extension": ".r",
   "mimetype": "text/x-r-source",
   "name": "R",
   "pygments_lexer": "r",
   "version": "3.4.3"
  }
 },
 "nbformat": 4,
 "nbformat_minor": 2
}
