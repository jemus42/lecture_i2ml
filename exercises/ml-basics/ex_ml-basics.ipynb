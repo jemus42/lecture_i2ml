{
 "cells": [
  {
   "cell_type": "markdown",
   "id": "723fb7e6",
   "metadata": {},
   "source": [
    "***\n",
    "**Introduction to Machine Learning** <br>\n",
    "__[https://slds-lmu.github.io/i2ml/](https://slds-lmu.github.io/i2ml/)__\n",
    "***"
   ]
  },
  {
   "cell_type": "markdown",
   "id": "ed3d899d",
   "metadata": {},
   "source": [
    "# Exercise sheet 1: ML Basics"
   ]
  },
  {
   "cell_type": "markdown",
   "id": "c0a9c133",
   "metadata": {},
   "source": [
    "## Exercise 1: Car Price Prediction"
   ]
  },
  {
   "cell_type": "markdown",
   "id": "4e5c5ecb",
   "metadata": {},
   "source": [
    "Imagine you work at a second-hand car dealer and are tasked with finding for-sale vehicles your company can\n",
    "acquire at a reasonable price. You decide to address this challenge in a data-driven manner and develop a model\n",
    "that predicts adequate market prices (in EUR) from vehicles’ properties."
   ]
  },
  {
   "cell_type": "markdown",
   "id": "2767357a",
   "metadata": {},
   "source": [
    "> a) Characterize the task at hand: supervised or unsupervised? Regression or classification? Learning to explain or learning to predict? Justify your answers.\n",
    "\n",
    "> **\\# Entering your answer here:**"
   ]
  },
  {
   "cell_type": "markdown",
   "id": "3dcd4a9e",
   "metadata": {},
   "source": [
    "> b) How would you set up your data? Name potential features along with their respective data type and state the target variable.\n",
    "\n",
    "> **\\# Entering your answer here:**"
   ]
  },
  {
   "cell_type": "markdown",
   "id": "2f974a3a",
   "metadata": {},
   "source": [
    "> c) Assume now that you have data on vehicles’ age (days), mileage (km), and price (EUR). Explicitly define the feature space $\\mathcal{X}$ and target space $\\mathcal{Y}$.\n",
    "\n",
    "> **\\# Entering your answer here:**"
   ]
  },
  {
   "cell_type": "markdown",
   "id": "94e55e72",
   "metadata": {},
   "source": [
    "> d) You choose to use a linear model (LM) for this task. For this, you assume the targets to be conditionally\n",
    "independent given the features, i.e., $y^{(i)} | \\mathbf{x}^{(i)} \\in y^{(j)} | \\mathbf{x}^{(j)}$ for all $i, j \\in \\{1, 2, . . . , n\\}, \\; i \\not= j$, with sample size $n$. The\n",
    "LM models the target as a linear function of the features with Gaussian error term: $\\mathbf{y} = \\mathbf{X \\theta} + \\epsilon, \\; \\epsilon \\sim N(0, diag(\\sigma^2)), \\, \\sigma > 0$.<br>\n",
    "State the hypothesis space for the corresponding model class. For this, assume the parameter vector θ to include\n",
    "the intercept coefficient.\n",
    "\n",
    "> **\\# Entering your answer here:**"
   ]
  },
  {
   "cell_type": "markdown",
   "id": "92350015",
   "metadata": {},
   "source": [
    "> e) Which parameters need to be learned? Define the corresponding parameter space $\\Theta$.\n",
    "\n",
    "> **\\# Entering your answer here:**"
   ]
  },
  {
   "cell_type": "markdown",
   "id": "fb56e7d8",
   "metadata": {},
   "source": [
    "> f) State the loss function for the $i$-th observation using $\\textit{L2}$ loss.\n",
    "\n",
    "> **\\# Entering your answer here:**"
   ]
  },
  {
   "cell_type": "markdown",
   "id": "0ccf5f3b",
   "metadata": {},
   "source": [
    "> g) In classical statistics, you would estimate the parameters via maximum likelihood estimation (MLE). The likelihood for the LM is given by:\n",
    "$$\\mathcal{L}(\\mathbf{\\theta} | \\mathbf{x}) = \\prod_{i = 1}^n \\frac{1}{\\sqrt{2 \\pi \\sigma^2}} \\exp \\left( -\\frac{1}{2 \\sigma^2} \\left( y^{(i)} - \\mathbf{\\theta^T} \\mathbf{x}^{(i)} \\right)^2 \\right)$$\n",
    "Describe how you can make use of the likelihood in empirical risk minimization (ERM) and write down the\n",
    "resulting empirical risk.\n",
    "\n",
    "> **\\# Entering your answer here:**"
   ]
  },
  {
   "cell_type": "markdown",
   "id": "29a19d4e",
   "metadata": {},
   "source": [
    "> h) Now you need to optimize this risk to find the best parameters, and hence the best model, via empirical risk minimization. State the optimization problem formally and list the necessary steps to solve it.\n",
    "\n",
    "> **\\# Entering your answer here:**"
   ]
  },
  {
   "cell_type": "markdown",
   "id": "2123d6f6",
   "metadata": {},
   "source": [
    "Congratulations, you just designed your first machine learning project!"
   ]
  }
 ],
 "metadata": {
  "kernelspec": {
   "display_name": "python-i2ml",
   "language": "python",
   "name": "python-i2ml"
  },
  "language_info": {
   "codemirror_mode": {
    "name": "ipython",
    "version": 3
   },
   "file_extension": ".py",
   "mimetype": "text/x-python",
   "name": "python",
   "nbconvert_exporter": "python",
   "pygments_lexer": "ipython3",
   "version": "3.10.12"
  }
 },
 "nbformat": 4,
 "nbformat_minor": 5
}
