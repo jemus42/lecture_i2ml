{
 "cells": [
  {
   "cell_type": "markdown",
   "id": "da9b2c55",
   "metadata": {},
   "source": [
    "***\n",
    "**Introduction to Machine Learning** <br>\n",
    "__[https://slds-lmu.github.io/i2ml/](https://slds-lmu.github.io/i2ml/)__\n",
    "***"
   ]
  },
  {
   "cell_type": "markdown",
   "id": "c7d3ceb9",
   "metadata": {},
   "source": [
    "# Exercise sheet: 12 Nested Resampling"
   ]
  },
  {
   "cell_type": "markdown",
   "id": "42476b62",
   "metadata": {},
   "source": [
    "## Exercise 1: Tuning Principles"
   ]
  },
  {
   "cell_type": "markdown",
   "id": "4037c5d8",
   "metadata": {},
   "source": [
    "> a) Suppose that we want to compare four different learners:"
   ]
  },
  {
   "cell_type": "markdown",
   "id": "cdf6229b",
   "metadata": {},
   "source": [
    "| Learner | Tuning required |\n",
    "| --- | --- |\n",
    "| Logistic regression (`lm`) | no | \n",
    "| CART (`rpart`) | yes | \n",
    "| $k$-NN (`kknn`) | yes | \n",
    "| LDA (`lda`) | no | "
   ]
  },
  {
   "cell_type": "markdown",
   "id": "dbc32ca2",
   "metadata": {},
   "source": [
    "> For performance evaluation and subsequent comparison, we use $10$-CV as outer resampling strategy. Within the\n",
    "inner tuning loop, applicable to CART and $k$-NN, we use $5$-CV in combination with random search, drawing\n",
    "$200$ hyperparameter configurations for each model. Our measure of interest is the AUC. <br>\n",
    ">> (i) How many models need to be fitted in total to conduct the final benchmark? <br>\n",
    ">> (ii) Giving the following benchmark result, which learner performs best? Explain your decision."
   ]
  },
  {
   "attachments": {
    "unnamed-chunk-3-1-1.png": {
     "image/png": "[encoded data removed]"
    }
   },
   "cell_type": "markdown",
   "id": "bf445ffb",
   "metadata": {},
   "source": [
    "![unnamed-chunk-3-1-1.png](attachment:unnamed-chunk-3-1-1.png)\n",
    "\n",
    "> **\\# Entering your answer here:**"
   ]
  },
  {
   "cell_type": "markdown",
   "id": "b8ea785b",
   "metadata": {},
   "source": [
    "> b) Recap briefly what is meant by the *bias-variance trade-off* in resampling.\n",
    "\n",
    "> **\\# Entering your answer here:**"
   ]
  },
  {
   "cell_type": "markdown",
   "id": "35a883fa",
   "metadata": {},
   "source": [
    "> c) Are the following statements true or not? Explain your answer in one sentence. <br>\n",
    ">> (i) The bias of the generalization error estimate for $3$-CV is higher than for $10$-CV. <br>\n",
    ">> (ii) Every outer loss can also be used as inner loss, assuming standard gradient-based optimization.\n",
    "\n",
    "> **\\# Entering your answer here:**"
   ]
  },
  {
   "cell_type": "markdown",
   "id": "924fd462",
   "metadata": {},
   "source": [
    "## Exercise 2: AutoML\n"
   ]
  },
  {
   "cell_type": "markdown",
   "id": "400a3d27",
   "metadata": {},
   "source": [
    "In this exercise, we build a simple automated machine learning (AutoML) system that will make data-driven\n",
    "choices on which learner/estimator to use and also conduct the necessary tuning."
   ]
  },
  {
   "cell_type": "markdown",
   "id": "0c9779b7",
   "metadata": {},
   "source": [
    "### `R` Exercise:"
   ]
  },
  {
   "cell_type": "markdown",
   "id": "8e90f0b7",
   "metadata": {},
   "source": [
    "`mlr3pipelines` make this endeavor easy, modular and guarded against many common modeling errors. <br>\n",
    "We work on the `pima` data to classify patients as diabetic and design a system that is able to choose between $k$-NN\n",
    "and a random forest, both with tuned hyperparameters. <br>\n",
    "To this end, we will use a graph learner, a ”single unit of data operation” that can be trained, resampled, evaluated,\n",
    ". . . as a whole – in other words, treated as any other learner."
   ]
  },
  {
   "cell_type": "markdown",
   "id": "4c579775",
   "metadata": {},
   "source": [
    "> a) Create a task object in `mlr3` (the problem is pre-specified under the ID ”pima”)."
   ]
  },
  {
   "cell_type": "code",
   "execution_count": null,
   "id": "4905507a",
   "metadata": {},
   "outputs": [],
   "source": [
    "# Entering your code here:"
   ]
  },
  {
   "cell_type": "markdown",
   "id": "5c75dade",
   "metadata": {},
   "source": [
    "> b) Specify the above learners, where you need to give each learner a name as input to the `id` argument. Convert\n",
    "each learner to a pipe operator by wrapping them in the sugar function `po()`, and store them in a list."
   ]
  },
  {
   "cell_type": "code",
   "execution_count": null,
   "id": "18e82616",
   "metadata": {},
   "outputs": [],
   "source": [
    "# Entering your code here:"
   ]
  },
  {
   "cell_type": "markdown",
   "id": "54d102d2",
   "metadata": {},
   "source": [
    "> c) Before starting the actual learning pipeline, take care of pre-processing. While this step is highly customizable,\n",
    "you can use an existing sequence to impute missing values, encode categorical features, and remove variables\n",
    "with constant value across all observations. For this, specify a pipeline (`ppl()`) of type \"`robustify`\" (setting\n",
    "`factors_to_numeric` to `TRUE`)."
   ]
  },
  {
   "cell_type": "code",
   "execution_count": null,
   "id": "a4e5263f",
   "metadata": {},
   "outputs": [],
   "source": [
    "# Entering your code here:"
   ]
  },
  {
   "cell_type": "markdown",
   "id": "35fb4027",
   "metadata": {},
   "source": [
    "> d) Create another `ppl`, of type \"`branch`\" this time, to enable selection between your learners."
   ]
  },
  {
   "cell_type": "code",
   "execution_count": null,
   "id": "f4fcc95e",
   "metadata": {},
   "outputs": [],
   "source": [
    "# Entering your code here:"
   ]
  },
  {
   "cell_type": "markdown",
   "id": "b5e22028",
   "metadata": {},
   "source": [
    "> e) Chain both pipelines using the double pipe and plot the resulting graph. Next, convert it into a graph learner\n",
    "with `as_learner()`."
   ]
  },
  {
   "cell_type": "code",
   "execution_count": null,
   "id": "ea574d5d",
   "metadata": {},
   "outputs": [],
   "source": [
    "# Entering your code here:"
   ]
  },
  {
   "cell_type": "markdown",
   "id": "71df2252",
   "metadata": {},
   "source": [
    "> f) Now you have a learner object just like any other. Take a look at its tunable hyperparameters. You will optimize\n",
    "the learner selection, the number of neighbors in $k$-NN (between $3$ and $10$), and the number of split candidates\n",
    "to try in the random forest (between $1$ and $5$). Define the search range for each like so:"
   ]
  },
  {
   "cell_type": "markdown",
   "id": "c0cc3169",
   "metadata": {},
   "source": [
    "<learner>$param_set$values$<hyperparameter> <- to_tune(p_int(lower, upper))"
   ]
  },
  {
   "cell_type": "markdown",
   "id": "1d392f68",
   "metadata": {},
   "source": [
    "> `p_int` marks an integer hyperparameter with lower and upper bounds as defined; similar objects exist for other\n",
    "data types. With `to_tune()`, you signal that the hyperparameter shall be optimized in the given range."
   ]
  },
  {
   "cell_type": "markdown",
   "id": "00d01f18",
   "metadata": {},
   "source": [
    "<div class=\"alert alert-block alert-info\">\n",
    "    <b>Hint:</b>  You need to define dependencies, since the tuning process is defined by which learner is selected in the\n",
    "first place (no need to tune $k$ in a random forest).<br>\n",
    "</div>"
   ]
  },
  {
   "cell_type": "code",
   "execution_count": null,
   "id": "5b4195d5",
   "metadata": {},
   "outputs": [],
   "source": [
    "# Entering your code here:"
   ]
  },
  {
   "cell_type": "markdown",
   "id": "59aaf596",
   "metadata": {},
   "source": [
    "> g) Conveniently, there is a sugar function, `tune_nested()`, that takes care of nested resampling in one step. Use\n",
    "it to evaluate your tuned graph learner with\n",
    "> - mean classification error as inner loss,\n",
    "> - random search as tuning algorithm (allowing for $3$ evaluations), and\n",
    "> - $3$-CV in both inner and outer loop."
   ]
  },
  {
   "cell_type": "code",
   "execution_count": null,
   "id": "134ed37a",
   "metadata": {},
   "outputs": [],
   "source": [
    "# Entering your code here:"
   ]
  },
  {
   "cell_type": "markdown",
   "id": "e4c180fc",
   "metadata": {},
   "source": [
    "> h) Lastly, extract performance estimates per outer fold (`score()`) and overall (`aggregate()`). If you want to risk\n",
    "a look under the hood, try `extract_inner_tuning_archives()`.\n"
   ]
  },
  {
   "cell_type": "code",
   "execution_count": null,
   "id": "6ae37939",
   "metadata": {},
   "outputs": [],
   "source": [
    "# Entering your code here:"
   ]
  },
  {
   "cell_type": "markdown",
   "id": "512dfd1d",
   "metadata": {},
   "source": [
    "### `Python` Exercise:"
   ]
  },
  {
   "cell_type": "markdown",
   "id": "05cb35cd",
   "metadata": {},
   "source": [
    "`sklearn.pipeline.Pipeline` makes this endeavor easy, modular and guarded against many common modeling\n",
    "errors. <br>\n",
    "We work on the [`pima`](https://github.com/slds-lmu/lecture_i2ml/blob/master/exercises/data/pima.csv) data to classify patients as diabetic and design a system that is able to choose between $k$-NN\n",
    "and a random forest, both with tuned hyperparameters. <br>\n",
    "The purpose of the pipeline is to assemble several steps of transformation and a final estimator that can be crossvalidated together while setting different parameters. So to speak, the pipeline estimator can be treated as any\n",
    "other estimator."
   ]
  },
  {
   "cell_type": "markdown",
   "id": "61f8141e",
   "metadata": {},
   "source": [
    "> a) Load the data set [`pima`](https://github.com/slds-lmu/lecture_i2ml/blob/master/exercises/data/pima.csv), encode the target \"`diabetes`\" as $0$-$1$-vector and perform a stratified `train_test_split`."
   ]
  },
  {
   "cell_type": "code",
   "execution_count": null,
   "id": "0fc584df",
   "metadata": {},
   "outputs": [],
   "source": [
    "# Entering your code here:"
   ]
  },
  {
   "cell_type": "markdown",
   "id": "9fe876b7",
   "metadata": {},
   "source": [
    "> b) As part of our modeling process, we want to perform certain preprocessing steps. While this step is highly\n",
    "customizable, we want to include at least One-Hot-Encoding of categorical features, and imputing of missing\n",
    "values. <br>\n",
    "Instance a `ColumnTransformer` object and include these two steps for a dynamic choice of columns."
   ]
  },
  {
   "cell_type": "markdown",
   "id": "8d2af67e",
   "metadata": {},
   "source": [
    "<div class=\"alert alert-block alert-info\">\n",
    "    <b>Hint:</b>   Strings are considered as <code>dtype = object</code> <br>\n",
    "</div>"
   ]
  },
  {
   "cell_type": "code",
   "execution_count": null,
   "id": "b869f216",
   "metadata": {},
   "outputs": [],
   "source": [
    "# Entering your code here:"
   ]
  },
  {
   "cell_type": "markdown",
   "id": "ae0748ad",
   "metadata": {},
   "source": [
    "> c) Next, both pipelines for the $k$-NN and random forest are created. Like this you can create estimators with highly\n",
    "individual preprocessing steps. Include the previously created `ColumnTransformer`, a `VarianceThreshold` to\n",
    "remove constant columns and the corresponding estimator as a final step. Additionally, scale the columns for\n",
    "the $k$-NN estimator."
   ]
  },
  {
   "cell_type": "code",
   "execution_count": null,
   "id": "b760f91c",
   "metadata": {},
   "outputs": [],
   "source": [
    "# Entering your code here:"
   ]
  },
  {
   "cell_type": "markdown",
   "id": "e2e61271",
   "metadata": {},
   "source": [
    "> d) A very common ensembling technique is to predict according to the decisions of numerous estimators. This is\n",
    "refered to as `VotingClassifier` and enables you to predict the class label based on the argmax of the sums\n",
    "of the predicted probabilities. Instanciate a `VotingClassifier` with the two classifier pipelines for $k$-NN and\n",
    "random forest."
   ]
  },
  {
   "cell_type": "markdown",
   "id": "6c500006",
   "metadata": {},
   "source": [
    "<div class=\"alert alert-block alert-info\">\n",
    "    <b>Hint:</b> set the parameters `<code>voting = \"soft\"</code> and <code>n_jobs = -1</code> for parallel computation. <br>\n",
    "</div>"
   ]
  },
  {
   "cell_type": "code",
   "execution_count": null,
   "id": "e863222b",
   "metadata": {},
   "outputs": [],
   "source": [
    "# Entering your code here:"
   ]
  },
  {
   "cell_type": "markdown",
   "id": "40fa7652",
   "metadata": {},
   "source": [
    "> e) Now you have an estimator object just like any other. Take a look at its tunable hyperparameters. You will\n",
    "optimize the number of neighbors in $k$-NN (between $3$ and $10$), and the number of split candidates to try in the\n",
    "random forest (between $1$ and $5$). Define the search range for each like so:"
   ]
  },
  {
   "cell_type": "code",
   "execution_count": null,
   "id": "52a0ad2d",
   "metadata": {},
   "outputs": [],
   "source": [
    "param_grid_voting = [{\"<voting_estimator1>__<pipelie1_estimator>__<hyperparameter>\":\n",
    "                        list(<parameter_range>)},\n",
    "                    {\"<voting_estimator2>__<pipelie2_estimator>__<hyperparameter>\":\n",
    "                        list(<parameter_range>)}]"
   ]
  },
  {
   "cell_type": "markdown",
   "id": "e1e8b388",
   "metadata": {},
   "source": [
    "> Please note, that the estimator names should be on par with the labels given in the `VotingClassifier`, the\n",
    "`Pipeline` and, of course, the hyperparameter of the used estimator in the pipeline. Each level of hyperparameters of our created ensemble estimator is accessable through the seperation ”__” (double underscore)."
   ]
  },
  {
   "cell_type": "code",
   "execution_count": null,
   "id": "c2b503e4",
   "metadata": {},
   "outputs": [],
   "source": [
    "# Entering your code here:"
   ]
  },
  {
   "cell_type": "markdown",
   "id": "b6ac9d7c",
   "metadata": {},
   "source": [
    "> f) Nested Resampling is a method to avoid the so called *optimization bias* by tuning parameters and evaluation\n",
    "performance on different subsets of your training data. Use\n",
    "> - Stratified $3$-CV in both inner and outer loop.\n",
    "> - accuracy as inner performance measure,\n",
    "> - grid search as tuning algorithm. <br>\n",
    "\n",
    "> You may use the following, incomplete code to compute the nested resampling:"
   ]
  },
  {
   "cell_type": "code",
   "execution_count": null,
   "id": "69aa21eb",
   "metadata": {},
   "outputs": [],
   "source": [
    "NUM_OUTER_FOLDS = <...>\n",
    "nested_scores_voting = np.zeros(NUM_OUTER_FOLDS) # initalize scores with 0\n",
    "# Choose cross-validation techniques for the inner and outer loops,\n",
    "# independently of the dataset.\n",
    "# E.g \"GroupKFold\", \"LeaveOneOut\", \"LeaveOneGroupOut\", etc.\n",
    "inner_cv = <...>(n_splits=<...>, shuffle=True, random_state=42)\n",
    "outer_cv = <...>(n_splits=<...>, shuffle=True, random_state=42)\n",
    "\n",
    "for i, (train_index, val_index) in enumerate(outer_cv.split(X_train, y_train)):\n",
    "    # Nested CV with parameter optimization for ensemble pipeline\n",
    "    clf_gs_voting = <...>(\n",
    "        estimator=<...>,\n",
    "        param_grid=<...>,\n",
    "        cv=<...>,\n",
    "        n_jobs=-1\n",
    "    )\n",
    "    clf_gs_voting.fit(X_train.iloc[<...>], y_train[<...>])\n",
    "    nested_scores_voting[i] = clf_gs_voting.score(X_train.iloc[<...>], y_train[<...>])\n"
   ]
  },
  {
   "cell_type": "code",
   "execution_count": null,
   "id": "06f937bc",
   "metadata": {},
   "outputs": [],
   "source": [
    "# Entering your code here:"
   ]
  },
  {
   "cell_type": "markdown",
   "id": "5752c811",
   "metadata": {},
   "source": [
    "> g) Extract performance estimates per outer fold and overall (as mean). According to your results, determin the\n",
    "best classifier object.\n"
   ]
  },
  {
   "cell_type": "code",
   "execution_count": null,
   "id": "e935c615",
   "metadata": {},
   "outputs": [],
   "source": [
    "# Entering your code here:"
   ]
  },
  {
   "cell_type": "markdown",
   "id": "8a48af35",
   "metadata": {},
   "source": [
    "> h) Lastly, evaluate the performance on the test set. Think about the imbalance of your data set and how this is\n",
    "affecting the performance measurement accuracy. Try to find a better metric and compare these two."
   ]
  },
  {
   "cell_type": "code",
   "execution_count": null,
   "id": "56c08603",
   "metadata": {},
   "outputs": [],
   "source": [
    "# Entering your code here:"
   ]
  },
  {
   "cell_type": "markdown",
   "id": "5f404d95",
   "metadata": {},
   "source": [
    "Congrats, you just designed a turn-key AutoML system that does (nearly) all the work with a few lines of code!"
   ]
  },
  {
   "cell_type": "markdown",
   "id": "f81b4095",
   "metadata": {},
   "source": [
    "## Exercise 3: Kaggle Challeng"
   ]
  },
  {
   "cell_type": "markdown",
   "id": "0f20a4ad",
   "metadata": {},
   "source": [
    "Make yourself familiar with the Titanic Kaggle challenge [https://www.kaggle.com/c/titanic](https://www.kaggle.com/c/titanic). <br>\n",
    "Based on everything you have learned in this course, do your best to achieve a good performance in the survival\n",
    "challenge.\n",
    "- Try out different classifiers you have encountered during the course (or maybe even something new?)\n",
    "- Improve the prediction by creating new features (feature engineering).\n",
    "- Tune your parameters (see: https://mlr3book.mlr-org.com/tuning.html or https://scikit-learn.org/stable/modules/grid_search.html).\n",
    "- How do you fare compared to the public leaderboard?\n"
   ]
  },
  {
   "cell_type": "markdown",
   "id": "31619c91",
   "metadata": {},
   "source": [
    "<div class=\"alert alert-block alert-info\">\n",
    "    <b> <code>mlr3</code> Hint:</b> Use the <code>titanic</code> package to directly access the data. Use <code>titanic::titanic_train</code> for training and <code>titanic::titanic_test</code> for your final prediction. <br>\n",
    "</div>"
   ]
  },
  {
   "cell_type": "code",
   "execution_count": null,
   "id": "da7b973c",
   "metadata": {},
   "outputs": [],
   "source": [
    "# Entering your code here:"
   ]
  }
 ],
 "metadata": {
  "kernelspec": {
   "display_name": "python-i2ml",
   "language": "python",
   "name": "python-i2ml"
  },
  "language_info": {
   "codemirror_mode": {
    "name": "ipython",
    "version": 3
   },
   "file_extension": ".py",
   "mimetype": "text/x-python",
   "name": "python",
   "nbconvert_exporter": "python",
   "pygments_lexer": "ipython3",
   "version": "3.10.12"
  }
 },
 "nbformat": 4,
 "nbformat_minor": 5
}
