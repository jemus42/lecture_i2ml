{
 "cells": [
  {
   "cell_type": "markdown",
   "id": "53329df4",
   "metadata": {},
   "source": [
    "***\n",
    "**Introduction to Machine Learning** <br>\n",
    "__[https://slds-lmu.github.io/i2ml/](https://slds-lmu.github.io/i2ml/)__\n",
    "***"
   ]
  },
  {
   "cell_type": "markdown",
   "id": "56e690c1",
   "metadata": {},
   "source": [
    "# Exercise sheet 6: Evaluation 2"
   ]
  },
  {
   "cell_type": "markdown",
   "id": "89904408",
   "metadata": {},
   "source": [
    "## Exercise 1: Overfitting & underfitting\n"
   ]
  },
  {
   "cell_type": "markdown",
   "id": "af2e4a31",
   "metadata": {},
   "source": [
    "Assume a polynomial regression model with a continuous target variable $y$ and a continuous, p-dimensional feature\n",
    "vector $x$ and polynomials of degree d, i.e.,\n",
    "$$\n",
    "f \\left( \\mathbf{x}^{(i)} \\right) = \\sum_{j=1}^p \\sum_{k=0}^d \\theta_{j,k} \\left( \\mathbf{x}_j^{(i)} \\right)^k,\n",
    "$$\n",
    "and $y^{(i)} = f \\left( \\mathbf{x}^{(i)} \\right) + \\epsilon^{(i)}$ where the $\\epsilon^{(i)}$ are iid with $Var(\\epsilon^{(i)}) = \\sigma^2 \\; \\forall i \\in \\{1,...,n\\}$."
   ]
  },
  {
   "cell_type": "markdown",
   "id": "88bce05b",
   "metadata": {},
   "source": [
    "> a) For each of the following situations, indicate whether we would generally expect the performance of a flexible\n",
    "polynomial learner (high $d$) to be better or worse than an inflexible one (low $d$). Justify your answer.\n",
    ">> (i) The sample size $n$ is extremely large, and the number of features $p$ is small. <br>\n",
    ">> (ii) The number of features $p$ is extremely large, and the number of observations $n$ is small. <br>\n",
    ">> (iii) The true relationship between the features and the response is highly non-linear. <br>\n",
    ">> (iv) The variance of the error terms, $\\sigma^2$, is extremely high.\n",
    "\n",
    "> **\\# Entering your answer here:**"
   ]
  },
  {
   "cell_type": "markdown",
   "id": "c609a7c3",
   "metadata": {},
   "source": [
    "> b) Are overfitting and underfitting properties of a learner or of a fixed model? Explain your answer.\n",
    "\n",
    "> **\\# Entering your answer here:**"
   ]
  },
  {
   "cell_type": "markdown",
   "id": "a33cebe6",
   "metadata": {},
   "source": [
    "> c) Should we aim to completely avoid both overfitting and underfitting?\n",
    "\n",
    "> **\\# Entering your answer here:**"
   ]
  },
  {
   "cell_type": "markdown",
   "id": "bb7dd93d",
   "metadata": {},
   "source": [
    "## Exercise 2: Resampling strategies"
   ]
  },
  {
   "cell_type": "markdown",
   "id": "5ca487b7",
   "metadata": {},
   "source": [
    "> a) Why would we apply resampling rather than a single holdout split?\n",
    "\n",
    "> **\\# Entering your answer here:**"
   ]
  },
  {
   "cell_type": "markdown",
   "id": "086f9397",
   "metadata": {},
   "source": [
    "> b) Classify the `german_credit` data into solvent and insolvent debtors using logistic regression. Compute the\n",
    "training error w.r.t. MCE."
   ]
  },
  {
   "cell_type": "markdown",
   "id": "a2c7a878",
   "metadata": {},
   "source": [
    "<div class=\"alert alert-block alert-info\">\n",
    "    <b>Python Hint:</b>  Read the already preprocessed file <a href=\"https://github.com/slds-lmu/lecture_i2ml/blob/master/exercises/data/german_credit_for_py.csv\"><code>german_credit_for_py.csv</code></a>.<br>\n",
    "</div>"
   ]
  },
  {
   "cell_type": "code",
   "execution_count": null,
   "id": "582a28c4",
   "metadata": {},
   "outputs": [],
   "source": [
    "# Entering your code here:"
   ]
  },
  {
   "cell_type": "markdown",
   "id": "d7767419",
   "metadata": {},
   "source": [
    "> c) In order to evaluate your learner, compare test MCE using\n",
    ">> (i) three times ten-fold cross validation (3x10-CV) <br>\n",
    ">> (ii) 10x3-CV <br>\n",
    ">> (iii) 3x10-CV with stratification for the feature `foreign_worker` to ensure equal representation in all folds <br>\n",
    ">> (iv) a single holdout split with $90\\%$ training data"
   ]
  },
  {
   "cell_type": "markdown",
   "id": "0a9c9f8e",
   "metadata": {},
   "source": [
    "<div class=\"alert alert-block alert-info\">\n",
    "    <b>R Hint:</b>  you will need <code>rsmp</code>, <code>resample</code> and <code>aggregate</code>. <br>\n",
    "    <b>Python Hint:</b> you will need <code>RepeatedKFold</code>, <code>RepeatedStratifiedKFold</code>, and <code>train_test_split</code>. <br>\n",
    "</div>"
   ]
  },
  {
   "cell_type": "code",
   "execution_count": null,
   "id": "2091102d",
   "metadata": {},
   "outputs": [],
   "source": [
    "# Entering your code here:"
   ]
  },
  {
   "cell_type": "markdown",
   "id": "9f12230c",
   "metadata": {},
   "source": [
    "> d) Discuss and compare your findings from c) and compare them to the training error from b).\n",
    "\n",
    "> **\\# Entering your answer here:**"
   ]
  },
  {
   "cell_type": "markdown",
   "id": "7bf9bb5e",
   "metadata": {},
   "source": [
    "> e) Would you consider LOO-CV to be a good alternative?\n",
    "\n",
    "> **\\# Entering your answer here:**"
   ]
  }
 ],
 "metadata": {
  "kernelspec": {
   "display_name": "python-i2ml",
   "language": "python",
   "name": "python-i2ml"
  },
  "language_info": {
   "codemirror_mode": {
    "name": "ipython",
    "version": 3
   },
   "file_extension": ".py",
   "mimetype": "text/x-python",
   "name": "python",
   "nbconvert_exporter": "python",
   "pygments_lexer": "ipython3",
   "version": "3.10.12"
  }
 },
 "nbformat": 4,
 "nbformat_minor": 5
}
