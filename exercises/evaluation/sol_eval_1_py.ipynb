{
 "cells": [
  {
   "cell_type": "markdown",
   "id": "266a123d",
   "metadata": {},
   "source": [
    "## Init: Import packages"
   ]
  },
  {
   "cell_type": "code",
   "execution_count": 1,
   "id": "3ca41b68",
   "metadata": {},
   "outputs": [],
   "source": [
    "# general\n",
    "import numpy as np\n",
    "import pandas as pd\n",
    "import math\n",
    "# plots\n",
    "import matplotlib.pyplot as plt\n",
    "#sklearn\n",
    "from sklearn.linear_model import LinearRegression\n",
    "from sklearn.preprocessing import PolynomialFeatures\n",
    "from sklearn.metrics import mean_squared_error\n",
    "from sklearn.model_selection import train_test_split\n",
    "# from sklearn.datasets import load_boston"
   ]
  },
  {
   "cell_type": "markdown",
   "id": "ba043b79",
   "metadata": {},
   "source": [
    "## Solution 1: Evaluating regression learners"
   ]
  },
  {
   "cell_type": "markdown",
   "id": "5a5f5834",
   "metadata": {},
   "source": [
    "### a, b) "
   ]
  },
  {
   "cell_type": "markdown",
   "id": "1e9be2a5",
   "metadata": {},
   "source": [
    "See sol_eval_1.pdf"
   ]
  },
  {
   "cell_type": "markdown",
   "id": "2f0fd62c",
   "metadata": {},
   "source": [
    "### c) "
   ]
  },
  {
   "cell_type": "markdown",
   "id": "d6c38b61",
   "metadata": {},
   "source": [
    " We fit the polynomial and linear learner and then compute the squared and absolute differences between their\n",
    "respective predictions and the true target values:"
   ]
  },
  {
   "cell_type": "code",
   "execution_count": 2,
   "id": "36da4b69",
   "metadata": {},
   "outputs": [
    {
     "name": "stdout",
     "output_type": "stream",
     "text": [
      "          y          x\n",
      "0  7.128700  10.000000\n",
      "1  6.549227  10.102041\n",
      "2  6.824611  10.204082\n",
      "3  6.763703  10.306122\n",
      "4  7.484359  10.408163\n"
     ]
    }
   ],
   "source": [
    "# define train data including outlier\n",
    "np.random.seed(43)\n",
    "x_train = np.linspace(10, 15, num = 50)\n",
    "y_train = 10 + 3 * np.sin(0.15 * math.pi * x_train) + np.random.normal(loc=0.0, scale=0.5, size= len(x_train))\n",
    "# Write dictionary for pandas Data Frame to save training data\n",
    "dic_train = {\"y\": y_train, \n",
    "             \"x\": x_train}\n",
    "data_train = pd.DataFrame(dic_train)\n",
    "print(data_train.head())"
   ]
  },
  {
   "cell_type": "code",
   "execution_count": 3,
   "id": "399774c1",
   "metadata": {},
   "outputs": [
    {
     "name": "stdout",
     "output_type": "stream",
     "text": [
      "          y          x\n",
      "0  6.863954  10.000000\n",
      "1  5.927873  10.102041\n",
      "2  6.616488  10.204082\n",
      "3  7.574020  10.306122\n",
      "4  6.861275  10.408163\n"
     ]
    }
   ],
   "source": [
    "# define test data\n",
    "np.random.seed(2238)\n",
    "x_test = np.linspace(10, 15, num = 50)\n",
    "y_test = 10 + 3 * np.sin(0.15 * math.pi * x_test) + np.random.normal(loc=0.0, scale=0.5, size= len(x_test))\n",
    "# Write dictionary for pandas Data Frame to save test data\n",
    "dic_test = {\"y\": y_test, \n",
    "            \"x\": x_test}\n",
    "data_test = pd.DataFrame(dic_test)\n",
    "print(data_test.head())"
   ]
  },
  {
   "cell_type": "code",
   "execution_count": 4,
   "id": "b4b5c7c9",
   "metadata": {},
   "outputs": [
    {
     "data": {
      "text/html": [
       "<style>#sk-container-id-1 {color: black;background-color: white;}#sk-container-id-1 pre{padding: 0;}#sk-container-id-1 div.sk-toggleable {background-color: white;}#sk-container-id-1 label.sk-toggleable__label {cursor: pointer;display: block;width: 100%;margin-bottom: 0;padding: 0.3em;box-sizing: border-box;text-align: center;}#sk-container-id-1 label.sk-toggleable__label-arrow:before {content: \"▸\";float: left;margin-right: 0.25em;color: #696969;}#sk-container-id-1 label.sk-toggleable__label-arrow:hover:before {color: black;}#sk-container-id-1 div.sk-estimator:hover label.sk-toggleable__label-arrow:before {color: black;}#sk-container-id-1 div.sk-toggleable__content {max-height: 0;max-width: 0;overflow: hidden;text-align: left;background-color: #f0f8ff;}#sk-container-id-1 div.sk-toggleable__content pre {margin: 0.2em;color: black;border-radius: 0.25em;background-color: #f0f8ff;}#sk-container-id-1 input.sk-toggleable__control:checked~div.sk-toggleable__content {max-height: 200px;max-width: 100%;overflow: auto;}#sk-container-id-1 input.sk-toggleable__control:checked~label.sk-toggleable__label-arrow:before {content: \"▾\";}#sk-container-id-1 div.sk-estimator input.sk-toggleable__control:checked~label.sk-toggleable__label {background-color: #d4ebff;}#sk-container-id-1 div.sk-label input.sk-toggleable__control:checked~label.sk-toggleable__label {background-color: #d4ebff;}#sk-container-id-1 input.sk-hidden--visually {border: 0;clip: rect(1px 1px 1px 1px);clip: rect(1px, 1px, 1px, 1px);height: 1px;margin: -1px;overflow: hidden;padding: 0;position: absolute;width: 1px;}#sk-container-id-1 div.sk-estimator {font-family: monospace;background-color: #f0f8ff;border: 1px dotted black;border-radius: 0.25em;box-sizing: border-box;margin-bottom: 0.5em;}#sk-container-id-1 div.sk-estimator:hover {background-color: #d4ebff;}#sk-container-id-1 div.sk-parallel-item::after {content: \"\";width: 100%;border-bottom: 1px solid gray;flex-grow: 1;}#sk-container-id-1 div.sk-label:hover label.sk-toggleable__label {background-color: #d4ebff;}#sk-container-id-1 div.sk-serial::before {content: \"\";position: absolute;border-left: 1px solid gray;box-sizing: border-box;top: 0;bottom: 0;left: 50%;z-index: 0;}#sk-container-id-1 div.sk-serial {display: flex;flex-direction: column;align-items: center;background-color: white;padding-right: 0.2em;padding-left: 0.2em;position: relative;}#sk-container-id-1 div.sk-item {position: relative;z-index: 1;}#sk-container-id-1 div.sk-parallel {display: flex;align-items: stretch;justify-content: center;background-color: white;position: relative;}#sk-container-id-1 div.sk-item::before, #sk-container-id-1 div.sk-parallel-item::before {content: \"\";position: absolute;border-left: 1px solid gray;box-sizing: border-box;top: 0;bottom: 0;left: 50%;z-index: -1;}#sk-container-id-1 div.sk-parallel-item {display: flex;flex-direction: column;z-index: 1;position: relative;background-color: white;}#sk-container-id-1 div.sk-parallel-item:first-child::after {align-self: flex-end;width: 50%;}#sk-container-id-1 div.sk-parallel-item:last-child::after {align-self: flex-start;width: 50%;}#sk-container-id-1 div.sk-parallel-item:only-child::after {width: 0;}#sk-container-id-1 div.sk-dashed-wrapped {border: 1px dashed gray;margin: 0 0.4em 0.5em 0.4em;box-sizing: border-box;padding-bottom: 0.4em;background-color: white;}#sk-container-id-1 div.sk-label label {font-family: monospace;font-weight: bold;display: inline-block;line-height: 1.2em;}#sk-container-id-1 div.sk-label-container {text-align: center;}#sk-container-id-1 div.sk-container {/* jupyter's `normalize.less` sets `[hidden] { display: none; }` but bootstrap.min.css set `[hidden] { display: none !important; }` so we also need the `!important` here to be able to override the default hidden behavior on the sphinx rendered scikit-learn.org. See: https://github.com/scikit-learn/scikit-learn/issues/21755 */display: inline-block !important;position: relative;}#sk-container-id-1 div.sk-text-repr-fallback {display: none;}</style><div id=\"sk-container-id-1\" class=\"sk-top-container\"><div class=\"sk-text-repr-fallback\"><pre>LinearRegression()</pre><b>In a Jupyter environment, please rerun this cell to show the HTML representation or trust the notebook. <br />On GitHub, the HTML representation is unable to render, please try loading this page with nbviewer.org.</b></div><div class=\"sk-container\" hidden><div class=\"sk-item\"><div class=\"sk-estimator sk-toggleable\"><input class=\"sk-toggleable__control sk-hidden--visually\" id=\"sk-estimator-id-1\" type=\"checkbox\" checked><label for=\"sk-estimator-id-1\" class=\"sk-toggleable__label sk-toggleable__label-arrow\">LinearRegression</label><div class=\"sk-toggleable__content\"><pre>LinearRegression()</pre></div></div></div></div></div>"
      ],
      "text/plain": [
       "LinearRegression()"
      ]
     },
     "execution_count": 4,
     "metadata": {},
     "output_type": "execute_result"
    }
   ],
   "source": [
    "# train polynomial regression\n",
    "poly = PolynomialFeatures(degree = 21)\n",
    "x_train_poly = poly.fit_transform(x_train.reshape(-1, 1)) #reshaping necessary because single feature\n",
    "x_test_poly = poly.fit_transform(x_test.reshape(-1, 1)) #reshaping necessary because single feature\n",
    "poly_model = LinearRegression()\n",
    "poly_model.fit(x_train_poly, y_train)\n",
    "\n",
    "#train linear regression\n",
    "lm_model = LinearRegression()\n",
    "lm_model.fit(x_train.reshape(-1, 1), y_train) #reshaping necessary because single feature"
   ]
  },
  {
   "cell_type": "code",
   "execution_count": 5,
   "id": "210037ad",
   "metadata": {},
   "outputs": [
    {
     "name": "stdout",
     "output_type": "stream",
     "text": [
      "MAE for Polynomial and Linear fit:\n",
      "0    0.436762\n",
      "1    0.421898\n",
      "dtype: float64\n",
      "MSE for Polynomial and Linear fit:\n",
      "0    0.266721\n",
      "1    0.276253\n",
      "dtype: float64\n"
     ]
    }
   ],
   "source": [
    "# make predictions\n",
    "y_poly = poly_model.predict(x_test_poly)\n",
    "y_lm = lm_model.predict(x_test.reshape(-1, 1))\n",
    "\n",
    "# compute errors\n",
    "abs_differences = pd.DataFrame(np.column_stack([y_poly, y_lm])).apply(lambda y: abs(data_test.loc[:, 'y']-y)) #apply is componentwise\n",
    "errors_mse = abs_differences.apply(lambda x: x**2).mean() #** is power symbol\n",
    "errors_mae = abs_differences.mean()\n",
    "\n",
    "print(\"MAE for Polynomial and Linear fit:\", errors_mae, sep='\\n')\n",
    "print(\"MSE for Polynomial and Linear fit:\", errors_mse, sep='\\n')"
   ]
  },
  {
   "cell_type": "markdown",
   "id": "8cdd4550",
   "metadata": {},
   "source": [
    "The picture is inconclusive: based on MSE, we should prefer the complex polynomial model, while MAE tells us\n",
    "to pick the linear one. It is important to understand that the choices of inner and outer loss functions encode our\n",
    "requirements and may have substantial impact on the result. Our learners differ strongly in their complexity:\n",
    "we have an extremely flexible polynomial and a very robust (though perhaps underfitting) linear one. If, for\n",
    "example, our test data contains an extreme point far from the remaining observations, the polynomial model\n",
    "might be able to fit it fairly well, while the LM incurs a large MSE because the distance to this point enters\n",
    "quadratically. The MAE, on the other hand, is more concerned with small residuals, and there, our LM fares\n",
    "better. Here, following the MAE assessment would signify preference for a robust model."
   ]
  },
  {
   "cell_type": "markdown",
   "id": "f6596629",
   "metadata": {},
   "source": [
    "However, we must keep in mind that our performance evaluation is based on a single holdout split, which is\n",
    "not advisable in general and particularly deceptive with so little data. For different test data we quickly get\n",
    "in situations where the polynomial has both worse MSE and MAE – after all, slapping a learner with 21 + 1\n",
    "learnable parameters on a 50-points data set should strike you as a rather bad idea."
   ]
  },
  {
   "cell_type": "markdown",
   "id": "437c8a3b",
   "metadata": {},
   "source": [
    "Take-home message: the choice of our performance metric matters, and making decisions based on a single\n",
    "train-test split is risky in many data settings."
   ]
  },
  {
   "cell_type": "markdown",
   "id": "7f83b674",
   "metadata": {},
   "source": [
    "## Solution 2: Importance of train-test split"
   ]
  },
  {
   "cell_type": "markdown",
   "id": "c489ac56",
   "metadata": {},
   "source": [
    "### a)"
   ]
  },
  {
   "cell_type": "markdown",
   "id": "06d3445b",
   "metadata": {},
   "source": [
    "Get the data, define a task and corresponding train-test split, and predict with trained model:"
   ]
  },
  {
   "cell_type": "code",
   "execution_count": 6,
   "id": "dd476438",
   "metadata": {},
   "outputs": [
    {
     "data": {
      "text/html": [
       "<div>\n",
       "<style scoped>\n",
       "    .dataframe tbody tr th:only-of-type {\n",
       "        vertical-align: middle;\n",
       "    }\n",
       "\n",
       "    .dataframe tbody tr th {\n",
       "        vertical-align: top;\n",
       "    }\n",
       "\n",
       "    .dataframe thead th {\n",
       "        text-align: right;\n",
       "    }\n",
       "</style>\n",
       "<table border=\"1\" class=\"dataframe\">\n",
       "  <thead>\n",
       "    <tr style=\"text-align: right;\">\n",
       "      <th></th>\n",
       "      <th>NOX</th>\n",
       "      <th>DIS</th>\n",
       "    </tr>\n",
       "  </thead>\n",
       "  <tbody>\n",
       "    <tr>\n",
       "      <th>0</th>\n",
       "      <td>0.668</td>\n",
       "      <td>1.1296</td>\n",
       "    </tr>\n",
       "    <tr>\n",
       "      <th>1</th>\n",
       "      <td>0.668</td>\n",
       "      <td>1.1370</td>\n",
       "    </tr>\n",
       "    <tr>\n",
       "      <th>2</th>\n",
       "      <td>0.631</td>\n",
       "      <td>1.1691</td>\n",
       "    </tr>\n",
       "    <tr>\n",
       "      <th>3</th>\n",
       "      <td>0.668</td>\n",
       "      <td>1.1742</td>\n",
       "    </tr>\n",
       "    <tr>\n",
       "      <th>4</th>\n",
       "      <td>0.659</td>\n",
       "      <td>1.1781</td>\n",
       "    </tr>\n",
       "  </tbody>\n",
       "</table>\n",
       "</div>"
      ],
      "text/plain": [
       "     NOX     DIS\n",
       "0  0.668  1.1296\n",
       "1  0.668  1.1370\n",
       "2  0.631  1.1691\n",
       "3  0.668  1.1742\n",
       "4  0.659  1.1781"
      ]
     },
     "execution_count": 6,
     "metadata": {},
     "output_type": "execute_result"
    }
   ],
   "source": [
    "# boston housing from original source\n",
    "data_url = \"http://lib.stat.cmu.edu/datasets/boston\"\n",
    "raw_df = pd.read_csv(data_url, sep=\"\\s+\", skiprows=22, header=None)\n",
    "data = np.hstack([raw_df.values[::2, :], raw_df.values[1::2, :2]])\n",
    "boston = pd.DataFrame(data[:,np.r_[4,7]], columns= [\"NOX\", \"DIS\"])\n",
    "boston = boston.sort_values(\"DIS\") # sort for \"DIS\", does not reset index\n",
    "boston.reset_index(drop = True, inplace = True)\n",
    "\n",
    "# load_boston() deprecated, but still functional in our sklearn version\n",
    "# boston_dataset = load_boston()\n",
    "# boston = pd.DataFrame(boston_dataset.data, columns=boston_dataset.feature_names).loc[:, [\"DIS\", \"NOX\"]]\n",
    "\n",
    "boston.head()"
   ]
  },
  {
   "cell_type": "code",
   "execution_count": 7,
   "id": "43a4f040",
   "metadata": {},
   "outputs": [],
   "source": [
    "# Seperate target and feature for test and training set\n",
    "nox = boston.loc[:,[\"NOX\"]]\n",
    "dis = boston.loc[:,[\"DIS\"]]\n",
    "\n",
    "X_train = dis.loc[:9,]\n",
    "X_test = dis.loc[10:,] # index is also saved, thus index starts in X_test at 10, not 0\n",
    "\n",
    "y_train = nox.loc[:9,]\n",
    "y_test = nox.loc[10:,]"
   ]
  },
  {
   "cell_type": "code",
   "execution_count": 8,
   "id": "538056cc",
   "metadata": {},
   "outputs": [
    {
     "name": "stdout",
     "output_type": "stream",
     "text": [
      "MSE of test data:  1.5245119659277129\n"
     ]
    }
   ],
   "source": [
    "#train linear learner\n",
    "lm_boston = LinearRegression()\n",
    "lm_boston.fit(X = X_train, y = y_train)\n",
    "\n",
    "pred = lm_boston.predict(X_test)\n",
    "\n",
    "print(\"MSE of test data: \", mean_squared_error(y_test, pred))"
   ]
  },
  {
   "cell_type": "markdown",
   "id": "d67aaff5",
   "metadata": {},
   "source": [
    "### b) "
   ]
  },
  {
   "cell_type": "markdown",
   "id": "4b85692d",
   "metadata": {},
   "source": [
    "See sol_eval_1.pdf"
   ]
  },
  {
   "cell_type": "markdown",
   "id": "4a3a122d",
   "metadata": {},
   "source": [
    "### c)"
   ]
  },
  {
   "cell_type": "markdown",
   "id": "3eb905b9",
   "metadata": {},
   "source": [
    "We repeat the above procedure for different train-test splits like so:\n"
   ]
  },
  {
   "cell_type": "code",
   "execution_count": 9,
   "id": "91d76df1",
   "metadata": {},
   "outputs": [],
   "source": [
    "split_ratio = np.linspace(0.1, 0.9, num = 9)\n",
    "\n",
    "result = pd.DataFrame()\n",
    "for i in range(10):\n",
    "    err = []\n",
    "    for split in split_ratio:\n",
    "        X_train, X_test, y_train, y_test = train_test_split(dis, nox, train_size = split, random_state=i+10)\n",
    "        lm_boston.fit(X = X_train, y = y_train)\n",
    "        pred = lm_boston.predict(X_test)\n",
    "        err.append(mean_squared_error(y_test, pred))\n",
    "    result[i] = err\n",
    "    \n",
    "errors = result.transpose()\n",
    "errors.columns = [\"0.1\", \"0.2\", \"0.3\", \"0.4\", \"0.5\", \"0.6\", \"0.7\", \"0.8\", \"0.9\"]"
   ]
  },
  {
   "cell_type": "code",
   "execution_count": 10,
   "id": "846aa5d4",
   "metadata": {},
   "outputs": [
    {
     "data": {
      "image/png": "[encoded data removed]",
      "text/plain": [
       "<Figure size 800x550 with 1 Axes>"
      ]
     },
     "metadata": {},
     "output_type": "display_data"
    }
   ],
   "source": [
    "# plot your errors\n",
    "# instantiate plot\n",
    "fig = plt.figure(figsize =(8, 5.5))\n",
    "# Creating axes instance\n",
    "ax = fig.add_axes([0, 0, 1, 1])\n",
    "# Creating plot\n",
    "bp = ax.boxplot(errors)\n",
    "# x-axis labels\n",
    "ax.set_xticklabels([\"0.1\", \"0.2\", \"0.3\", \"0.4\", \"0.5\", \"0.6\", \"0.7\", \"0.8\", \"0.9\"])\n",
    "# Adding title\n",
    "plt.title(\"MSE of Linear Model for different test set sizes\", size=20)\n",
    "plt.xlabel('train split size', size=16)\n",
    "plt.ylabel('MSE', size=16)\n",
    "# show plot\n",
    "plt.show()"
   ]
  }
 ],
 "metadata": {
  "kernelspec": {
   "display_name": "python-i2ml",
   "language": "python",
   "name": "python-i2ml"
  },
  "language_info": {
   "codemirror_mode": {
    "name": "ipython",
    "version": 3
   },
   "file_extension": ".py",
   "mimetype": "text/x-python",
   "name": "python",
   "nbconvert_exporter": "python",
   "pygments_lexer": "ipython3",
   "version": "3.10.12"
  }
 },
 "nbformat": 4,
 "nbformat_minor": 5
}
